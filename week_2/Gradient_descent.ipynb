{
 "cells": [
  {
   "cell_type": "code",
   "id": "initial_id",
   "metadata": {
    "collapsed": true,
    "ExecuteTime": {
     "end_time": "2025-08-26T08:22:35.936769Z",
     "start_time": "2025-08-26T08:22:35.538864Z"
    }
   },
   "source": [
    "import math\n",
    "import numpy as np\n",
    "import matplotlib.pyplot as plt\n",
    "import time\n",
    "\n",
    "np.random.seed(42)\n",
    "\n",
    "eps = 1e-3\n"
   ],
   "outputs": [],
   "execution_count": 1
  },
  {
   "metadata": {},
   "cell_type": "markdown",
   "source": [
    "# 1. GD cho hàm 1 biến\n",
    "* $f(x) = \\frac{1}{2} (x - 1)^{2} - 2$\n",
    "* $f'(x) = x - 1$"
   ],
   "id": "fbf76c69771b633d"
  },
  {
   "metadata": {
    "ExecuteTime": {
     "end_time": "2025-08-26T08:22:36.064518Z",
     "start_time": "2025-08-26T08:22:36.059199Z"
    }
   },
   "cell_type": "code",
   "source": [
    "def grad1(x):\n",
    "    return x - 1\n",
    "\n",
    "def cost1(x):\n",
    "    return 0.5*(x - 1)**2 - 2\n",
    "\n",
    "def my_gd1(eta, x0, max_iter = 100):\n",
    "    x = [x0]\n",
    "    for it in range(max_iter):\n",
    "        x_old = x[-1]\n",
    "        x_new = x_old - eta * grad1(x_old)\n",
    "        x.append(x_new)\n",
    "\n",
    "        if abs(x_new - x_old) < eps:\n",
    "            return x, it + 1\n",
    "    return x, max_iter\n",
    "\n",
    "(x1, it1) = my_gd1(0.1, 0)\n",
    "print(f\"x* = {x1[-1]:.6f}, f(x*) = {cost1(x1[-1]):.6f}, obtained after {it1} iterations\")"
   ],
   "id": "a4ebeb9367fbb54f",
   "outputs": [
    {
     "name": "stdout",
     "output_type": "stream",
     "text": [
      "x* = 0.991272, f(x*) = -1.999962, obtained after 45 iterations\n"
     ]
    }
   ],
   "execution_count": 2
  },
  {
   "metadata": {},
   "cell_type": "markdown",
   "source": [
    "# 2. GD cho hàm nhiều biến:\n",
    "* $\\mathcal{L}(\\mathbf{w}) = \\frac{1}{2N}||\\mathbf{y} - \\bar{\\mathbf{X}}\\mathbf{w}||_2^2$\n",
    "* $\\nabla_{\\mathbf{w}}\\mathcal{L}(\\mathbf{w}) = \\frac{1}{N}\\bar{\\mathbf{X}}^T(\\bar{\\mathbf{X}}\\mathbf{w} - \\mathbf{y})$"
   ],
   "id": "65103843ab81b1eb"
  },
  {
   "metadata": {},
   "cell_type": "markdown",
   "source": "### Tìm nghiệm tối ưu sử dụng GD\n",
   "id": "d855e0e4b85d14a8"
  },
  {
   "metadata": {
    "ExecuteTime": {
     "end_time": "2025-08-26T08:22:36.121240Z",
     "start_time": "2025-08-26T08:22:36.086023Z"
    }
   },
   "cell_type": "code",
   "source": [
    "X = np.random.rand(1000, 1)\n",
    "y = 4 + 3 * X + .2*np.random.randn(1000, 1) # noise added\n",
    "\n",
    "one = np.ones((X.shape[0],1))\n",
    "Xbar = np.concatenate((one, X), axis = 1)\n",
    "\n",
    "def grad2(w):\n",
    "    N = Xbar.shape[0]\n",
    "    return 1/N * Xbar.T.dot(Xbar.dot(w) - y)\n",
    "\n",
    "def cost2(w):\n",
    "    N = Xbar.shape[0]\n",
    "    return .5/N*np.linalg.norm(y - Xbar.dot(w), 2)**2\n",
    "\n",
    "def my_gd2(w_init, eta, max_iter = 1000):\n",
    "    w = [w_init]\n",
    "    costs = [cost2(w_init)]\n",
    "    for it in range(max_iter):\n",
    "        w_new = w[-1] - eta*grad2(w[-1])\n",
    "        w.append(w_new)\n",
    "        costs.append(cost2(w_new))\n",
    "\n",
    "        if np.linalg.norm(grad2(w_new))/len(w_new) < eps:\n",
    "            return w, it + 1, costs\n",
    "\n",
    "    return w, max_iter, costs\n",
    "\n",
    "(w2, it2, costs_batch) = my_gd2(np.array([[2], [1]]), 0.1)\n",
    "print(f\"w* = {w2[-1].T}, obtained after {it2} iterations\")"
   ],
   "id": "2e5e6fcb6580b46a",
   "outputs": [
    {
     "name": "stdout",
     "output_type": "stream",
     "text": [
      "w* = [[4.04863216 2.94303801]], obtained after 485 iterations\n"
     ]
    }
   ],
   "execution_count": 3
  },
  {
   "metadata": {},
   "cell_type": "markdown",
   "source": [
    "### Đối chiếu với nghiệm tối ưu sử dụng công thức\n",
    "* $\\mathbf{w} = \\mathbf{A}^{-1}\\mathbf{b} = (\\bar{\\mathbf{X}}^T\\bar{\\mathbf{X}})^{-1}\\bar{\\mathbf{X}}^T\\mathbf{y}$"
   ],
   "id": "76288a20b5a0cb82"
  },
  {
   "metadata": {
    "ExecuteTime": {
     "end_time": "2025-08-26T08:22:36.151365Z",
     "start_time": "2025-08-26T08:22:36.145020Z"
    }
   },
   "cell_type": "code",
   "source": [
    "A = np.dot(Xbar.T, Xbar)\n",
    "b = np.dot(Xbar.T, y)\n",
    "w_lr = np.dot(np.linalg.pinv(A), b)\n",
    "print(f\"w* = {w_lr.T}\")"
   ],
   "id": "5da3cc1df2769d85",
   "outputs": [
    {
     "name": "stdout",
     "output_type": "stream",
     "text": [
      "w* = [[4.03495605 2.96904297]]\n"
     ]
    }
   ],
   "execution_count": 4
  },
  {
   "metadata": {},
   "cell_type": "markdown",
   "source": [
    "# 3. GD + momentum, so sánh khi có / không momentum\n",
    "* $f(x) = x^2 + 10sin(x)$\n",
    "* $f'(x) = 2x + 10cos(x)$"
   ],
   "id": "a4b96dcb064cac6f"
  },
  {
   "metadata": {
    "ExecuteTime": {
     "end_time": "2025-08-26T08:22:36.203204Z",
     "start_time": "2025-08-26T08:22:36.194426Z"
    }
   },
   "cell_type": "code",
   "source": [
    "def grad3(x):\n",
    "    return 2*x + 10*np.cos(x)\n",
    "\n",
    "def cost3(x):\n",
    "    return x**2 + 10*np.sin(x)\n",
    "\n",
    "def gd_momentum(x_init, eta, gamma, max_iter=1000):\n",
    "    x = [float(x_init)]\n",
    "    v_old = 0.0\n",
    "    for it in range(max_iter):\n",
    "        v_new = gamma * v_old + eta * grad3(x[-1])\n",
    "        x_new = x[-1] - v_new\n",
    "        x.append(x_new)\n",
    "        v_old = v_new\n",
    "\n",
    "        if abs(grad3(x_new)) < eps:\n",
    "            return x, it + 1\n",
    "\n",
    "    return x, max_iter\n",
    "\n",
    "x3, it3 = gd_momentum(5, 0.1, 0)\n",
    "print(f\"GD without momentum: x = {x3[-1]:.6f}, obtained after {it3} iterations\")\n",
    "\n",
    "x3_, it3_ = gd_momentum(5, 0.1, 0.9)\n",
    "print(f\"GD  with   momentum: x = {x3_[-1]:.6f}, obtained after {it3_} iterations\")"
   ],
   "id": "da0657d395328116",
   "outputs": [
    {
     "name": "stdout",
     "output_type": "stream",
     "text": [
      "GD without momentum: x = 3.837359, obtained after 5 iterations\n",
      "GD  with   momentum: x = -1.306463, obtained after 148 iterations\n"
     ]
    }
   ],
   "execution_count": 5
  },
  {
   "metadata": {},
   "cell_type": "markdown",
   "source": "* Visualization",
   "id": "4b33b9bf5be48279"
  },
  {
   "metadata": {
    "ExecuteTime": {
     "end_time": "2025-08-26T08:22:36.481211Z",
     "start_time": "2025-08-26T08:22:36.234303Z"
    }
   },
   "cell_type": "code",
   "source": [
    "x_hist, it_hist = gd_momentum(5, 0.1, 0) # Không momentum\n",
    "x1_hist, it1_hist = gd_momentum(5, 0.1, 0.9) # Có momentum\n",
    "\n",
    "fig, axes = plt.subplots(1, 2, figsize=(14,5), sharey=True)\n",
    "\n",
    "x_vals = np.linspace(-5, 5, 400)\n",
    "cost_vals = cost3(x_vals)\n",
    "\n",
    "# Trường hợp không momentum\n",
    "axes[0].plot(x_vals, cost_vals, label='Cost function')\n",
    "axes[0].scatter(x_hist, [cost3(t) for t in x_hist], color='red', s=20, label='x updates (γ=0)')\n",
    "axes[0].plot(x_hist, [cost3(t) for t in x_hist], 'r--', alpha=0.7)\n",
    "axes[0].set_title('Không momentum (γ=0)')\n",
    "axes[0].set_xlabel('x')\n",
    "axes[0].set_ylabel('Cost')\n",
    "axes[0].grid(True)\n",
    "axes[0].legend()\n",
    "\n",
    "# Trường hợp có momentum\n",
    "axes[1].plot(x_vals, cost_vals, label='Cost function')\n",
    "axes[1].scatter(x1_hist, [cost3(t) for t in x1_hist], color='green', s=20, label='Theta updates (γ=0.9)')\n",
    "axes[1].plot(x1_hist, [cost3(t) for t in x1_hist], 'g--', alpha=0.7)\n",
    "axes[1].set_title('Có momentum (γ=0.9)')\n",
    "axes[1].set_xlabel('x')\n",
    "axes[1].grid(True)\n",
    "axes[1].legend()\n",
    "\n",
    "plt.suptitle('So sánh quá trình hội tụ có / không momentum', fontsize=14)\n",
    "plt.show()"
   ],
   "id": "64cec9f2d302c8bf",
   "outputs": [
    {
     "data": {
      "text/plain": [
       "<Figure size 1400x500 with 2 Axes>"
      ],
      "image/png": "[encoded data removed]"
     },
     "metadata": {},
     "output_type": "display_data"
    }
   ],
   "execution_count": 6
  },
  {
   "metadata": {},
   "cell_type": "markdown",
   "source": [
    "# 4. GD + Nesterov accelerated gradient (NAG), so sánh momentum vs NAG\n",
    "* $f(x) = x^2 + 10sin(x)$\n",
    "* $f'(x) = 2x + 10cos(x)$"
   ],
   "id": "2516de600d396715"
  },
  {
   "metadata": {
    "ExecuteTime": {
     "end_time": "2025-08-26T08:22:36.521805Z",
     "start_time": "2025-08-26T08:22:36.511702Z"
    }
   },
   "cell_type": "code",
   "source": [
    "def grad4(x):\n",
    "    return 2*x + 10*np.cos(x)\n",
    "\n",
    "def cost4(x):\n",
    "    return x**2 + 10*np.sin(x)\n",
    "\n",
    "def gd_nag(x_init, eta, gamma, max_iter=1000):\n",
    "    x = [float(x_init)]\n",
    "    v_old = 0.0\n",
    "    for it in range(max_iter):\n",
    "        # Lookahead position\n",
    "        lookahead_x = x[-1] - gamma * v_old\n",
    "        # Compute gradient at lookahead position\n",
    "        gradient = grad4(lookahead_x)\n",
    "        # Update velocity\n",
    "        v_new = gamma * v_old + eta * gradient\n",
    "        # Update parameters\n",
    "        x_new = x[-1] - v_new\n",
    "        x.append(x_new)\n",
    "        v_old = v_new\n",
    "\n",
    "        if abs(grad4(x_new)) < eps:\n",
    "            return x, it + 1\n",
    "\n",
    "    return x, max_iter\n",
    "x4, it4 = gd_nag(5, 0.1, 0.9)\n",
    "print(f\"GD with      NAG: x = {x4[-1]:.6f}, obtained after {it4} iterations\")\n",
    "\n",
    "x4_, it4_ = gd_momentum(5, 0.1, 0.9)\n",
    "print(f\"GD with momentum: x = {x4_[-1]:.6f}, obtained after {it4_} iterations\")"
   ],
   "id": "6ec9e38ec5de7fe4",
   "outputs": [
    {
     "name": "stdout",
     "output_type": "stream",
     "text": [
      "GD with      NAG: x = -1.306496, obtained after 20 iterations\n",
      "GD with momentum: x = -1.306463, obtained after 148 iterations\n"
     ]
    }
   ],
   "execution_count": 7
  },
  {
   "metadata": {},
   "cell_type": "markdown",
   "source": [
    "# 5. Stochastc Gradient Descent (SGD):\n",
    "* $\\mathcal{L}(\\mathbf{w}) = \\frac{1}{2N}||\\mathbf{y} - \\bar{\\mathbf{X}}\\mathbf{w}||_2^2 = \\frac{1}{2N} \\sum_{i=1}^{N} (y_i - \\mathbf{x}_i \\mathbf{w})^2$\n",
    "* $\\nabla_{\\mathbf{w}}\\mathcal{L}(\\mathbf{w}) = \\frac{1}{N}\\bar{\\mathbf{X}}^T(\\bar{\\mathbf{X}}\\mathbf{w} - \\mathbf{y}) = \\frac { 1 } { N } \\sum _ { i = 1 } ^ { N } { \\bf x } _ { i } ^ { T } ( { \\bf x } _ { i } { \\bf w } - y _ { i } )$\n"
   ],
   "id": "6e2170c4360e227b"
  },
  {
   "metadata": {
    "ExecuteTime": {
     "end_time": "2025-08-26T08:22:36.935355Z",
     "start_time": "2025-08-26T08:22:36.562784Z"
    }
   },
   "cell_type": "code",
   "source": [
    "def sgrad(w, i, rd_id):\n",
    "    true_i = rd_id[i]\n",
    "    xi = Xbar[true_i, :] # shape (2,)\n",
    "    yi = y[true_i]\n",
    "    a = np.dot(xi, w) - yi # scalar\n",
    "    return (xi*a).reshape(2, 1)\n",
    "\n",
    "def sgd(w_init, eta, max_iter=10):\n",
    "    w = [w_init]\n",
    "    costs = [cost2(w_init)]\n",
    "    w_last_check = w_init\n",
    "    iter_check_w = 10\n",
    "    N = X.shape[0]\n",
    "    count = 0\n",
    "    for it in range(max_iter):\n",
    "        # shuffle data\n",
    "        rd_id = np.random.permutation(N)\n",
    "        for i in range(N):\n",
    "            count += 1\n",
    "            gradient = sgrad(w[-1], i, rd_id)\n",
    "            w_new = w[-1] - eta * gradient\n",
    "            w.append(w_new)\n",
    "            costs.append(cost2(w_new))\n",
    "            if count % iter_check_w == 0:\n",
    "                w_this_check = w_new\n",
    "                if np.linalg.norm(w_this_check - w_last_check)/len(w_init) < eps:\n",
    "                    return w, count, costs\n",
    "                w_last_check = w_this_check\n",
    "    return w, max_iter * N, costs\n",
    "\n",
    "(w5, it5, costs_sgd) = sgd(np.array([[2], [1]]), 0.1)\n",
    "print(f\"w* = {w5[-1].T}, weight updates: {it5}\")"
   ],
   "id": "4cd861e972aa9924",
   "outputs": [
    {
     "name": "stdout",
     "output_type": "stream",
     "text": [
      "w* = [[3.95890072 2.93459069]], weight updates: 7480\n"
     ]
    }
   ],
   "execution_count": 8
  },
  {
   "metadata": {},
   "cell_type": "markdown",
   "source": "# 6. Mini-batch Gradient Descent",
   "id": "7b707be2928444cb"
  },
  {
   "metadata": {
    "ExecuteTime": {
     "end_time": "2025-08-26T08:22:37.001035Z",
     "start_time": "2025-08-26T08:22:36.969909Z"
    }
   },
   "cell_type": "code",
   "source": [
    "def mbgrad(w, batch_indices):\n",
    "    batch_size = len(batch_indices)\n",
    "    X_batch = Xbar[batch_indices]  # shape: (batch_size, 2)\n",
    "    y_batch = y[batch_indices]     # shape: (batch_size, 1)\n",
    "\n",
    "    a = X_batch.dot(w) - y_batch  # shape: (batch_size, 1)\n",
    "    return (1/batch_size) * X_batch.T.dot(a)  # shape: (2, 1)\n",
    "\n",
    "def mbgd(w_init, eta, batch_size=32, max_epochs=10):\n",
    "    w = [w_init]\n",
    "    costs = [cost2(w_init)]\n",
    "    w_last_check = w_init\n",
    "    check_interval = 10\n",
    "    N = X.shape[0]\n",
    "    count = 0\n",
    "\n",
    "    for epoch in range(max_epochs):\n",
    "        # Shuffle data\n",
    "        rd_id = np.random.permutation(N)\n",
    "\n",
    "        # Chia thành các mini-batches\n",
    "        for i in range(0, N, batch_size):\n",
    "            if i + batch_size > N:\n",
    "                continue  # Bỏ qua batch cuối nếu không đủ size\n",
    "\n",
    "            batch_indices = rd_id[i:i+batch_size]\n",
    "            count += 1\n",
    "\n",
    "            g = mbgrad(w[-1], batch_indices)\n",
    "            w_new = w[-1] - eta * g\n",
    "            w.append(w_new)\n",
    "            costs.append(cost2(w_new))\n",
    "\n",
    "            if count % check_interval == 0:\n",
    "                if np.linalg.norm(w_new - w_last_check)/len(w_init) < eps:\n",
    "                    return w, count * batch_size, costs\n",
    "                w_last_check = w_new\n",
    "    return w, count * batch_size, costs\n",
    "\n",
    "(w6, it6, costs_mb) = mbgd(np.array([[2], [1]]), 0.1)\n",
    "print(f\"w* = {w6[-1].T}, weight updates: {it6}\")"
   ],
   "id": "95bd39ea478036e6",
   "outputs": [
    {
     "name": "stdout",
     "output_type": "stream",
     "text": [
      "w* = [[4.08119391 2.88132108]], weight updates: 9920\n"
     ]
    }
   ],
   "execution_count": 9
  }
 ],
 "metadata": {
  "kernelspec": {
   "display_name": "Python 3",
   "language": "python",
   "name": "python3"
  },
  "language_info": {
   "codemirror_mode": {
    "name": "ipython",
    "version": 2
   },
   "file_extension": ".py",
   "mimetype": "text/x-python",
   "name": "python",
   "nbconvert_exporter": "python",
   "pygments_lexer": "ipython2",
   "version": "2.7.6"
  }
 },
 "nbformat": 4,
 "nbformat_minor": 5
}
