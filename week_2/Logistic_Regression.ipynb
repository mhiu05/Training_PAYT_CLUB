{
 "cells": [
  {
   "cell_type": "code",
   "id": "initial_id",
   "metadata": {
    "collapsed": true,
    "ExecuteTime": {
     "end_time": "2025-08-27T01:54:12.059623Z",
     "start_time": "2025-08-27T01:54:10.847075Z"
    }
   },
   "source": [
    "import numpy as np\n",
    "import pandas as pd\n",
    "from sklearn.model_selection import train_test_split\n",
    "from sklearn import datasets\n",
    "from sklearn.metrics import accuracy_score\n",
    "from sklearn.linear_model import LogisticRegression as SklearnLogisticRegression"
   ],
   "outputs": [],
   "execution_count": 1
  },
  {
   "metadata": {},
   "cell_type": "markdown",
   "source": "## Logistic Regression from scratch",
   "id": "b2aa8abfa73de4da"
  },
  {
   "metadata": {
    "ExecuteTime": {
     "end_time": "2025-08-27T01:54:12.187627Z",
     "start_time": "2025-08-27T01:54:12.181346Z"
    }
   },
   "cell_type": "code",
   "source": [
    "class LogisticRegression:\n",
    "    def __init__(self, learning_rate=0.01, n_iters=1000):\n",
    "        self.learning_rate = learning_rate\n",
    "        self.n_iters = n_iters\n",
    "        self.weights = None\n",
    "        self.bias = None\n",
    "\n",
    "    def sigmoid(self, z):\n",
    "        return 1 / (1 + np.exp(-z))\n",
    "\n",
    "    def fit(self, X, y):\n",
    "        n_samples, n_features = X.shape\n",
    "        self.weights = np.zeros(n_features)\n",
    "        self.bias = 0\n",
    "\n",
    "        # Gradient Descent\n",
    "        for _ in range(self.n_iters):\n",
    "            # Tính toán mô hình tuyến tính\n",
    "            linear_model = np.dot(X, self.weights) + self.bias\n",
    "            # Áp dụng hàm sigmoid để có xác suất\n",
    "            y_predicted = self.sigmoid(linear_model)\n",
    "\n",
    "            # Tính toán đạo hàm (gradients)\n",
    "            dw = (1 / n_samples) * np.dot(X.T, (y_predicted - y))\n",
    "            db = (1 / n_samples) * np.sum(y_predicted - y)\n",
    "\n",
    "            # Cập nhật trọng số\n",
    "            self.weights -= self.learning_rate * dw\n",
    "            self.bias -= self.learning_rate * db\n",
    "\n",
    "    def predict_proba(self, X):\n",
    "        linear_model = np.dot(X, self.weights) + self.bias\n",
    "        return self.sigmoid(linear_model)\n",
    "\n",
    "    def predict(self, X, threshold=0.5):\n",
    "        probas = self.predict_proba(X)\n",
    "        return np.array([1 if i > threshold else 0 for i in probas])"
   ],
   "id": "a43aee4d7e982fc9",
   "outputs": [],
   "execution_count": 2
  },
  {
   "metadata": {},
   "cell_type": "markdown",
   "source": "* dataset",
   "id": "e0abf85d67595259"
  },
  {
   "metadata": {
    "ExecuteTime": {
     "end_time": "2025-08-27T01:54:12.227287Z",
     "start_time": "2025-08-27T01:54:12.199018Z"
    }
   },
   "cell_type": "code",
   "source": [
    "bc = datasets.load_breast_cancer()\n",
    "X, y = bc.data, bc.target\n",
    "\n",
    "bc_df = pd.DataFrame(data=X, columns=bc.feature_names)\n",
    "bc_df['target'] = y\n",
    "bc_df.sample(5)"
   ],
   "id": "f6f204408884bbe5",
   "outputs": [
    {
     "data": {
      "text/plain": [
       "     mean radius  mean texture  mean perimeter  mean area  mean smoothness  \\\n",
       "246        13.20         17.43           84.13      541.6          0.07215   \n",
       "368        21.71         17.25          140.90     1546.0          0.09384   \n",
       "447        14.80         17.66           95.88      674.8          0.09179   \n",
       "44         13.17         21.81           85.42      531.5          0.09714   \n",
       "268        12.87         16.21           82.38      512.2          0.09425   \n",
       "\n",
       "     mean compactness  mean concavity  mean concave points  mean symmetry  \\\n",
       "246           0.04524         0.04336              0.01105         0.1487   \n",
       "368           0.08562         0.11680              0.08465         0.1717   \n",
       "447           0.08890         0.04069              0.02260         0.1893   \n",
       "44            0.10470         0.08259              0.05252         0.1746   \n",
       "268           0.06219         0.03900              0.01615         0.2010   \n",
       "\n",
       "     mean fractal dimension  ...  worst texture  worst perimeter  worst area  \\\n",
       "246                 0.05635  ...          27.82            88.28       602.0   \n",
       "368                 0.05054  ...          26.44           199.50      3143.0   \n",
       "447                 0.05886  ...          22.74           105.90       829.5   \n",
       "44                  0.06177  ...          29.89           105.50       740.7   \n",
       "268                 0.05769  ...          23.64            89.27       597.5   \n",
       "\n",
       "     worst smoothness  worst compactness  worst concavity  \\\n",
       "246            0.1101             0.1508           0.2298   \n",
       "368            0.1363             0.1628           0.2861   \n",
       "447            0.1226             0.1881           0.2060   \n",
       "44             0.1503             0.3904           0.3728   \n",
       "268            0.1256             0.1808           0.1992   \n",
       "\n",
       "     worst concave points  worst symmetry  worst fractal dimension  target  \n",
       "246               0.04970          0.2767                  0.07198       1  \n",
       "368               0.18200          0.2510                  0.06494       0  \n",
       "447               0.08308          0.3600                  0.07285       1  \n",
       "44                0.16070          0.3693                  0.09618       0  \n",
       "268               0.05780          0.3604                  0.07062       1  \n",
       "\n",
       "[5 rows x 31 columns]"
      ],
      "text/html": [
       "<div>\n",
       "<style scoped>\n",
       "    .dataframe tbody tr th:only-of-type {\n",
       "        vertical-align: middle;\n",
       "    }\n",
       "\n",
       "    .dataframe tbody tr th {\n",
       "        vertical-align: top;\n",
       "    }\n",
       "\n",
       "    .dataframe thead th {\n",
       "        text-align: right;\n",
       "    }\n",
       "</style>\n",
       "<table border=\"1\" class=\"dataframe\">\n",
       "  <thead>\n",
       "    <tr style=\"text-align: right;\">\n",
       "      <th></th>\n",
       "      <th>mean radius</th>\n",
       "      <th>mean texture</th>\n",
       "      <th>mean perimeter</th>\n",
       "      <th>mean area</th>\n",
       "      <th>mean smoothness</th>\n",
       "      <th>mean compactness</th>\n",
       "      <th>mean concavity</th>\n",
       "      <th>mean concave points</th>\n",
       "      <th>mean symmetry</th>\n",
       "      <th>mean fractal dimension</th>\n",
       "      <th>...</th>\n",
       "      <th>worst texture</th>\n",
       "      <th>worst perimeter</th>\n",
       "      <th>worst area</th>\n",
       "      <th>worst smoothness</th>\n",
       "      <th>worst compactness</th>\n",
       "      <th>worst concavity</th>\n",
       "      <th>worst concave points</th>\n",
       "      <th>worst symmetry</th>\n",
       "      <th>worst fractal dimension</th>\n",
       "      <th>target</th>\n",
       "    </tr>\n",
       "  </thead>\n",
       "  <tbody>\n",
       "    <tr>\n",
       "      <th>246</th>\n",
       "      <td>13.20</td>\n",
       "      <td>17.43</td>\n",
       "      <td>84.13</td>\n",
       "      <td>541.6</td>\n",
       "      <td>0.07215</td>\n",
       "      <td>0.04524</td>\n",
       "      <td>0.04336</td>\n",
       "      <td>0.01105</td>\n",
       "      <td>0.1487</td>\n",
       "      <td>0.05635</td>\n",
       "      <td>...</td>\n",
       "      <td>27.82</td>\n",
       "      <td>88.28</td>\n",
       "      <td>602.0</td>\n",
       "      <td>0.1101</td>\n",
       "      <td>0.1508</td>\n",
       "      <td>0.2298</td>\n",
       "      <td>0.04970</td>\n",
       "      <td>0.2767</td>\n",
       "      <td>0.07198</td>\n",
       "      <td>1</td>\n",
       "    </tr>\n",
       "    <tr>\n",
       "      <th>368</th>\n",
       "      <td>21.71</td>\n",
       "      <td>17.25</td>\n",
       "      <td>140.90</td>\n",
       "      <td>1546.0</td>\n",
       "      <td>0.09384</td>\n",
       "      <td>0.08562</td>\n",
       "      <td>0.11680</td>\n",
       "      <td>0.08465</td>\n",
       "      <td>0.1717</td>\n",
       "      <td>0.05054</td>\n",
       "      <td>...</td>\n",
       "      <td>26.44</td>\n",
       "      <td>199.50</td>\n",
       "      <td>3143.0</td>\n",
       "      <td>0.1363</td>\n",
       "      <td>0.1628</td>\n",
       "      <td>0.2861</td>\n",
       "      <td>0.18200</td>\n",
       "      <td>0.2510</td>\n",
       "      <td>0.06494</td>\n",
       "      <td>0</td>\n",
       "    </tr>\n",
       "    <tr>\n",
       "      <th>447</th>\n",
       "      <td>14.80</td>\n",
       "      <td>17.66</td>\n",
       "      <td>95.88</td>\n",
       "      <td>674.8</td>\n",
       "      <td>0.09179</td>\n",
       "      <td>0.08890</td>\n",
       "      <td>0.04069</td>\n",
       "      <td>0.02260</td>\n",
       "      <td>0.1893</td>\n",
       "      <td>0.05886</td>\n",
       "      <td>...</td>\n",
       "      <td>22.74</td>\n",
       "      <td>105.90</td>\n",
       "      <td>829.5</td>\n",
       "      <td>0.1226</td>\n",
       "      <td>0.1881</td>\n",
       "      <td>0.2060</td>\n",
       "      <td>0.08308</td>\n",
       "      <td>0.3600</td>\n",
       "      <td>0.07285</td>\n",
       "      <td>1</td>\n",
       "    </tr>\n",
       "    <tr>\n",
       "      <th>44</th>\n",
       "      <td>13.17</td>\n",
       "      <td>21.81</td>\n",
       "      <td>85.42</td>\n",
       "      <td>531.5</td>\n",
       "      <td>0.09714</td>\n",
       "      <td>0.10470</td>\n",
       "      <td>0.08259</td>\n",
       "      <td>0.05252</td>\n",
       "      <td>0.1746</td>\n",
       "      <td>0.06177</td>\n",
       "      <td>...</td>\n",
       "      <td>29.89</td>\n",
       "      <td>105.50</td>\n",
       "      <td>740.7</td>\n",
       "      <td>0.1503</td>\n",
       "      <td>0.3904</td>\n",
       "      <td>0.3728</td>\n",
       "      <td>0.16070</td>\n",
       "      <td>0.3693</td>\n",
       "      <td>0.09618</td>\n",
       "      <td>0</td>\n",
       "    </tr>\n",
       "    <tr>\n",
       "      <th>268</th>\n",
       "      <td>12.87</td>\n",
       "      <td>16.21</td>\n",
       "      <td>82.38</td>\n",
       "      <td>512.2</td>\n",
       "      <td>0.09425</td>\n",
       "      <td>0.06219</td>\n",
       "      <td>0.03900</td>\n",
       "      <td>0.01615</td>\n",
       "      <td>0.2010</td>\n",
       "      <td>0.05769</td>\n",
       "      <td>...</td>\n",
       "      <td>23.64</td>\n",
       "      <td>89.27</td>\n",
       "      <td>597.5</td>\n",
       "      <td>0.1256</td>\n",
       "      <td>0.1808</td>\n",
       "      <td>0.1992</td>\n",
       "      <td>0.05780</td>\n",
       "      <td>0.3604</td>\n",
       "      <td>0.07062</td>\n",
       "      <td>1</td>\n",
       "    </tr>\n",
       "  </tbody>\n",
       "</table>\n",
       "<p>5 rows × 31 columns</p>\n",
       "</div>"
      ]
     },
     "execution_count": 3,
     "metadata": {},
     "output_type": "execute_result"
    }
   ],
   "execution_count": 3
  },
  {
   "metadata": {},
   "cell_type": "markdown",
   "source": "* Train model",
   "id": "5f6cc35c9b0701bf"
  },
  {
   "metadata": {
    "ExecuteTime": {
     "end_time": "2025-08-27T01:54:12.293029Z",
     "start_time": "2025-08-27T01:54:12.287702Z"
    }
   },
   "cell_type": "code",
   "source": "X_train, X_test, y_train, y_test = train_test_split(X, y, test_size=0.2, random_state=42)",
   "id": "affb95ea58f4889c",
   "outputs": [],
   "execution_count": 4
  },
  {
   "metadata": {
    "ExecuteTime": {
     "end_time": "2025-08-27T01:54:12.416526Z",
     "start_time": "2025-08-27T01:54:12.378799Z"
    }
   },
   "cell_type": "code",
   "source": [
    "from sklearn.preprocessing import StandardScaler\n",
    "scaler = StandardScaler()\n",
    "X_train_scaled = scaler.fit_transform(X_train)\n",
    "X_test_scaled = scaler.transform(X_test)\n",
    "\n",
    "model_scratch = LogisticRegression(learning_rate=0.001, n_iters=1000)\n",
    "model_scratch.fit(X_train_scaled, y_train)\n",
    "predictions_scratch = model_scratch.predict(X_test_scaled)\n",
    "accuracy_scratch = accuracy_score(y_test, predictions_scratch)\n",
    "print(f\"Độ chính xác (from scratch): {accuracy_scratch:.4f}\")"
   ],
   "id": "60d915d89dea1881",
   "outputs": [
    {
     "name": "stdout",
     "output_type": "stream",
     "text": [
      "Độ chính xác (from scratch): 0.9737\n"
     ]
    }
   ],
   "execution_count": 5
  },
  {
   "metadata": {},
   "cell_type": "markdown",
   "source": "## Logistic Regression from sklearn",
   "id": "a9112c600321ce4f"
  },
  {
   "metadata": {
    "ExecuteTime": {
     "end_time": "2025-08-27T01:54:12.544369Z",
     "start_time": "2025-08-27T01:54:12.535098Z"
    }
   },
   "cell_type": "code",
   "source": [
    "model_sklearn = SklearnLogisticRegression(solver='liblinear')\n",
    "model_sklearn.fit(X_train_scaled, y_train)\n",
    "predictions_sklearn = model_sklearn.predict(X_test_scaled)\n",
    "accuracy_sklearn = accuracy_score(y_test, predictions_sklearn)\n",
    "print(f\"Độ chính xác (Sklearn): {accuracy_sklearn:.4f}\")"
   ],
   "id": "e2e60359af5a44b6",
   "outputs": [
    {
     "name": "stdout",
     "output_type": "stream",
     "text": [
      "Độ chính xác (Sklearn): 0.9737\n"
     ]
    }
   ],
   "execution_count": 6
  }
 ],
 "metadata": {
  "kernelspec": {
   "display_name": "Python 3",
   "language": "python",
   "name": "python3"
  },
  "language_info": {
   "codemirror_mode": {
    "name": "ipython",
    "version": 2
   },
   "file_extension": ".py",
   "mimetype": "text/x-python",
   "name": "python",
   "nbconvert_exporter": "python",
   "pygments_lexer": "ipython2",
   "version": "2.7.6"
  }
 },
 "nbformat": 4,
 "nbformat_minor": 5
}
