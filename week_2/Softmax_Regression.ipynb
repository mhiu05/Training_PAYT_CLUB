{
 "cells": [
  {
   "cell_type": "code",
   "id": "initial_id",
   "metadata": {
    "collapsed": true,
    "ExecuteTime": {
     "end_time": "2025-08-27T02:01:30.219249Z",
     "start_time": "2025-08-27T02:01:28.791553Z"
    }
   },
   "source": "",
   "outputs": [],
   "execution_count": 1
  },
  {
   "metadata": {},
   "cell_type": "markdown",
   "source": "### Sofrmax Regression from scratch",
   "id": "bfd454faf895d7d"
  },
  {
   "metadata": {
    "ExecuteTime": {
     "end_time": "2025-08-27T02:01:30.396449Z",
     "start_time": "2025-08-27T02:01:30.385434Z"
    }
   },
   "cell_type": "code",
   "source": [
    "class SoftmaxRegression:\n",
    "    def __init__(self, learning_rate=0.01, n_iters=1000, reg_strength=0.01, tol=1e-4):\n",
    "        self.learning_rate = learning_rate\n",
    "        self.n_iters = n_iters\n",
    "        self.reg_strength = reg_strength  # Thêm regularization để tránh overfitting\n",
    "        self.tol = tol  # Ngưỡng hội tụ\n",
    "        self.weights = None\n",
    "        self.bias = None\n",
    "        self.n_classes = None\n",
    "        self.loss_history = []  # Lưu lịch sử loss để theo dõi\n",
    "\n",
    "    def softmax(self, z):\n",
    "        \"\"\"Tính softmax ổn định số học.\"\"\"\n",
    "        # Trừ giá trị lớn nhất để tránh tràn số\n",
    "        exp_z = np.exp(z - np.max(z, axis=1, keepdims=True))\n",
    "        return exp_z / np.sum(exp_z, axis=1, keepdims=True)\n",
    "\n",
    "    def one_hot(self, y, n_classes):\n",
    "        \"\"\"Chuyển đổi nhãn y sang dạng one-hot encoding.\"\"\"\n",
    "        one_hot_y = np.zeros((len(y), n_classes))\n",
    "        one_hot_y[np.arange(len(y)), y] = 1\n",
    "        return one_hot_y\n",
    "\n",
    "    def cross_entropy_loss(self, y_true, y_pred):\n",
    "        \"\"\"Tính cross-entropy loss với regularization.\"\"\"\n",
    "        # Tránh log(0)\n",
    "        epsilon = 1e-12\n",
    "        y_pred = np.clip(y_pred, epsilon, 1. - epsilon)\n",
    "\n",
    "        # Cross-entropy loss\n",
    "        n_samples = y_true.shape[0]\n",
    "        log_likelihood = -np.sum(y_true * np.log(y_pred)) / n_samples\n",
    "\n",
    "        # Thêm L2 regularization\n",
    "        if self.reg_strength > 0:\n",
    "            reg_loss = 0.5 * self.reg_strength * np.sum(self.weights ** 2)\n",
    "            log_likelihood += reg_loss / n_samples\n",
    "\n",
    "        return log_likelihood\n",
    "\n",
    "    def fit(self, X, y, verbose=False):\n",
    "        \"\"\"Huấn luyện mô hình với gradient descent.\"\"\"\n",
    "        n_samples, n_features = X.shape\n",
    "        self.n_classes = len(np.unique(y))\n",
    "\n",
    "        # Khởi tạo weights với giá trị ngẫu nhiên nhỏ\n",
    "        self.weights = np.random.randn(n_features, self.n_classes) * 0.01\n",
    "        self.bias = np.zeros(self.n_classes)\n",
    "\n",
    "        y_one_hot = self.one_hot(y, self.n_classes)\n",
    "        prev_loss = float('inf')\n",
    "\n",
    "        for i in range(self.n_iters):\n",
    "            # Forward pass\n",
    "            linear_model = np.dot(X, self.weights) + self.bias\n",
    "            probas = self.softmax(linear_model)\n",
    "\n",
    "            # Tính loss\n",
    "            loss = self.cross_entropy_loss(y_one_hot, probas)\n",
    "            self.loss_history.append(loss)\n",
    "\n",
    "            # Kiểm tra hội tụ\n",
    "            if abs(prev_loss - loss) < self.tol:\n",
    "                if verbose:\n",
    "                    print(f\"Converged at iteration {i}\")\n",
    "                break\n",
    "            prev_loss = loss\n",
    "\n",
    "            # Backward pass - tính gradient\n",
    "            error = probas - y_one_hot\n",
    "            dw = (1 / n_samples) * np.dot(X.T, error)\n",
    "            db = (1 / n_samples) * np.sum(error, axis=0)\n",
    "\n",
    "            # Thêm gradient của regularization term\n",
    "            if self.reg_strength > 0:\n",
    "                dw += (self.reg_strength / n_samples) * self.weights\n",
    "\n",
    "            # Cập nhật parameters\n",
    "            self.weights -= self.learning_rate * dw\n",
    "            self.bias -= self.learning_rate * db\n",
    "\n",
    "            # In thông tin nếu verbose\n",
    "            if verbose and i % 100 == 0:\n",
    "                print(f\"Iteration {i}, Loss: {loss:.4f}\")\n",
    "\n",
    "    def predict_proba(self, X):\n",
    "        \"\"\"Dự đoán xác suất cho mỗi lớp.\"\"\"\n",
    "        linear_model = np.dot(X, self.weights) + self.bias\n",
    "        return self.softmax(linear_model)\n",
    "\n",
    "    def predict(self, X):\n",
    "        \"\"\"Dự đoán lớp.\"\"\"\n",
    "        probas = self.predict_proba(X)\n",
    "        return np.argmax(probas, axis=1)\n",
    "\n",
    "    def score(self, X, y):\n",
    "        \"\"\"Tính độ chính xác.\"\"\"\n",
    "        predictions = self.predict(X)\n",
    "        return np.mean(predictions == y)"
   ],
   "id": "cec29d010d28fee2",
   "outputs": [],
   "execution_count": 2
  },
  {
   "metadata": {},
   "cell_type": "markdown",
   "source": "* dataset",
   "id": "d9636731df252325"
  },
  {
   "metadata": {
    "ExecuteTime": {
     "end_time": "2025-08-27T02:01:30.425949Z",
     "start_time": "2025-08-27T02:01:30.409172Z"
    }
   },
   "cell_type": "code",
   "source": [
    "iris = datasets.load_iris()\n",
    "X, y = iris.data, iris.target\n",
    "\n",
    "iris_df = pd.DataFrame(data=X, columns=iris.feature_names)\n",
    "iris_df['target'] = y\n",
    "iris_df.sample(5)"
   ],
   "id": "8464e92847cc080e",
   "outputs": [
    {
     "data": {
      "text/plain": [
       "    sepal length (cm)  sepal width (cm)  petal length (cm)  petal width (cm)  \\\n",
       "87                6.3               2.3                4.4               1.3   \n",
       "27                5.2               3.5                1.5               0.2   \n",
       "84                5.4               3.0                4.5               1.5   \n",
       "14                5.8               4.0                1.2               0.2   \n",
       "92                5.8               2.6                4.0               1.2   \n",
       "\n",
       "    target  \n",
       "87       1  \n",
       "27       0  \n",
       "84       1  \n",
       "14       0  \n",
       "92       1  "
      ],
      "text/html": [
       "<div>\n",
       "<style scoped>\n",
       "    .dataframe tbody tr th:only-of-type {\n",
       "        vertical-align: middle;\n",
       "    }\n",
       "\n",
       "    .dataframe tbody tr th {\n",
       "        vertical-align: top;\n",
       "    }\n",
       "\n",
       "    .dataframe thead th {\n",
       "        text-align: right;\n",
       "    }\n",
       "</style>\n",
       "<table border=\"1\" class=\"dataframe\">\n",
       "  <thead>\n",
       "    <tr style=\"text-align: right;\">\n",
       "      <th></th>\n",
       "      <th>sepal length (cm)</th>\n",
       "      <th>sepal width (cm)</th>\n",
       "      <th>petal length (cm)</th>\n",
       "      <th>petal width (cm)</th>\n",
       "      <th>target</th>\n",
       "    </tr>\n",
       "  </thead>\n",
       "  <tbody>\n",
       "    <tr>\n",
       "      <th>87</th>\n",
       "      <td>6.3</td>\n",
       "      <td>2.3</td>\n",
       "      <td>4.4</td>\n",
       "      <td>1.3</td>\n",
       "      <td>1</td>\n",
       "    </tr>\n",
       "    <tr>\n",
       "      <th>27</th>\n",
       "      <td>5.2</td>\n",
       "      <td>3.5</td>\n",
       "      <td>1.5</td>\n",
       "      <td>0.2</td>\n",
       "      <td>0</td>\n",
       "    </tr>\n",
       "    <tr>\n",
       "      <th>84</th>\n",
       "      <td>5.4</td>\n",
       "      <td>3.0</td>\n",
       "      <td>4.5</td>\n",
       "      <td>1.5</td>\n",
       "      <td>1</td>\n",
       "    </tr>\n",
       "    <tr>\n",
       "      <th>14</th>\n",
       "      <td>5.8</td>\n",
       "      <td>4.0</td>\n",
       "      <td>1.2</td>\n",
       "      <td>0.2</td>\n",
       "      <td>0</td>\n",
       "    </tr>\n",
       "    <tr>\n",
       "      <th>92</th>\n",
       "      <td>5.8</td>\n",
       "      <td>2.6</td>\n",
       "      <td>4.0</td>\n",
       "      <td>1.2</td>\n",
       "      <td>1</td>\n",
       "    </tr>\n",
       "  </tbody>\n",
       "</table>\n",
       "</div>"
      ]
     },
     "execution_count": 3,
     "metadata": {},
     "output_type": "execute_result"
    }
   ],
   "execution_count": 3
  },
  {
   "metadata": {
    "ExecuteTime": {
     "end_time": "2025-08-27T02:01:42.209139Z",
     "start_time": "2025-08-27T02:01:42.192411Z"
    }
   },
   "cell_type": "code",
   "source": "iris_df.describe()",
   "id": "914c8bc347c812a3",
   "outputs": [
    {
     "data": {
      "text/plain": [
       "       sepal length (cm)  sepal width (cm)  petal length (cm)  \\\n",
       "count         150.000000        150.000000         150.000000   \n",
       "mean            5.843333          3.057333           3.758000   \n",
       "std             0.828066          0.435866           1.765298   \n",
       "min             4.300000          2.000000           1.000000   \n",
       "25%             5.100000          2.800000           1.600000   \n",
       "50%             5.800000          3.000000           4.350000   \n",
       "75%             6.400000          3.300000           5.100000   \n",
       "max             7.900000          4.400000           6.900000   \n",
       "\n",
       "       petal width (cm)      target  \n",
       "count        150.000000  150.000000  \n",
       "mean           1.199333    1.000000  \n",
       "std            0.762238    0.819232  \n",
       "min            0.100000    0.000000  \n",
       "25%            0.300000    0.000000  \n",
       "50%            1.300000    1.000000  \n",
       "75%            1.800000    2.000000  \n",
       "max            2.500000    2.000000  "
      ],
      "text/html": [
       "<div>\n",
       "<style scoped>\n",
       "    .dataframe tbody tr th:only-of-type {\n",
       "        vertical-align: middle;\n",
       "    }\n",
       "\n",
       "    .dataframe tbody tr th {\n",
       "        vertical-align: top;\n",
       "    }\n",
       "\n",
       "    .dataframe thead th {\n",
       "        text-align: right;\n",
       "    }\n",
       "</style>\n",
       "<table border=\"1\" class=\"dataframe\">\n",
       "  <thead>\n",
       "    <tr style=\"text-align: right;\">\n",
       "      <th></th>\n",
       "      <th>sepal length (cm)</th>\n",
       "      <th>sepal width (cm)</th>\n",
       "      <th>petal length (cm)</th>\n",
       "      <th>petal width (cm)</th>\n",
       "      <th>target</th>\n",
       "    </tr>\n",
       "  </thead>\n",
       "  <tbody>\n",
       "    <tr>\n",
       "      <th>count</th>\n",
       "      <td>150.000000</td>\n",
       "      <td>150.000000</td>\n",
       "      <td>150.000000</td>\n",
       "      <td>150.000000</td>\n",
       "      <td>150.000000</td>\n",
       "    </tr>\n",
       "    <tr>\n",
       "      <th>mean</th>\n",
       "      <td>5.843333</td>\n",
       "      <td>3.057333</td>\n",
       "      <td>3.758000</td>\n",
       "      <td>1.199333</td>\n",
       "      <td>1.000000</td>\n",
       "    </tr>\n",
       "    <tr>\n",
       "      <th>std</th>\n",
       "      <td>0.828066</td>\n",
       "      <td>0.435866</td>\n",
       "      <td>1.765298</td>\n",
       "      <td>0.762238</td>\n",
       "      <td>0.819232</td>\n",
       "    </tr>\n",
       "    <tr>\n",
       "      <th>min</th>\n",
       "      <td>4.300000</td>\n",
       "      <td>2.000000</td>\n",
       "      <td>1.000000</td>\n",
       "      <td>0.100000</td>\n",
       "      <td>0.000000</td>\n",
       "    </tr>\n",
       "    <tr>\n",
       "      <th>25%</th>\n",
       "      <td>5.100000</td>\n",
       "      <td>2.800000</td>\n",
       "      <td>1.600000</td>\n",
       "      <td>0.300000</td>\n",
       "      <td>0.000000</td>\n",
       "    </tr>\n",
       "    <tr>\n",
       "      <th>50%</th>\n",
       "      <td>5.800000</td>\n",
       "      <td>3.000000</td>\n",
       "      <td>4.350000</td>\n",
       "      <td>1.300000</td>\n",
       "      <td>1.000000</td>\n",
       "    </tr>\n",
       "    <tr>\n",
       "      <th>75%</th>\n",
       "      <td>6.400000</td>\n",
       "      <td>3.300000</td>\n",
       "      <td>5.100000</td>\n",
       "      <td>1.800000</td>\n",
       "      <td>2.000000</td>\n",
       "    </tr>\n",
       "    <tr>\n",
       "      <th>max</th>\n",
       "      <td>7.900000</td>\n",
       "      <td>4.400000</td>\n",
       "      <td>6.900000</td>\n",
       "      <td>2.500000</td>\n",
       "      <td>2.000000</td>\n",
       "    </tr>\n",
       "  </tbody>\n",
       "</table>\n",
       "</div>"
      ]
     },
     "execution_count": 4,
     "metadata": {},
     "output_type": "execute_result"
    }
   ],
   "execution_count": 4
  },
  {
   "metadata": {
    "ExecuteTime": {
     "end_time": "2025-08-27T02:01:48.479864Z",
     "start_time": "2025-08-27T02:01:48.474250Z"
    }
   },
   "cell_type": "code",
   "source": "iris_df.target.value_counts()",
   "id": "d607a98cd5eddebc",
   "outputs": [
    {
     "data": {
      "text/plain": [
       "target\n",
       "0    50\n",
       "1    50\n",
       "2    50\n",
       "Name: count, dtype: int64"
      ]
     },
     "execution_count": 5,
     "metadata": {},
     "output_type": "execute_result"
    }
   ],
   "execution_count": 5
  },
  {
   "metadata": {},
   "cell_type": "markdown",
   "source": "* Train",
   "id": "942ccf94a95bd8ca"
  },
  {
   "metadata": {
    "ExecuteTime": {
     "end_time": "2025-08-27T02:04:42.012656Z",
     "start_time": "2025-08-27T02:04:42.006819Z"
    }
   },
   "cell_type": "code",
   "source": "X_train, X_test, y_train, y_test = train_test_split(X, y, test_size=0.2, random_state=42)",
   "id": "f81cab34ce563c94",
   "outputs": [],
   "execution_count": 6
  },
  {
   "metadata": {
    "ExecuteTime": {
     "end_time": "2025-08-27T02:04:52.224025Z",
     "start_time": "2025-08-27T02:04:52.163388Z"
    }
   },
   "cell_type": "code",
   "source": [
    "model_scratch = SoftmaxRegression(learning_rate=0.1, n_iters=1000)\n",
    "model_scratch.fit(X_train, y_train)\n",
    "predictions_scratch = model_scratch.predict(X_test)\n",
    "accuracy_scratch = accuracy_score(y_test, predictions_scratch)"
   ],
   "id": "b7b9aca0c0205a12",
   "outputs": [],
   "execution_count": 7
  },
  {
   "metadata": {
    "ExecuteTime": {
     "end_time": "2025-08-27T02:05:46.908247Z",
     "start_time": "2025-08-27T02:05:46.902948Z"
    }
   },
   "cell_type": "code",
   "source": "print(f\"Độ chính xác (from scratch): {100 * int(accuracy_scratch)}%\")",
   "id": "1546677e08fa3a77",
   "outputs": [
    {
     "name": "stdout",
     "output_type": "stream",
     "text": [
      "Độ chính xác (from scratch): 100%\n"
     ]
    }
   ],
   "execution_count": 11
  },
  {
   "metadata": {},
   "cell_type": "markdown",
   "source": "### Softmax Regression from scratch",
   "id": "89d05090304ac14c"
  },
  {
   "metadata": {
    "ExecuteTime": {
     "end_time": "2025-08-27T02:18:27.043802Z",
     "start_time": "2025-08-27T02:18:27.013933Z"
    }
   },
   "cell_type": "code",
   "source": [
    "model_sklearn = SklearnSoftmaxRegression(solver='lbfgs', max_iter=1000)\n",
    "model_sklearn.fit(X_train, y_train)\n",
    "predictions_sklearn = model_sklearn.predict(X_test)\n",
    "accuracy_sklearn = accuracy_score(y_test, predictions_sklearn)"
   ],
   "id": "b2878ae39528bbc2",
   "outputs": [],
   "execution_count": 14
  },
  {
   "metadata": {
    "ExecuteTime": {
     "end_time": "2025-08-27T02:18:42.175038Z",
     "start_time": "2025-08-27T02:18:42.170398Z"
    }
   },
   "cell_type": "code",
   "source": "print(f\"Độ chính xác (from sklearn): {100 * int(accuracy_scratch)}%\")",
   "id": "aa60666435bde2d1",
   "outputs": [
    {
     "name": "stdout",
     "output_type": "stream",
     "text": [
      "Độ chính xác (from sklearn): 100%\n"
     ]
    }
   ],
   "execution_count": 16
  }
 ],
 "metadata": {
  "kernelspec": {
   "display_name": "Python 3",
   "language": "python",
   "name": "python3"
  },
  "language_info": {
   "codemirror_mode": {
    "name": "ipython",
    "version": 2
   },
   "file_extension": ".py",
   "mimetype": "text/x-python",
   "name": "python",
   "nbconvert_exporter": "python",
   "pygments_lexer": "ipython2",
   "version": "2.7.6"
  }
 },
 "nbformat": 4,
 "nbformat_minor": 5
}
