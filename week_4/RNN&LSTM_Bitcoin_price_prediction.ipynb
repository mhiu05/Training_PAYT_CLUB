{
 "cells": [
  {
   "cell_type": "code",
   "id": "initial_id",
   "metadata": {
    "collapsed": true
   },
   "source": [
    "import numpy as np\n",
    "import pandas as pd\n",
    "import matplotlib.pyplot as plt\n",
    "import math\n",
    "\n",
    "from sklearn.metrics import mean_squared_error\n",
    "from sklearn.preprocessing import MinMaxScaler\n",
    "from keras.models import Sequential\n",
    "from keras.layers import Dense\n",
    "from keras.layers import SimpleRNN\n",
    "from keras.layers import LSTM\n",
    "from keras.layers import Dropout\n",
    "\n",
    "import warnings\n",
    "warnings.filterwarnings(\"ignore\")"
   ],
   "outputs": [],
   "execution_count": null
  },
  {
   "metadata": {},
   "cell_type": "markdown",
   "source": "# Data processing",
   "id": "74d80d995105485a"
  },
  {
   "metadata": {},
   "cell_type": "markdown",
   "source": "### Loading data",
   "id": "77229e934d3ce56b"
  },
  {
   "metadata": {
    "ExecuteTime": {
     "end_time": "2025-09-29T11:43:55.455953Z",
     "start_time": "2025-09-29T11:43:51.815887Z"
    }
   },
   "cell_type": "code",
   "source": "raw_data = pd.read_csv(\"data_bitcoin.csv\")",
   "id": "6c5839fe87c014ed",
   "outputs": [],
   "execution_count": 2
  },
  {
   "metadata": {
    "ExecuteTime": {
     "end_time": "2025-09-29T11:43:55.477381Z",
     "start_time": "2025-09-29T11:43:55.461850Z"
    }
   },
   "cell_type": "code",
   "source": "raw_data.info()",
   "id": "b9a45c708cf24adb",
   "outputs": [
    {
     "name": "stdout",
     "output_type": "stream",
     "text": [
      "<class 'pandas.core.frame.DataFrame'>\n",
      "RangeIndex: 7221277 entries, 0 to 7221276\n",
      "Data columns (total 6 columns):\n",
      " #   Column     Dtype  \n",
      "---  ------     -----  \n",
      " 0   Timestamp  float64\n",
      " 1   Open       float64\n",
      " 2   High       float64\n",
      " 3   Low        float64\n",
      " 4   Close      float64\n",
      " 5   Volume     float64\n",
      "dtypes: float64(6)\n",
      "memory usage: 330.6 MB\n"
     ]
    }
   ],
   "execution_count": 3
  },
  {
   "metadata": {
    "ExecuteTime": {
     "end_time": "2025-09-29T11:43:59.267398Z",
     "start_time": "2025-09-29T11:43:55.525226Z"
    }
   },
   "cell_type": "code",
   "source": [
    "# Chuyển timestamp (dạng số) thành thời gian thực (dạng ngày)\n",
    "raw_data['date'] = pd.to_datetime(raw_data['Timestamp'],unit='s').dt.date\n",
    "raw_data"
   ],
   "id": "bb513a784392752",
   "outputs": [
    {
     "data": {
      "text/plain": [
       "            Timestamp       Open       High        Low      Close    Volume  \\\n",
       "0        1.325412e+09       4.58       4.58       4.58       4.58  0.000000   \n",
       "1        1.325412e+09       4.58       4.58       4.58       4.58  0.000000   \n",
       "2        1.325412e+09       4.58       4.58       4.58       4.58  0.000000   \n",
       "3        1.325412e+09       4.58       4.58       4.58       4.58  0.000000   \n",
       "4        1.325412e+09       4.58       4.58       4.58       4.58  0.000000   \n",
       "...               ...        ...        ...        ...        ...       ...   \n",
       "7221272  1.758758e+09  113319.00  113328.00  113319.00  113326.00  0.005044   \n",
       "7221273  1.758758e+09  113326.00  113326.00  113317.00  113326.00  0.047516   \n",
       "7221274  1.758758e+09  113326.00  113367.00  113326.00  113360.00  0.209290   \n",
       "7221275  1.758758e+09  113367.00  113386.00  113354.00  113354.00  0.416070   \n",
       "7221276  1.758758e+09  113347.00  113347.00  113323.00  113323.00  0.570245   \n",
       "\n",
       "               date  \n",
       "0        2012-01-01  \n",
       "1        2012-01-01  \n",
       "2        2012-01-01  \n",
       "3        2012-01-01  \n",
       "4        2012-01-01  \n",
       "...             ...  \n",
       "7221272  2025-09-24  \n",
       "7221273  2025-09-24  \n",
       "7221274  2025-09-24  \n",
       "7221275  2025-09-24  \n",
       "7221276  2025-09-24  \n",
       "\n",
       "[7221277 rows x 7 columns]"
      ],
      "text/html": [
       "<div>\n",
       "<style scoped>\n",
       "    .dataframe tbody tr th:only-of-type {\n",
       "        vertical-align: middle;\n",
       "    }\n",
       "\n",
       "    .dataframe tbody tr th {\n",
       "        vertical-align: top;\n",
       "    }\n",
       "\n",
       "    .dataframe thead th {\n",
       "        text-align: right;\n",
       "    }\n",
       "</style>\n",
       "<table border=\"1\" class=\"dataframe\">\n",
       "  <thead>\n",
       "    <tr style=\"text-align: right;\">\n",
       "      <th></th>\n",
       "      <th>Timestamp</th>\n",
       "      <th>Open</th>\n",
       "      <th>High</th>\n",
       "      <th>Low</th>\n",
       "      <th>Close</th>\n",
       "      <th>Volume</th>\n",
       "      <th>date</th>\n",
       "    </tr>\n",
       "  </thead>\n",
       "  <tbody>\n",
       "    <tr>\n",
       "      <th>0</th>\n",
       "      <td>1.325412e+09</td>\n",
       "      <td>4.58</td>\n",
       "      <td>4.58</td>\n",
       "      <td>4.58</td>\n",
       "      <td>4.58</td>\n",
       "      <td>0.000000</td>\n",
       "      <td>2012-01-01</td>\n",
       "    </tr>\n",
       "    <tr>\n",
       "      <th>1</th>\n",
       "      <td>1.325412e+09</td>\n",
       "      <td>4.58</td>\n",
       "      <td>4.58</td>\n",
       "      <td>4.58</td>\n",
       "      <td>4.58</td>\n",
       "      <td>0.000000</td>\n",
       "      <td>2012-01-01</td>\n",
       "    </tr>\n",
       "    <tr>\n",
       "      <th>2</th>\n",
       "      <td>1.325412e+09</td>\n",
       "      <td>4.58</td>\n",
       "      <td>4.58</td>\n",
       "      <td>4.58</td>\n",
       "      <td>4.58</td>\n",
       "      <td>0.000000</td>\n",
       "      <td>2012-01-01</td>\n",
       "    </tr>\n",
       "    <tr>\n",
       "      <th>3</th>\n",
       "      <td>1.325412e+09</td>\n",
       "      <td>4.58</td>\n",
       "      <td>4.58</td>\n",
       "      <td>4.58</td>\n",
       "      <td>4.58</td>\n",
       "      <td>0.000000</td>\n",
       "      <td>2012-01-01</td>\n",
       "    </tr>\n",
       "    <tr>\n",
       "      <th>4</th>\n",
       "      <td>1.325412e+09</td>\n",
       "      <td>4.58</td>\n",
       "      <td>4.58</td>\n",
       "      <td>4.58</td>\n",
       "      <td>4.58</td>\n",
       "      <td>0.000000</td>\n",
       "      <td>2012-01-01</td>\n",
       "    </tr>\n",
       "    <tr>\n",
       "      <th>...</th>\n",
       "      <td>...</td>\n",
       "      <td>...</td>\n",
       "      <td>...</td>\n",
       "      <td>...</td>\n",
       "      <td>...</td>\n",
       "      <td>...</td>\n",
       "      <td>...</td>\n",
       "    </tr>\n",
       "    <tr>\n",
       "      <th>7221272</th>\n",
       "      <td>1.758758e+09</td>\n",
       "      <td>113319.00</td>\n",
       "      <td>113328.00</td>\n",
       "      <td>113319.00</td>\n",
       "      <td>113326.00</td>\n",
       "      <td>0.005044</td>\n",
       "      <td>2025-09-24</td>\n",
       "    </tr>\n",
       "    <tr>\n",
       "      <th>7221273</th>\n",
       "      <td>1.758758e+09</td>\n",
       "      <td>113326.00</td>\n",
       "      <td>113326.00</td>\n",
       "      <td>113317.00</td>\n",
       "      <td>113326.00</td>\n",
       "      <td>0.047516</td>\n",
       "      <td>2025-09-24</td>\n",
       "    </tr>\n",
       "    <tr>\n",
       "      <th>7221274</th>\n",
       "      <td>1.758758e+09</td>\n",
       "      <td>113326.00</td>\n",
       "      <td>113367.00</td>\n",
       "      <td>113326.00</td>\n",
       "      <td>113360.00</td>\n",
       "      <td>0.209290</td>\n",
       "      <td>2025-09-24</td>\n",
       "    </tr>\n",
       "    <tr>\n",
       "      <th>7221275</th>\n",
       "      <td>1.758758e+09</td>\n",
       "      <td>113367.00</td>\n",
       "      <td>113386.00</td>\n",
       "      <td>113354.00</td>\n",
       "      <td>113354.00</td>\n",
       "      <td>0.416070</td>\n",
       "      <td>2025-09-24</td>\n",
       "    </tr>\n",
       "    <tr>\n",
       "      <th>7221276</th>\n",
       "      <td>1.758758e+09</td>\n",
       "      <td>113347.00</td>\n",
       "      <td>113347.00</td>\n",
       "      <td>113323.00</td>\n",
       "      <td>113323.00</td>\n",
       "      <td>0.570245</td>\n",
       "      <td>2025-09-24</td>\n",
       "    </tr>\n",
       "  </tbody>\n",
       "</table>\n",
       "<p>7221277 rows × 7 columns</p>\n",
       "</div>"
      ]
     },
     "execution_count": 4,
     "metadata": {},
     "output_type": "execute_result"
    }
   ],
   "execution_count": 4
  },
  {
   "metadata": {
    "ExecuteTime": {
     "end_time": "2025-09-29T11:43:59.929213Z",
     "start_time": "2025-09-29T11:43:59.275215Z"
    }
   },
   "cell_type": "code",
   "source": [
    "# Lấy trung bình theo ngày\n",
    "grouped_data = raw_data.groupby('date', as_index = False).mean()\n",
    "grouped_data"
   ],
   "id": "19207585c161a114",
   "outputs": [
    {
     "data": {
      "text/plain": [
       "            date     Timestamp           Open           High            Low  \\\n",
       "0     2012-01-01  1.325437e+09       4.645697       4.645697       4.645697   \n",
       "1     2012-01-02  1.325506e+09       4.975000       4.975000       4.975000   \n",
       "2     2012-01-03  1.325592e+09       5.085500       5.085500       5.085500   \n",
       "3     2012-01-04  1.325678e+09       5.170250       5.170396       5.170250   \n",
       "4     2012-01-05  1.325765e+09       5.954292       5.954361       5.954292   \n",
       "...          ...           ...            ...            ...            ...   \n",
       "5011  2025-09-20  1.758370e+09  115831.676389  115836.591667  115827.770833   \n",
       "5012  2025-09-21  1.758456e+09  115617.845833  115622.842361  115613.699306   \n",
       "5013  2025-09-22  1.758542e+09  113210.881250  113233.609028  113185.258333   \n",
       "5014  2025-09-23  1.758629e+09  112568.515972  112586.955556  112550.328472   \n",
       "5015  2025-09-24  1.758715e+09  112967.190542  112984.327538  112950.670376   \n",
       "\n",
       "              Close    Volume  \n",
       "0          4.645697  0.011919  \n",
       "1          4.975000  0.007014  \n",
       "2          5.085500  0.074365  \n",
       "3          5.170396  0.074468  \n",
       "4          5.954361  0.048839  \n",
       "...             ...       ...  \n",
       "5011  115831.937500  0.772215  \n",
       "5012  115618.345139  0.548054  \n",
       "5013  113209.250000  1.355390  \n",
       "5014  112567.609722  1.019471  \n",
       "5015  112967.392211  0.917961  \n",
       "\n",
       "[5016 rows x 7 columns]"
      ],
      "text/html": [
       "<div>\n",
       "<style scoped>\n",
       "    .dataframe tbody tr th:only-of-type {\n",
       "        vertical-align: middle;\n",
       "    }\n",
       "\n",
       "    .dataframe tbody tr th {\n",
       "        vertical-align: top;\n",
       "    }\n",
       "\n",
       "    .dataframe thead th {\n",
       "        text-align: right;\n",
       "    }\n",
       "</style>\n",
       "<table border=\"1\" class=\"dataframe\">\n",
       "  <thead>\n",
       "    <tr style=\"text-align: right;\">\n",
       "      <th></th>\n",
       "      <th>date</th>\n",
       "      <th>Timestamp</th>\n",
       "      <th>Open</th>\n",
       "      <th>High</th>\n",
       "      <th>Low</th>\n",
       "      <th>Close</th>\n",
       "      <th>Volume</th>\n",
       "    </tr>\n",
       "  </thead>\n",
       "  <tbody>\n",
       "    <tr>\n",
       "      <th>0</th>\n",
       "      <td>2012-01-01</td>\n",
       "      <td>1.325437e+09</td>\n",
       "      <td>4.645697</td>\n",
       "      <td>4.645697</td>\n",
       "      <td>4.645697</td>\n",
       "      <td>4.645697</td>\n",
       "      <td>0.011919</td>\n",
       "    </tr>\n",
       "    <tr>\n",
       "      <th>1</th>\n",
       "      <td>2012-01-02</td>\n",
       "      <td>1.325506e+09</td>\n",
       "      <td>4.975000</td>\n",
       "      <td>4.975000</td>\n",
       "      <td>4.975000</td>\n",
       "      <td>4.975000</td>\n",
       "      <td>0.007014</td>\n",
       "    </tr>\n",
       "    <tr>\n",
       "      <th>2</th>\n",
       "      <td>2012-01-03</td>\n",
       "      <td>1.325592e+09</td>\n",
       "      <td>5.085500</td>\n",
       "      <td>5.085500</td>\n",
       "      <td>5.085500</td>\n",
       "      <td>5.085500</td>\n",
       "      <td>0.074365</td>\n",
       "    </tr>\n",
       "    <tr>\n",
       "      <th>3</th>\n",
       "      <td>2012-01-04</td>\n",
       "      <td>1.325678e+09</td>\n",
       "      <td>5.170250</td>\n",
       "      <td>5.170396</td>\n",
       "      <td>5.170250</td>\n",
       "      <td>5.170396</td>\n",
       "      <td>0.074468</td>\n",
       "    </tr>\n",
       "    <tr>\n",
       "      <th>4</th>\n",
       "      <td>2012-01-05</td>\n",
       "      <td>1.325765e+09</td>\n",
       "      <td>5.954292</td>\n",
       "      <td>5.954361</td>\n",
       "      <td>5.954292</td>\n",
       "      <td>5.954361</td>\n",
       "      <td>0.048839</td>\n",
       "    </tr>\n",
       "    <tr>\n",
       "      <th>...</th>\n",
       "      <td>...</td>\n",
       "      <td>...</td>\n",
       "      <td>...</td>\n",
       "      <td>...</td>\n",
       "      <td>...</td>\n",
       "      <td>...</td>\n",
       "      <td>...</td>\n",
       "    </tr>\n",
       "    <tr>\n",
       "      <th>5011</th>\n",
       "      <td>2025-09-20</td>\n",
       "      <td>1.758370e+09</td>\n",
       "      <td>115831.676389</td>\n",
       "      <td>115836.591667</td>\n",
       "      <td>115827.770833</td>\n",
       "      <td>115831.937500</td>\n",
       "      <td>0.772215</td>\n",
       "    </tr>\n",
       "    <tr>\n",
       "      <th>5012</th>\n",
       "      <td>2025-09-21</td>\n",
       "      <td>1.758456e+09</td>\n",
       "      <td>115617.845833</td>\n",
       "      <td>115622.842361</td>\n",
       "      <td>115613.699306</td>\n",
       "      <td>115618.345139</td>\n",
       "      <td>0.548054</td>\n",
       "    </tr>\n",
       "    <tr>\n",
       "      <th>5013</th>\n",
       "      <td>2025-09-22</td>\n",
       "      <td>1.758542e+09</td>\n",
       "      <td>113210.881250</td>\n",
       "      <td>113233.609028</td>\n",
       "      <td>113185.258333</td>\n",
       "      <td>113209.250000</td>\n",
       "      <td>1.355390</td>\n",
       "    </tr>\n",
       "    <tr>\n",
       "      <th>5014</th>\n",
       "      <td>2025-09-23</td>\n",
       "      <td>1.758629e+09</td>\n",
       "      <td>112568.515972</td>\n",
       "      <td>112586.955556</td>\n",
       "      <td>112550.328472</td>\n",
       "      <td>112567.609722</td>\n",
       "      <td>1.019471</td>\n",
       "    </tr>\n",
       "    <tr>\n",
       "      <th>5015</th>\n",
       "      <td>2025-09-24</td>\n",
       "      <td>1.758715e+09</td>\n",
       "      <td>112967.190542</td>\n",
       "      <td>112984.327538</td>\n",
       "      <td>112950.670376</td>\n",
       "      <td>112967.392211</td>\n",
       "      <td>0.917961</td>\n",
       "    </tr>\n",
       "  </tbody>\n",
       "</table>\n",
       "<p>5016 rows × 7 columns</p>\n",
       "</div>"
      ]
     },
     "execution_count": 5,
     "metadata": {},
     "output_type": "execute_result"
    }
   ],
   "execution_count": 5
  },
  {
   "metadata": {},
   "cell_type": "markdown",
   "source": "### Train and test split",
   "id": "1903cc862742e212"
  },
  {
   "metadata": {
    "ExecuteTime": {
     "end_time": "2025-09-29T11:43:59.938559Z",
     "start_time": "2025-09-29T11:43:59.935321Z"
    }
   },
   "cell_type": "code",
   "source": [
    "# 95% train, 5% test\n",
    "train_size = int(len(grouped_data) * 0.95)\n",
    "test_size = len(grouped_data) - train_size\n",
    "df_train = grouped_data.iloc[0:train_size, :]\n",
    "df_test = grouped_data.iloc[train_size:len(grouped_data), :]\n",
    "print(\"Train size: {}, Test size: {}\". format(len(df_train), len(df_test)))"
   ],
   "id": "65ed1a0d5546148f",
   "outputs": [
    {
     "name": "stdout",
     "output_type": "stream",
     "text": [
      "Train size: 4765, Test size: 251\n"
     ]
    }
   ],
   "execution_count": 6
  },
  {
   "metadata": {},
   "cell_type": "markdown",
   "source": "### Visualizing data",
   "id": "1314beb05ceabb06"
  },
  {
   "metadata": {
    "ExecuteTime": {
     "end_time": "2025-09-29T11:44:00.116353Z",
     "start_time": "2025-09-29T11:43:59.986041Z"
    }
   },
   "cell_type": "code",
   "source": [
    "data_plot = grouped_data.loc[:, [\"Close\"]].values\n",
    "plt.plot(data_plot)\n",
    "plt.xlabel(\"Time\")\n",
    "plt.ylabel(\"Values of Close\")\n",
    "plt.title(\"Bitcoin Close Prices\")\n",
    "plt.show()\n"
   ],
   "id": "8e60c48ed89e177b",
   "outputs": [
    {
     "data": {
      "text/plain": [
       "<Figure size 640x480 with 1 Axes>"
      ],
      "image/png": "[encoded data removed]"
     },
     "metadata": {},
     "output_type": "display_data",
     "jetTransient": {
      "display_id": null
     }
    }
   ],
   "execution_count": 7
  },
  {
   "metadata": {
    "ExecuteTime": {
     "end_time": "2025-09-29T11:44:00.130055Z",
     "start_time": "2025-09-29T11:44:00.126750Z"
    }
   },
   "cell_type": "code",
   "source": [
    "# we will predict Close values\n",
    "dataset = df_train.loc[:, [\"Close\"]].values\n",
    "\n",
    "#reshape\n",
    "dataset = dataset.reshape(-1, 1)"
   ],
   "id": "a201e0d8a7ca98d2",
   "outputs": [],
   "execution_count": 8
  },
  {
   "metadata": {},
   "cell_type": "markdown",
   "source": "### Scaling data",
   "id": "78ecc93a80b21e42"
  },
  {
   "metadata": {
    "ExecuteTime": {
     "end_time": "2025-09-29T11:44:00.179221Z",
     "start_time": "2025-09-29T11:44:00.174868Z"
    }
   },
   "cell_type": "code",
   "source": [
    "# MinMaxScaler: new_v = (v_0 - min_v) / (max_v - min_v)\n",
    "scaler = MinMaxScaler(feature_range = (0, 1))\n",
    "data_scaled = scaler.fit_transform(dataset)\n",
    "data_scaled"
   ],
   "id": "b13adeb28034a44b",
   "outputs": [
    {
     "data": {
      "text/plain": [
       "array([[3.09373140e-06],\n",
       "       [6.17875735e-06],\n",
       "       [7.21396090e-06],\n",
       "       ...,\n",
       "       [8.98106226e-01],\n",
       "       [9.18715169e-01],\n",
       "       [9.32302417e-01]], shape=(4765, 1))"
      ]
     },
     "execution_count": 9,
     "metadata": {},
     "output_type": "execute_result"
    }
   ],
   "execution_count": 9
  },
  {
   "metadata": {
    "ExecuteTime": {
     "end_time": "2025-09-29T11:44:00.344423Z",
     "start_time": "2025-09-29T11:44:00.336547Z"
    }
   },
   "cell_type": "code",
   "source": [
    "# Tạo sequences data train\n",
    "X_train = []\n",
    "y_train = []\n",
    "time_step = 10\n",
    "for i in range(time_step, data_scaled.shape[0]):\n",
    "    X_train.append(data_scaled[i-time_step:i, 0])\n",
    "    y_train.append(data_scaled[i, 0])\n",
    "X_train, y_train = np.array(X_train), np.array(y_train)\n",
    "\n",
    "print(\"X_train shape: \", X_train.shape)\n",
    "print(\"y_train shape: \", y_train.shape)"
   ],
   "id": "dae765ef0fae1dda",
   "outputs": [
    {
     "name": "stdout",
     "output_type": "stream",
     "text": [
      "X_train shape:  (4755, 10)\n",
      "y_train shape:  (4755,)\n"
     ]
    }
   ],
   "execution_count": 11
  },
  {
   "metadata": {
    "ExecuteTime": {
     "end_time": "2025-09-29T11:44:00.395076Z",
     "start_time": "2025-09-29T11:44:00.391054Z"
    }
   },
   "cell_type": "code",
   "source": [
    "# Reshaping X_train to 3D  (samples, time_steps, features)\n",
    "X_train = np.reshape(X_train, (X_train.shape[0], X_train.shape[1], 1))\n",
    "print(\"X_train shape: \",X_train.shape)\n",
    "print(\"y_train shape: \",y_train.shape)"
   ],
   "id": "2a4cd49eddd8984f",
   "outputs": [
    {
     "name": "stdout",
     "output_type": "stream",
     "text": [
      "X_train shape:  (4755, 10, 1)\n",
      "y_train shape:  (4755,)\n"
     ]
    }
   ],
   "execution_count": 12
  },
  {
   "metadata": {},
   "cell_type": "markdown",
   "source": "# Recurrent Neural Network (RNN)",
   "id": "4c75c8955516a383"
  },
  {
   "metadata": {
    "ExecuteTime": {
     "end_time": "2025-09-29T11:45:19.747898Z",
     "start_time": "2025-09-29T11:44:00.440440Z"
    }
   },
   "cell_type": "code",
   "source": [
    "# RNN 4 hidden layers\n",
    "regressor = Sequential()\n",
    "function = \"relu\"\n",
    "\n",
    "# Layer 1\n",
    "regressor.add(SimpleRNN(units = 50, activation=function, return_sequences = True, input_shape = (X_train.shape[1], 1)))\n",
    "regressor.add(Dropout(0.2))\n",
    "\n",
    "# Layer 2\n",
    "regressor.add(SimpleRNN(units = 50, activation=function, return_sequences = True))\n",
    "regressor.add(Dropout(0.2))\n",
    "\n",
    "# Layer 3\n",
    "regressor.add(SimpleRNN(units = 50, activation=function, return_sequences = True))\n",
    "regressor.add(Dropout(0.2))\n",
    "\n",
    "# Layer 4\n",
    "regressor.add(SimpleRNN(units = 50))\n",
    "regressor.add(Dropout(0.2))\n",
    "\n",
    "# Output layer\n",
    "regressor.add(Dense(units = 1))\n",
    "\n",
    "# Compiling the RNN\n",
    "regressor.compile(optimizer = 'adam', loss = 'mean_squared_error')\n",
    "\n",
    "regressor.fit(X_train, y_train, epochs = 100, batch_size = 32)\n",
    "# epoch= 100"
   ],
   "id": "d32dc05d10163bb8",
   "outputs": [
    {
     "name": "stdout",
     "output_type": "stream",
     "text": [
      "Epoch 1/100\n"
     ]
    },
    {
     "name": "stderr",
     "output_type": "stream",
     "text": [
      "2025-09-29 18:44:00.446020: E external/local_xla/xla/stream_executor/cuda/cuda_platform.cc:51] failed call to cuInit: INTERNAL: CUDA error: Failed call to cuInit: UNKNOWN ERROR (303)\n"
     ]
    },
    {
     "name": "stdout",
     "output_type": "stream",
     "text": [
      "\u001B[1m149/149\u001B[0m \u001B[32m━━━━━━━━━━━━━━━━━━━━\u001B[0m\u001B[37m\u001B[0m \u001B[1m3s\u001B[0m 5ms/step - loss: 0.0113\n",
      "Epoch 2/100\n",
      "\u001B[1m149/149\u001B[0m \u001B[32m━━━━━━━━━━━━━━━━━━━━\u001B[0m\u001B[37m\u001B[0m \u001B[1m1s\u001B[0m 5ms/step - loss: 0.0027\n",
      "Epoch 3/100\n",
      "\u001B[1m149/149\u001B[0m \u001B[32m━━━━━━━━━━━━━━━━━━━━\u001B[0m\u001B[37m\u001B[0m \u001B[1m1s\u001B[0m 5ms/step - loss: 0.0019\n",
      "Epoch 4/100\n",
      "\u001B[1m149/149\u001B[0m \u001B[32m━━━━━━━━━━━━━━━━━━━━\u001B[0m\u001B[37m\u001B[0m \u001B[1m1s\u001B[0m 5ms/step - loss: 0.0018\n",
      "Epoch 5/100\n",
      "\u001B[1m149/149\u001B[0m \u001B[32m━━━━━━━━━━━━━━━━━━━━\u001B[0m\u001B[37m\u001B[0m \u001B[1m1s\u001B[0m 5ms/step - loss: 0.0016\n",
      "Epoch 6/100\n",
      "\u001B[1m149/149\u001B[0m \u001B[32m━━━━━━━━━━━━━━━━━━━━\u001B[0m\u001B[37m\u001B[0m \u001B[1m1s\u001B[0m 5ms/step - loss: 0.0014\n",
      "Epoch 7/100\n",
      "\u001B[1m149/149\u001B[0m \u001B[32m━━━━━━━━━━━━━━━━━━━━\u001B[0m\u001B[37m\u001B[0m \u001B[1m1s\u001B[0m 5ms/step - loss: 0.0014\n",
      "Epoch 8/100\n",
      "\u001B[1m149/149\u001B[0m \u001B[32m━━━━━━━━━━━━━━━━━━━━\u001B[0m\u001B[37m\u001B[0m \u001B[1m1s\u001B[0m 5ms/step - loss: 0.0015\n",
      "Epoch 9/100\n",
      "\u001B[1m149/149\u001B[0m \u001B[32m━━━━━━━━━━━━━━━━━━━━\u001B[0m\u001B[37m\u001B[0m \u001B[1m1s\u001B[0m 5ms/step - loss: 0.0012\n",
      "Epoch 10/100\n",
      "\u001B[1m149/149\u001B[0m \u001B[32m━━━━━━━━━━━━━━━━━━━━\u001B[0m\u001B[37m\u001B[0m \u001B[1m1s\u001B[0m 5ms/step - loss: 0.0012\n",
      "Epoch 11/100\n",
      "\u001B[1m149/149\u001B[0m \u001B[32m━━━━━━━━━━━━━━━━━━━━\u001B[0m\u001B[37m\u001B[0m \u001B[1m1s\u001B[0m 5ms/step - loss: 0.0010\n",
      "Epoch 12/100\n",
      "\u001B[1m149/149\u001B[0m \u001B[32m━━━━━━━━━━━━━━━━━━━━\u001B[0m\u001B[37m\u001B[0m \u001B[1m1s\u001B[0m 5ms/step - loss: 0.0011\n",
      "Epoch 13/100\n",
      "\u001B[1m149/149\u001B[0m \u001B[32m━━━━━━━━━━━━━━━━━━━━\u001B[0m\u001B[37m\u001B[0m \u001B[1m1s\u001B[0m 5ms/step - loss: 0.0010\n",
      "Epoch 14/100\n",
      "\u001B[1m149/149\u001B[0m \u001B[32m━━━━━━━━━━━━━━━━━━━━\u001B[0m\u001B[37m\u001B[0m \u001B[1m1s\u001B[0m 5ms/step - loss: 9.5851e-04\n",
      "Epoch 15/100\n",
      "\u001B[1m149/149\u001B[0m \u001B[32m━━━━━━━━━━━━━━━━━━━━\u001B[0m\u001B[37m\u001B[0m \u001B[1m1s\u001B[0m 5ms/step - loss: 9.0670e-04\n",
      "Epoch 16/100\n",
      "\u001B[1m149/149\u001B[0m \u001B[32m━━━━━━━━━━━━━━━━━━━━\u001B[0m\u001B[37m\u001B[0m \u001B[1m1s\u001B[0m 5ms/step - loss: 9.5215e-04\n",
      "Epoch 17/100\n",
      "\u001B[1m149/149\u001B[0m \u001B[32m━━━━━━━━━━━━━━━━━━━━\u001B[0m\u001B[37m\u001B[0m \u001B[1m1s\u001B[0m 5ms/step - loss: 8.9046e-04\n",
      "Epoch 18/100\n",
      "\u001B[1m149/149\u001B[0m \u001B[32m━━━━━━━━━━━━━━━━━━━━\u001B[0m\u001B[37m\u001B[0m \u001B[1m1s\u001B[0m 5ms/step - loss: 9.9454e-04\n",
      "Epoch 19/100\n",
      "\u001B[1m149/149\u001B[0m \u001B[32m━━━━━━━━━━━━━━━━━━━━\u001B[0m\u001B[37m\u001B[0m \u001B[1m1s\u001B[0m 5ms/step - loss: 8.3695e-04\n",
      "Epoch 20/100\n",
      "\u001B[1m149/149\u001B[0m \u001B[32m━━━━━━━━━━━━━━━━━━━━\u001B[0m\u001B[37m\u001B[0m \u001B[1m1s\u001B[0m 5ms/step - loss: 0.0010    \n",
      "Epoch 21/100\n",
      "\u001B[1m149/149\u001B[0m \u001B[32m━━━━━━━━━━━━━━━━━━━━\u001B[0m\u001B[37m\u001B[0m \u001B[1m1s\u001B[0m 5ms/step - loss: 9.0572e-04\n",
      "Epoch 22/100\n",
      "\u001B[1m149/149\u001B[0m \u001B[32m━━━━━━━━━━━━━━━━━━━━\u001B[0m\u001B[37m\u001B[0m \u001B[1m1s\u001B[0m 5ms/step - loss: 7.6181e-04\n",
      "Epoch 23/100\n",
      "\u001B[1m149/149\u001B[0m \u001B[32m━━━━━━━━━━━━━━━━━━━━\u001B[0m\u001B[37m\u001B[0m \u001B[1m1s\u001B[0m 5ms/step - loss: 8.1579e-04\n",
      "Epoch 24/100\n",
      "\u001B[1m149/149\u001B[0m \u001B[32m━━━━━━━━━━━━━━━━━━━━\u001B[0m\u001B[37m\u001B[0m \u001B[1m1s\u001B[0m 6ms/step - loss: 7.7056e-04\n",
      "Epoch 25/100\n",
      "\u001B[1m149/149\u001B[0m \u001B[32m━━━━━━━━━━━━━━━━━━━━\u001B[0m\u001B[37m\u001B[0m \u001B[1m1s\u001B[0m 5ms/step - loss: 7.7829e-04\n",
      "Epoch 26/100\n",
      "\u001B[1m149/149\u001B[0m \u001B[32m━━━━━━━━━━━━━━━━━━━━\u001B[0m\u001B[37m\u001B[0m \u001B[1m1s\u001B[0m 5ms/step - loss: 7.5020e-04\n",
      "Epoch 27/100\n",
      "\u001B[1m149/149\u001B[0m \u001B[32m━━━━━━━━━━━━━━━━━━━━\u001B[0m\u001B[37m\u001B[0m \u001B[1m1s\u001B[0m 6ms/step - loss: 7.9829e-04\n",
      "Epoch 28/100\n",
      "\u001B[1m149/149\u001B[0m \u001B[32m━━━━━━━━━━━━━━━━━━━━\u001B[0m\u001B[37m\u001B[0m \u001B[1m1s\u001B[0m 5ms/step - loss: 6.3876e-04\n",
      "Epoch 29/100\n",
      "\u001B[1m149/149\u001B[0m \u001B[32m━━━━━━━━━━━━━━━━━━━━\u001B[0m\u001B[37m\u001B[0m \u001B[1m1s\u001B[0m 6ms/step - loss: 8.1731e-04\n",
      "Epoch 30/100\n",
      "\u001B[1m149/149\u001B[0m \u001B[32m━━━━━━━━━━━━━━━━━━━━\u001B[0m\u001B[37m\u001B[0m \u001B[1m1s\u001B[0m 5ms/step - loss: 7.0822e-04\n",
      "Epoch 31/100\n",
      "\u001B[1m149/149\u001B[0m \u001B[32m━━━━━━━━━━━━━━━━━━━━\u001B[0m\u001B[37m\u001B[0m \u001B[1m1s\u001B[0m 5ms/step - loss: 7.9571e-04\n",
      "Epoch 32/100\n",
      "\u001B[1m149/149\u001B[0m \u001B[32m━━━━━━━━━━━━━━━━━━━━\u001B[0m\u001B[37m\u001B[0m \u001B[1m1s\u001B[0m 5ms/step - loss: 7.2951e-04\n",
      "Epoch 33/100\n",
      "\u001B[1m149/149\u001B[0m \u001B[32m━━━━━━━━━━━━━━━━━━━━\u001B[0m\u001B[37m\u001B[0m \u001B[1m1s\u001B[0m 5ms/step - loss: 7.0337e-04\n",
      "Epoch 34/100\n",
      "\u001B[1m149/149\u001B[0m \u001B[32m━━━━━━━━━━━━━━━━━━━━\u001B[0m\u001B[37m\u001B[0m \u001B[1m1s\u001B[0m 5ms/step - loss: 7.6542e-04\n",
      "Epoch 35/100\n",
      "\u001B[1m149/149\u001B[0m \u001B[32m━━━━━━━━━━━━━━━━━━━━\u001B[0m\u001B[37m\u001B[0m \u001B[1m1s\u001B[0m 6ms/step - loss: 7.4105e-04\n",
      "Epoch 36/100\n",
      "\u001B[1m149/149\u001B[0m \u001B[32m━━━━━━━━━━━━━━━━━━━━\u001B[0m\u001B[37m\u001B[0m \u001B[1m1s\u001B[0m 5ms/step - loss: 7.3861e-04\n",
      "Epoch 37/100\n",
      "\u001B[1m149/149\u001B[0m \u001B[32m━━━━━━━━━━━━━━━━━━━━\u001B[0m\u001B[37m\u001B[0m \u001B[1m1s\u001B[0m 5ms/step - loss: 9.1164e-04\n",
      "Epoch 38/100\n",
      "\u001B[1m149/149\u001B[0m \u001B[32m━━━━━━━━━━━━━━━━━━━━\u001B[0m\u001B[37m\u001B[0m \u001B[1m1s\u001B[0m 6ms/step - loss: 7.3652e-04\n",
      "Epoch 39/100\n",
      "\u001B[1m149/149\u001B[0m \u001B[32m━━━━━━━━━━━━━━━━━━━━\u001B[0m\u001B[37m\u001B[0m \u001B[1m1s\u001B[0m 5ms/step - loss: 8.2043e-04\n",
      "Epoch 40/100\n",
      "\u001B[1m149/149\u001B[0m \u001B[32m━━━━━━━━━━━━━━━━━━━━\u001B[0m\u001B[37m\u001B[0m \u001B[1m1s\u001B[0m 5ms/step - loss: 9.4846e-04\n",
      "Epoch 41/100\n",
      "\u001B[1m149/149\u001B[0m \u001B[32m━━━━━━━━━━━━━━━━━━━━\u001B[0m\u001B[37m\u001B[0m \u001B[1m1s\u001B[0m 5ms/step - loss: 7.6518e-04\n",
      "Epoch 42/100\n",
      "\u001B[1m149/149\u001B[0m \u001B[32m━━━━━━━━━━━━━━━━━━━━\u001B[0m\u001B[37m\u001B[0m \u001B[1m1s\u001B[0m 5ms/step - loss: 6.6951e-04\n",
      "Epoch 43/100\n",
      "\u001B[1m149/149\u001B[0m \u001B[32m━━━━━━━━━━━━━━━━━━━━\u001B[0m\u001B[37m\u001B[0m \u001B[1m1s\u001B[0m 5ms/step - loss: 6.4369e-04\n",
      "Epoch 44/100\n",
      "\u001B[1m149/149\u001B[0m \u001B[32m━━━━━━━━━━━━━━━━━━━━\u001B[0m\u001B[37m\u001B[0m \u001B[1m1s\u001B[0m 5ms/step - loss: 7.9312e-04\n",
      "Epoch 45/100\n",
      "\u001B[1m149/149\u001B[0m \u001B[32m━━━━━━━━━━━━━━━━━━━━\u001B[0m\u001B[37m\u001B[0m \u001B[1m1s\u001B[0m 5ms/step - loss: 6.8145e-04\n",
      "Epoch 46/100\n",
      "\u001B[1m149/149\u001B[0m \u001B[32m━━━━━━━━━━━━━━━━━━━━\u001B[0m\u001B[37m\u001B[0m \u001B[1m1s\u001B[0m 5ms/step - loss: 6.0146e-04\n",
      "Epoch 47/100\n",
      "\u001B[1m149/149\u001B[0m \u001B[32m━━━━━━━━━━━━━━━━━━━━\u001B[0m\u001B[37m\u001B[0m \u001B[1m1s\u001B[0m 5ms/step - loss: 5.9509e-04\n",
      "Epoch 48/100\n",
      "\u001B[1m149/149\u001B[0m \u001B[32m━━━━━━━━━━━━━━━━━━━━\u001B[0m\u001B[37m\u001B[0m \u001B[1m1s\u001B[0m 5ms/step - loss: 7.1948e-04\n",
      "Epoch 49/100\n",
      "\u001B[1m149/149\u001B[0m \u001B[32m━━━━━━━━━━━━━━━━━━━━\u001B[0m\u001B[37m\u001B[0m \u001B[1m1s\u001B[0m 6ms/step - loss: 5.9060e-04\n",
      "Epoch 50/100\n",
      "\u001B[1m149/149\u001B[0m \u001B[32m━━━━━━━━━━━━━━━━━━━━\u001B[0m\u001B[37m\u001B[0m \u001B[1m1s\u001B[0m 6ms/step - loss: 5.8234e-04\n",
      "Epoch 51/100\n",
      "\u001B[1m149/149\u001B[0m \u001B[32m━━━━━━━━━━━━━━━━━━━━\u001B[0m\u001B[37m\u001B[0m \u001B[1m1s\u001B[0m 5ms/step - loss: 6.6190e-04\n",
      "Epoch 52/100\n",
      "\u001B[1m149/149\u001B[0m \u001B[32m━━━━━━━━━━━━━━━━━━━━\u001B[0m\u001B[37m\u001B[0m \u001B[1m1s\u001B[0m 5ms/step - loss: 6.9366e-04\n",
      "Epoch 53/100\n",
      "\u001B[1m149/149\u001B[0m \u001B[32m━━━━━━━━━━━━━━━━━━━━\u001B[0m\u001B[37m\u001B[0m \u001B[1m1s\u001B[0m 5ms/step - loss: 6.3207e-04\n",
      "Epoch 54/100\n",
      "\u001B[1m149/149\u001B[0m \u001B[32m━━━━━━━━━━━━━━━━━━━━\u001B[0m\u001B[37m\u001B[0m \u001B[1m1s\u001B[0m 5ms/step - loss: 6.9668e-04\n",
      "Epoch 55/100\n",
      "\u001B[1m149/149\u001B[0m \u001B[32m━━━━━━━━━━━━━━━━━━━━\u001B[0m\u001B[37m\u001B[0m \u001B[1m1s\u001B[0m 5ms/step - loss: 5.6902e-04\n",
      "Epoch 56/100\n",
      "\u001B[1m149/149\u001B[0m \u001B[32m━━━━━━━━━━━━━━━━━━━━\u001B[0m\u001B[37m\u001B[0m \u001B[1m1s\u001B[0m 5ms/step - loss: 5.8403e-04\n",
      "Epoch 57/100\n",
      "\u001B[1m149/149\u001B[0m \u001B[32m━━━━━━━━━━━━━━━━━━━━\u001B[0m\u001B[37m\u001B[0m \u001B[1m1s\u001B[0m 5ms/step - loss: 5.2341e-04\n",
      "Epoch 58/100\n",
      "\u001B[1m149/149\u001B[0m \u001B[32m━━━━━━━━━━━━━━━━━━━━\u001B[0m\u001B[37m\u001B[0m \u001B[1m1s\u001B[0m 5ms/step - loss: 6.1933e-04\n",
      "Epoch 59/100\n",
      "\u001B[1m149/149\u001B[0m \u001B[32m━━━━━━━━━━━━━━━━━━━━\u001B[0m\u001B[37m\u001B[0m \u001B[1m1s\u001B[0m 5ms/step - loss: 6.6145e-04\n",
      "Epoch 60/100\n",
      "\u001B[1m149/149\u001B[0m \u001B[32m━━━━━━━━━━━━━━━━━━━━\u001B[0m\u001B[37m\u001B[0m \u001B[1m1s\u001B[0m 5ms/step - loss: 5.8307e-04\n",
      "Epoch 61/100\n",
      "\u001B[1m149/149\u001B[0m \u001B[32m━━━━━━━━━━━━━━━━━━━━\u001B[0m\u001B[37m\u001B[0m \u001B[1m1s\u001B[0m 5ms/step - loss: 4.8442e-04\n",
      "Epoch 62/100\n",
      "\u001B[1m149/149\u001B[0m \u001B[32m━━━━━━━━━━━━━━━━━━━━\u001B[0m\u001B[37m\u001B[0m \u001B[1m1s\u001B[0m 5ms/step - loss: 6.8763e-04\n",
      "Epoch 63/100\n",
      "\u001B[1m149/149\u001B[0m \u001B[32m━━━━━━━━━━━━━━━━━━━━\u001B[0m\u001B[37m\u001B[0m \u001B[1m1s\u001B[0m 5ms/step - loss: 6.1948e-04\n",
      "Epoch 64/100\n",
      "\u001B[1m149/149\u001B[0m \u001B[32m━━━━━━━━━━━━━━━━━━━━\u001B[0m\u001B[37m\u001B[0m \u001B[1m1s\u001B[0m 5ms/step - loss: 5.5215e-04\n",
      "Epoch 65/100\n",
      "\u001B[1m149/149\u001B[0m \u001B[32m━━━━━━━━━━━━━━━━━━━━\u001B[0m\u001B[37m\u001B[0m \u001B[1m1s\u001B[0m 5ms/step - loss: 6.3350e-04\n",
      "Epoch 66/100\n",
      "\u001B[1m149/149\u001B[0m \u001B[32m━━━━━━━━━━━━━━━━━━━━\u001B[0m\u001B[37m\u001B[0m \u001B[1m1s\u001B[0m 5ms/step - loss: 6.1167e-04\n",
      "Epoch 67/100\n",
      "\u001B[1m149/149\u001B[0m \u001B[32m━━━━━━━━━━━━━━━━━━━━\u001B[0m\u001B[37m\u001B[0m \u001B[1m1s\u001B[0m 5ms/step - loss: 5.9534e-04\n",
      "Epoch 68/100\n",
      "\u001B[1m149/149\u001B[0m \u001B[32m━━━━━━━━━━━━━━━━━━━━\u001B[0m\u001B[37m\u001B[0m \u001B[1m1s\u001B[0m 5ms/step - loss: 6.1890e-04\n",
      "Epoch 69/100\n",
      "\u001B[1m149/149\u001B[0m \u001B[32m━━━━━━━━━━━━━━━━━━━━\u001B[0m\u001B[37m\u001B[0m \u001B[1m1s\u001B[0m 6ms/step - loss: 6.1250e-04\n",
      "Epoch 70/100\n",
      "\u001B[1m149/149\u001B[0m \u001B[32m━━━━━━━━━━━━━━━━━━━━\u001B[0m\u001B[37m\u001B[0m \u001B[1m1s\u001B[0m 5ms/step - loss: 5.9882e-04\n",
      "Epoch 71/100\n",
      "\u001B[1m149/149\u001B[0m \u001B[32m━━━━━━━━━━━━━━━━━━━━\u001B[0m\u001B[37m\u001B[0m \u001B[1m1s\u001B[0m 5ms/step - loss: 5.7623e-04\n",
      "Epoch 72/100\n",
      "\u001B[1m149/149\u001B[0m \u001B[32m━━━━━━━━━━━━━━━━━━━━\u001B[0m\u001B[37m\u001B[0m \u001B[1m1s\u001B[0m 5ms/step - loss: 6.1348e-04\n",
      "Epoch 73/100\n",
      "\u001B[1m149/149\u001B[0m \u001B[32m━━━━━━━━━━━━━━━━━━━━\u001B[0m\u001B[37m\u001B[0m \u001B[1m1s\u001B[0m 5ms/step - loss: 5.4902e-04\n",
      "Epoch 74/100\n",
      "\u001B[1m149/149\u001B[0m \u001B[32m━━━━━━━━━━━━━━━━━━━━\u001B[0m\u001B[37m\u001B[0m \u001B[1m1s\u001B[0m 5ms/step - loss: 5.3052e-04\n",
      "Epoch 75/100\n",
      "\u001B[1m149/149\u001B[0m \u001B[32m━━━━━━━━━━━━━━━━━━━━\u001B[0m\u001B[37m\u001B[0m \u001B[1m1s\u001B[0m 5ms/step - loss: 5.9111e-04\n",
      "Epoch 76/100\n",
      "\u001B[1m149/149\u001B[0m \u001B[32m━━━━━━━━━━━━━━━━━━━━\u001B[0m\u001B[37m\u001B[0m \u001B[1m1s\u001B[0m 5ms/step - loss: 5.7535e-04\n",
      "Epoch 77/100\n",
      "\u001B[1m149/149\u001B[0m \u001B[32m━━━━━━━━━━━━━━━━━━━━\u001B[0m\u001B[37m\u001B[0m \u001B[1m1s\u001B[0m 5ms/step - loss: 5.1435e-04\n",
      "Epoch 78/100\n",
      "\u001B[1m149/149\u001B[0m \u001B[32m━━━━━━━━━━━━━━━━━━━━\u001B[0m\u001B[37m\u001B[0m \u001B[1m1s\u001B[0m 5ms/step - loss: 5.9520e-04\n",
      "Epoch 79/100\n",
      "\u001B[1m149/149\u001B[0m \u001B[32m━━━━━━━━━━━━━━━━━━━━\u001B[0m\u001B[37m\u001B[0m \u001B[1m1s\u001B[0m 5ms/step - loss: 6.3878e-04\n",
      "Epoch 80/100\n",
      "\u001B[1m149/149\u001B[0m \u001B[32m━━━━━━━━━━━━━━━━━━━━\u001B[0m\u001B[37m\u001B[0m \u001B[1m1s\u001B[0m 5ms/step - loss: 5.2956e-04\n",
      "Epoch 81/100\n",
      "\u001B[1m149/149\u001B[0m \u001B[32m━━━━━━━━━━━━━━━━━━━━\u001B[0m\u001B[37m\u001B[0m \u001B[1m1s\u001B[0m 5ms/step - loss: 5.5988e-04\n",
      "Epoch 82/100\n",
      "\u001B[1m149/149\u001B[0m \u001B[32m━━━━━━━━━━━━━━━━━━━━\u001B[0m\u001B[37m\u001B[0m \u001B[1m1s\u001B[0m 6ms/step - loss: 5.7031e-04\n",
      "Epoch 83/100\n",
      "\u001B[1m149/149\u001B[0m \u001B[32m━━━━━━━━━━━━━━━━━━━━\u001B[0m\u001B[37m\u001B[0m \u001B[1m1s\u001B[0m 5ms/step - loss: 6.0961e-04\n",
      "Epoch 84/100\n",
      "\u001B[1m149/149\u001B[0m \u001B[32m━━━━━━━━━━━━━━━━━━━━\u001B[0m\u001B[37m\u001B[0m \u001B[1m1s\u001B[0m 5ms/step - loss: 5.5309e-04\n",
      "Epoch 85/100\n",
      "\u001B[1m149/149\u001B[0m \u001B[32m━━━━━━━━━━━━━━━━━━━━\u001B[0m\u001B[37m\u001B[0m \u001B[1m1s\u001B[0m 5ms/step - loss: 5.7747e-04\n",
      "Epoch 86/100\n",
      "\u001B[1m149/149\u001B[0m \u001B[32m━━━━━━━━━━━━━━━━━━━━\u001B[0m\u001B[37m\u001B[0m \u001B[1m1s\u001B[0m 5ms/step - loss: 5.2871e-04\n",
      "Epoch 87/100\n",
      "\u001B[1m149/149\u001B[0m \u001B[32m━━━━━━━━━━━━━━━━━━━━\u001B[0m\u001B[37m\u001B[0m \u001B[1m1s\u001B[0m 5ms/step - loss: 5.4601e-04\n",
      "Epoch 88/100\n",
      "\u001B[1m149/149\u001B[0m \u001B[32m━━━━━━━━━━━━━━━━━━━━\u001B[0m\u001B[37m\u001B[0m \u001B[1m1s\u001B[0m 5ms/step - loss: 5.7275e-04\n",
      "Epoch 89/100\n",
      "\u001B[1m149/149\u001B[0m \u001B[32m━━━━━━━━━━━━━━━━━━━━\u001B[0m\u001B[37m\u001B[0m \u001B[1m1s\u001B[0m 5ms/step - loss: 5.4484e-04\n",
      "Epoch 90/100\n",
      "\u001B[1m149/149\u001B[0m \u001B[32m━━━━━━━━━━━━━━━━━━━━\u001B[0m\u001B[37m\u001B[0m \u001B[1m1s\u001B[0m 5ms/step - loss: 5.9826e-04\n",
      "Epoch 91/100\n",
      "\u001B[1m149/149\u001B[0m \u001B[32m━━━━━━━━━━━━━━━━━━━━\u001B[0m\u001B[37m\u001B[0m \u001B[1m1s\u001B[0m 5ms/step - loss: 5.2504e-04\n",
      "Epoch 92/100\n",
      "\u001B[1m149/149\u001B[0m \u001B[32m━━━━━━━━━━━━━━━━━━━━\u001B[0m\u001B[37m\u001B[0m \u001B[1m1s\u001B[0m 5ms/step - loss: 5.2559e-04\n",
      "Epoch 93/100\n",
      "\u001B[1m149/149\u001B[0m \u001B[32m━━━━━━━━━━━━━━━━━━━━\u001B[0m\u001B[37m\u001B[0m \u001B[1m1s\u001B[0m 5ms/step - loss: 5.9436e-04\n",
      "Epoch 94/100\n",
      "\u001B[1m149/149\u001B[0m \u001B[32m━━━━━━━━━━━━━━━━━━━━\u001B[0m\u001B[37m\u001B[0m \u001B[1m1s\u001B[0m 5ms/step - loss: 6.2397e-04\n",
      "Epoch 95/100\n",
      "\u001B[1m149/149\u001B[0m \u001B[32m━━━━━━━━━━━━━━━━━━━━\u001B[0m\u001B[37m\u001B[0m \u001B[1m1s\u001B[0m 5ms/step - loss: 5.6134e-04\n",
      "Epoch 96/100\n",
      "\u001B[1m149/149\u001B[0m \u001B[32m━━━━━━━━━━━━━━━━━━━━\u001B[0m\u001B[37m\u001B[0m \u001B[1m1s\u001B[0m 5ms/step - loss: 5.4042e-04\n",
      "Epoch 97/100\n",
      "\u001B[1m149/149\u001B[0m \u001B[32m━━━━━━━━━━━━━━━━━━━━\u001B[0m\u001B[37m\u001B[0m \u001B[1m1s\u001B[0m 5ms/step - loss: 4.9490e-04\n",
      "Epoch 98/100\n",
      "\u001B[1m149/149\u001B[0m \u001B[32m━━━━━━━━━━━━━━━━━━━━\u001B[0m\u001B[37m\u001B[0m \u001B[1m1s\u001B[0m 5ms/step - loss: 5.1995e-04\n",
      "Epoch 99/100\n",
      "\u001B[1m149/149\u001B[0m \u001B[32m━━━━━━━━━━━━━━━━━━━━\u001B[0m\u001B[37m\u001B[0m \u001B[1m1s\u001B[0m 5ms/step - loss: 5.4100e-04\n",
      "Epoch 100/100\n",
      "\u001B[1m149/149\u001B[0m \u001B[32m━━━━━━━━━━━━━━━━━━━━\u001B[0m\u001B[37m\u001B[0m \u001B[1m1s\u001B[0m 5ms/step - loss: 5.1956e-04\n"
     ]
    },
    {
     "data": {
      "text/plain": [
       "<keras.src.callbacks.history.History at 0x7f3ad8bd6930>"
      ]
     },
     "execution_count": 13,
     "metadata": {},
     "output_type": "execute_result"
    }
   ],
   "execution_count": 13
  },
  {
   "metadata": {},
   "cell_type": "markdown",
   "source": "# predict and visualising RNN model",
   "id": "fbcbaee4684e9613"
  },
  {
   "metadata": {
    "ExecuteTime": {
     "end_time": "2025-09-29T11:45:19.783241Z",
     "start_time": "2025-09-29T11:45:19.778954Z"
    }
   },
   "cell_type": "code",
   "source": [
    "real_bitcoin_price = df_test.loc[:, [\"Close\"]].values\n",
    "real_bitcoin_price.shape"
   ],
   "id": "9d2647c2e5bdd8ba",
   "outputs": [
    {
     "data": {
      "text/plain": [
       "(251, 1)"
      ]
     },
     "execution_count": 14,
     "metadata": {},
     "output_type": "execute_result"
    }
   ],
   "execution_count": 14
  },
  {
   "metadata": {
    "ExecuteTime": {
     "end_time": "2025-09-29T11:45:19.833881Z",
     "start_time": "2025-09-29T11:45:19.829735Z"
    }
   },
   "cell_type": "code",
   "source": [
    "# Để dự đoán điểm đầu tiên trong test set cần timestep điểm ngay trước nó (Nằm trong train set)\n",
    "df_total = pd.concat((df_train['Close'], df_test['Close']), axis = 0)\n",
    "inputs = df_total[len(df_total) - len(df_test) - time_step:].values.reshape(-1,1)\n",
    "inputs = scaler.transform(inputs)  # min max scaler"
   ],
   "id": "e7895235fbe227f1",
   "outputs": [],
   "execution_count": 15
  },
  {
   "metadata": {
    "ExecuteTime": {
     "end_time": "2025-09-29T11:45:20.565966Z",
     "start_time": "2025-09-29T11:45:19.877470Z"
    }
   },
   "cell_type": "code",
   "source": [
    "# Tạo sequence data test\n",
    "X_test = []\n",
    "for i in range(time_step, inputs.shape[0]):\n",
    "    X_test.append(inputs[i-time_step:i, 0])\n",
    "X_test = np.array(X_test)\n",
    "X_test = np.reshape(X_test, (X_test.shape[0], X_test.shape[1], 1))\n",
    "\n",
    "predicted_bitcoin_price = regressor.predict(X_test)\n",
    "predicted_bitcoin_price = scaler.inverse_transform(predicted_bitcoin_price)\n",
    "\n",
    "# Visualising\n",
    "plt.plot(real_bitcoin_price, color = 'red', label = 'Real Bitcoin Price')\n",
    "plt.plot(predicted_bitcoin_price, color = 'blue', label = 'Predicted Bitcoin Price')\n",
    "plt.title('Bitcoin Price Prediction')\n",
    "plt.xlabel('Time')\n",
    "plt.ylabel('Bitcoin Price')\n",
    "plt.legend()\n",
    "plt.show()"
   ],
   "id": "3f714e21c65ec9f",
   "outputs": [
    {
     "name": "stdout",
     "output_type": "stream",
     "text": [
      "\u001B[1m8/8\u001B[0m \u001B[32m━━━━━━━━━━━━━━━━━━━━\u001B[0m\u001B[37m\u001B[0m \u001B[1m1s\u001B[0m 41ms/step\n"
     ]
    },
    {
     "data": {
      "text/plain": [
       "<Figure size 640x480 with 1 Axes>"
      ],
      "image/png": "[encoded data removed]"
     },
     "metadata": {},
     "output_type": "display_data",
     "jetTransient": {
      "display_id": null
     }
    }
   ],
   "execution_count": 16
  },
  {
   "metadata": {},
   "cell_type": "markdown",
   "source": "# LSTM",
   "id": "58c5ade500a64fe6"
  },
  {
   "metadata": {},
   "cell_type": "markdown",
   "source": "### Train and test split",
   "id": "6e7c6b3f5d7bcdd7"
  },
  {
   "metadata": {
    "ExecuteTime": {
     "end_time": "2025-09-29T11:45:20.576881Z",
     "start_time": "2025-09-29T11:45:20.573586Z"
    }
   },
   "cell_type": "code",
   "source": [
    "train_size = int(len(grouped_data) * 0.90)\n",
    "test_size = len(grouped_data) - train_size\n",
    "df_train = grouped_data.iloc[0:train_size, :]\n",
    "df_test = grouped_data.iloc[train_size:len(grouped_data), :]\n",
    "print(\"DF_Train size: {}, DF_Test size: {}\". format(len(df_train), len(df_test)))"
   ],
   "id": "5a803139252c18fe",
   "outputs": [
    {
     "name": "stdout",
     "output_type": "stream",
     "text": [
      "DF_Train size: 4514, DF_Test size: 502\n"
     ]
    }
   ],
   "execution_count": 17
  },
  {
   "metadata": {
    "ExecuteTime": {
     "end_time": "2025-09-29T11:45:20.626227Z",
     "start_time": "2025-09-29T11:45:20.622261Z"
    }
   },
   "cell_type": "code",
   "source": [
    "dataset = df_train.loc[:, [\"Close\"]].values\n",
    "dataset.shape"
   ],
   "id": "d1f1e2cb97779deb",
   "outputs": [
    {
     "data": {
      "text/plain": [
       "(4514, 1)"
      ]
     },
     "execution_count": 18,
     "metadata": {},
     "output_type": "execute_result"
    }
   ],
   "execution_count": 18
  },
  {
   "metadata": {
    "ExecuteTime": {
     "end_time": "2025-09-29T11:45:20.680884Z",
     "start_time": "2025-09-29T11:45:20.674091Z"
    }
   },
   "cell_type": "code",
   "source": [
    "#reshape\n",
    "dataset = dataset.reshape(-1, 1)\n",
    "dataset.shape"
   ],
   "id": "3e4c7d2045edd8d4",
   "outputs": [
    {
     "data": {
      "text/plain": [
       "(4514, 1)"
      ]
     },
     "execution_count": 19,
     "metadata": {},
     "output_type": "execute_result"
    }
   ],
   "execution_count": 19
  },
  {
   "metadata": {},
   "cell_type": "markdown",
   "source": "### Scaling data",
   "id": "d79a8a7aa1d868aa"
  },
  {
   "metadata": {
    "ExecuteTime": {
     "end_time": "2025-09-29T11:45:20.759591Z",
     "start_time": "2025-09-29T11:45:20.756226Z"
    }
   },
   "cell_type": "code",
   "source": [
    "scaler = MinMaxScaler(feature_range = (0, 1))\n",
    "data_scaled = scaler.fit_transform(dataset)"
   ],
   "id": "d70ced57ab7ada21",
   "outputs": [],
   "execution_count": 20
  },
  {
   "metadata": {
    "ExecuteTime": {
     "end_time": "2025-09-29T11:45:20.808657Z",
     "start_time": "2025-09-29T11:45:20.805015Z"
    }
   },
   "cell_type": "code",
   "source": [
    "# We divide the DATA_SCALED by Training %50, Test %50\n",
    "train_size = int(len(data_scaled) * 0.50)\n",
    "test_size = len(data_scaled) - train_size\n",
    "data_scaled_train = data_scaled[0:train_size, :]\n",
    "data_scaled_test = data_scaled[train_size:len(data_scaled), :]\n",
    "\n",
    "print(\"data_scaled_train size: {}\\ndata_scaled_test size: {}\". format(len(data_scaled_train), len(data_scaled_test)))\n",
    "print(\"data_scaled_train shape: {}\\ndata_scaled_test shape: {}\". format(data_scaled_train.shape, data_scaled_test.shape))"
   ],
   "id": "cb901817559a1735",
   "outputs": [
    {
     "name": "stdout",
     "output_type": "stream",
     "text": [
      "data_scaled_train size: 2257\n",
      "data_scaled_test size: 2257\n",
      "data_scaled_train shape: (2257, 1)\n",
      "data_scaled_test shape: (2257, 1)\n"
     ]
    }
   ],
   "execution_count": 21
  },
  {
   "metadata": {
    "ExecuteTime": {
     "end_time": "2025-09-29T11:45:20.864837Z",
     "start_time": "2025-09-29T11:45:20.855013Z"
    }
   },
   "cell_type": "code",
   "source": [
    "# Tạo sequences data (train dataset)\n",
    "time_step = 10\n",
    "dataX = []\n",
    "dataY = []\n",
    "for i in range(len(data_scaled_train) - time_step - 1):\n",
    "    a = data_scaled_train[i:(i + time_step), 0]\n",
    "    dataX.append(a)\n",
    "    dataY.append(data_scaled_train[i + time_step, 0])\n",
    "trainX = np.array(dataX)\n",
    "trainY = np.array(dataY)\n",
    "\n",
    "print(\"trainX shape: {}\\ntrainY shape: {}\". format(trainX.shape, trainY.shape))"
   ],
   "id": "5f233881b6e2746f",
   "outputs": [
    {
     "name": "stdout",
     "output_type": "stream",
     "text": [
      "trainX shape: (2246, 10)\n",
      "trainY shape: (2246,)\n"
     ]
    }
   ],
   "execution_count": 22
  },
  {
   "metadata": {
    "ExecuteTime": {
     "end_time": "2025-09-29T11:45:20.914739Z",
     "start_time": "2025-09-29T11:45:20.909156Z"
    }
   },
   "cell_type": "code",
   "source": [
    "# Tạo sequences data (test dataset)\n",
    "dataX = []\n",
    "dataY = []\n",
    "for i in range(len(data_scaled_test) - time_step -1):\n",
    "    a = data_scaled_test[i:(i + time_step), 0]\n",
    "    dataX.append(a)\n",
    "    dataY.append(data_scaled_test[i + time_step, 0])\n",
    "testX = np.array(dataX)\n",
    "testY = np.array(dataY)\n",
    "\n",
    "print(\"testX shape: {}\\ntestY shape: {}\". format(testX.shape, testY.shape))"
   ],
   "id": "fd7017b8280315d2",
   "outputs": [
    {
     "name": "stdout",
     "output_type": "stream",
     "text": [
      "testX shape: (2246, 10)\n",
      "testY shape: (2246,)\n"
     ]
    }
   ],
   "execution_count": 23
  },
  {
   "metadata": {
    "ExecuteTime": {
     "end_time": "2025-09-29T11:45:20.962148Z",
     "start_time": "2025-09-29T11:45:20.958831Z"
    }
   },
   "cell_type": "code",
   "source": [
    "# Reshaping to 3D\n",
    "trainX = np.reshape(trainX, (trainX.shape[0], 1, trainX.shape[1]))\n",
    "testX = np.reshape(testX, (testX.shape[0], 1, testX.shape[1]))\n",
    "\n",
    "print(\"X_train shape: \",trainX.shape)\n",
    "print(\"X_test shape: \",testX.shape)"
   ],
   "id": "4cdeb2a02c9785e1",
   "outputs": [
    {
     "name": "stdout",
     "output_type": "stream",
     "text": [
      "X_train shape:  (2246, 1, 10)\n",
      "X_test shape:  (2246, 1, 10)\n"
     ]
    }
   ],
   "execution_count": 24
  },
  {
   "metadata": {},
   "cell_type": "markdown",
   "source": "### Model",
   "id": "25b89c148a672e7a"
  },
  {
   "metadata": {
    "ExecuteTime": {
     "end_time": "2025-09-29T11:45:38.357601Z",
     "start_time": "2025-09-29T11:45:21.007680Z"
    }
   },
   "cell_type": "code",
   "source": [
    "# model\n",
    "model = Sequential()\n",
    "model.add(LSTM(256, input_shape = (1, time_step))) # 256 LSTM neuron(block)\n",
    "model.add(Dropout(0.2))\n",
    "model.add(Dense(1))\n",
    "model.compile(loss= \"mean_squared_error\", optimizer = \"adam\")\n",
    "model.fit(trainX, trainY, epochs=100, batch_size=50)"
   ],
   "id": "487732ea49438567",
   "outputs": [
    {
     "name": "stdout",
     "output_type": "stream",
     "text": [
      "Epoch 1/100\n",
      "\u001B[1m45/45\u001B[0m \u001B[32m━━━━━━━━━━━━━━━━━━━━\u001B[0m\u001B[37m\u001B[0m \u001B[1m1s\u001B[0m 4ms/step - loss: 3.8798e-04\n",
      "Epoch 2/100\n",
      "\u001B[1m45/45\u001B[0m \u001B[32m━━━━━━━━━━━━━━━━━━━━\u001B[0m\u001B[37m\u001B[0m \u001B[1m0s\u001B[0m 4ms/step - loss: 3.1600e-05\n",
      "Epoch 3/100\n",
      "\u001B[1m45/45\u001B[0m \u001B[32m━━━━━━━━━━━━━━━━━━━━\u001B[0m\u001B[37m\u001B[0m \u001B[1m0s\u001B[0m 3ms/step - loss: 2.9164e-05\n",
      "Epoch 4/100\n",
      "\u001B[1m45/45\u001B[0m \u001B[32m━━━━━━━━━━━━━━━━━━━━\u001B[0m\u001B[37m\u001B[0m \u001B[1m0s\u001B[0m 3ms/step - loss: 2.8620e-05\n",
      "Epoch 5/100\n",
      "\u001B[1m45/45\u001B[0m \u001B[32m━━━━━━━━━━━━━━━━━━━━\u001B[0m\u001B[37m\u001B[0m \u001B[1m0s\u001B[0m 3ms/step - loss: 3.1204e-05\n",
      "Epoch 6/100\n",
      "\u001B[1m45/45\u001B[0m \u001B[32m━━━━━━━━━━━━━━━━━━━━\u001B[0m\u001B[37m\u001B[0m \u001B[1m0s\u001B[0m 3ms/step - loss: 2.5583e-05\n",
      "Epoch 7/100\n",
      "\u001B[1m45/45\u001B[0m \u001B[32m━━━━━━━━━━━━━━━━━━━━\u001B[0m\u001B[37m\u001B[0m \u001B[1m0s\u001B[0m 3ms/step - loss: 2.5840e-05\n",
      "Epoch 8/100\n",
      "\u001B[1m45/45\u001B[0m \u001B[32m━━━━━━━━━━━━━━━━━━━━\u001B[0m\u001B[37m\u001B[0m \u001B[1m0s\u001B[0m 3ms/step - loss: 2.5049e-05\n",
      "Epoch 9/100\n",
      "\u001B[1m45/45\u001B[0m \u001B[32m━━━━━━━━━━━━━━━━━━━━\u001B[0m\u001B[37m\u001B[0m \u001B[1m0s\u001B[0m 3ms/step - loss: 2.1481e-05\n",
      "Epoch 10/100\n",
      "\u001B[1m45/45\u001B[0m \u001B[32m━━━━━━━━━━━━━━━━━━━━\u001B[0m\u001B[37m\u001B[0m \u001B[1m0s\u001B[0m 4ms/step - loss: 2.2147e-05\n",
      "Epoch 11/100\n",
      "\u001B[1m45/45\u001B[0m \u001B[32m━━━━━━━━━━━━━━━━━━━━\u001B[0m\u001B[37m\u001B[0m \u001B[1m0s\u001B[0m 3ms/step - loss: 1.9837e-05\n",
      "Epoch 12/100\n",
      "\u001B[1m45/45\u001B[0m \u001B[32m━━━━━━━━━━━━━━━━━━━━\u001B[0m\u001B[37m\u001B[0m \u001B[1m0s\u001B[0m 3ms/step - loss: 2.0376e-05\n",
      "Epoch 13/100\n",
      "\u001B[1m45/45\u001B[0m \u001B[32m━━━━━━━━━━━━━━━━━━━━\u001B[0m\u001B[37m\u001B[0m \u001B[1m0s\u001B[0m 3ms/step - loss: 1.7030e-05\n",
      "Epoch 14/100\n",
      "\u001B[1m45/45\u001B[0m \u001B[32m━━━━━━━━━━━━━━━━━━━━\u001B[0m\u001B[37m\u001B[0m \u001B[1m0s\u001B[0m 4ms/step - loss: 1.6453e-05\n",
      "Epoch 15/100\n",
      "\u001B[1m45/45\u001B[0m \u001B[32m━━━━━━━━━━━━━━━━━━━━\u001B[0m\u001B[37m\u001B[0m \u001B[1m0s\u001B[0m 3ms/step - loss: 1.4799e-05\n",
      "Epoch 16/100\n",
      "\u001B[1m45/45\u001B[0m \u001B[32m━━━━━━━━━━━━━━━━━━━━\u001B[0m\u001B[37m\u001B[0m \u001B[1m0s\u001B[0m 3ms/step - loss: 1.7649e-05\n",
      "Epoch 17/100\n",
      "\u001B[1m45/45\u001B[0m \u001B[32m━━━━━━━━━━━━━━━━━━━━\u001B[0m\u001B[37m\u001B[0m \u001B[1m0s\u001B[0m 3ms/step - loss: 1.7519e-05\n",
      "Epoch 18/100\n",
      "\u001B[1m45/45\u001B[0m \u001B[32m━━━━━━━━━━━━━━━━━━━━\u001B[0m\u001B[37m\u001B[0m \u001B[1m0s\u001B[0m 3ms/step - loss: 1.5902e-05\n",
      "Epoch 19/100\n",
      "\u001B[1m45/45\u001B[0m \u001B[32m━━━━━━━━━━━━━━━━━━━━\u001B[0m\u001B[37m\u001B[0m \u001B[1m0s\u001B[0m 3ms/step - loss: 1.3919e-05\n",
      "Epoch 20/100\n",
      "\u001B[1m45/45\u001B[0m \u001B[32m━━━━━━━━━━━━━━━━━━━━\u001B[0m\u001B[37m\u001B[0m \u001B[1m0s\u001B[0m 3ms/step - loss: 1.4693e-05\n",
      "Epoch 21/100\n",
      "\u001B[1m45/45\u001B[0m \u001B[32m━━━━━━━━━━━━━━━━━━━━\u001B[0m\u001B[37m\u001B[0m \u001B[1m0s\u001B[0m 3ms/step - loss: 1.7591e-05\n",
      "Epoch 22/100\n",
      "\u001B[1m45/45\u001B[0m \u001B[32m━━━━━━━━━━━━━━━━━━━━\u001B[0m\u001B[37m\u001B[0m \u001B[1m0s\u001B[0m 3ms/step - loss: 1.4592e-05\n",
      "Epoch 23/100\n",
      "\u001B[1m45/45\u001B[0m \u001B[32m━━━━━━━━━━━━━━━━━━━━\u001B[0m\u001B[37m\u001B[0m \u001B[1m0s\u001B[0m 3ms/step - loss: 1.2791e-05\n",
      "Epoch 24/100\n",
      "\u001B[1m45/45\u001B[0m \u001B[32m━━━━━━━━━━━━━━━━━━━━\u001B[0m\u001B[37m\u001B[0m \u001B[1m0s\u001B[0m 3ms/step - loss: 1.3774e-05\n",
      "Epoch 25/100\n",
      "\u001B[1m45/45\u001B[0m \u001B[32m━━━━━━━━━━━━━━━━━━━━\u001B[0m\u001B[37m\u001B[0m \u001B[1m0s\u001B[0m 3ms/step - loss: 1.4538e-05\n",
      "Epoch 26/100\n",
      "\u001B[1m45/45\u001B[0m \u001B[32m━━━━━━━━━━━━━━━━━━━━\u001B[0m\u001B[37m\u001B[0m \u001B[1m0s\u001B[0m 3ms/step - loss: 1.7623e-05\n",
      "Epoch 27/100\n",
      "\u001B[1m45/45\u001B[0m \u001B[32m━━━━━━━━━━━━━━━━━━━━\u001B[0m\u001B[37m\u001B[0m \u001B[1m0s\u001B[0m 3ms/step - loss: 1.3163e-05\n",
      "Epoch 28/100\n",
      "\u001B[1m45/45\u001B[0m \u001B[32m━━━━━━━━━━━━━━━━━━━━\u001B[0m\u001B[37m\u001B[0m \u001B[1m0s\u001B[0m 3ms/step - loss: 1.1464e-05\n",
      "Epoch 29/100\n",
      "\u001B[1m45/45\u001B[0m \u001B[32m━━━━━━━━━━━━━━━━━━━━\u001B[0m\u001B[37m\u001B[0m \u001B[1m0s\u001B[0m 3ms/step - loss: 1.1456e-05\n",
      "Epoch 30/100\n",
      "\u001B[1m45/45\u001B[0m \u001B[32m━━━━━━━━━━━━━━━━━━━━\u001B[0m\u001B[37m\u001B[0m \u001B[1m0s\u001B[0m 3ms/step - loss: 1.2521e-05\n",
      "Epoch 31/100\n",
      "\u001B[1m45/45\u001B[0m \u001B[32m━━━━━━━━━━━━━━━━━━━━\u001B[0m\u001B[37m\u001B[0m \u001B[1m0s\u001B[0m 3ms/step - loss: 1.5482e-05\n",
      "Epoch 32/100\n",
      "\u001B[1m45/45\u001B[0m \u001B[32m━━━━━━━━━━━━━━━━━━━━\u001B[0m\u001B[37m\u001B[0m \u001B[1m0s\u001B[0m 3ms/step - loss: 1.5105e-05\n",
      "Epoch 33/100\n",
      "\u001B[1m45/45\u001B[0m \u001B[32m━━━━━━━━━━━━━━━━━━━━\u001B[0m\u001B[37m\u001B[0m \u001B[1m0s\u001B[0m 3ms/step - loss: 1.1718e-05\n",
      "Epoch 34/100\n",
      "\u001B[1m45/45\u001B[0m \u001B[32m━━━━━━━━━━━━━━━━━━━━\u001B[0m\u001B[37m\u001B[0m \u001B[1m0s\u001B[0m 3ms/step - loss: 1.6180e-05\n",
      "Epoch 35/100\n",
      "\u001B[1m45/45\u001B[0m \u001B[32m━━━━━━━━━━━━━━━━━━━━\u001B[0m\u001B[37m\u001B[0m \u001B[1m0s\u001B[0m 3ms/step - loss: 8.3157e-06\n",
      "Epoch 36/100\n",
      "\u001B[1m45/45\u001B[0m \u001B[32m━━━━━━━━━━━━━━━━━━━━\u001B[0m\u001B[37m\u001B[0m \u001B[1m0s\u001B[0m 3ms/step - loss: 1.0261e-05\n",
      "Epoch 37/100\n",
      "\u001B[1m45/45\u001B[0m \u001B[32m━━━━━━━━━━━━━━━━━━━━\u001B[0m\u001B[37m\u001B[0m \u001B[1m0s\u001B[0m 4ms/step - loss: 1.3980e-05\n",
      "Epoch 38/100\n",
      "\u001B[1m45/45\u001B[0m \u001B[32m━━━━━━━━━━━━━━━━━━━━\u001B[0m\u001B[37m\u001B[0m \u001B[1m0s\u001B[0m 3ms/step - loss: 1.2945e-05\n",
      "Epoch 39/100\n",
      "\u001B[1m45/45\u001B[0m \u001B[32m━━━━━━━━━━━━━━━━━━━━\u001B[0m\u001B[37m\u001B[0m \u001B[1m0s\u001B[0m 3ms/step - loss: 1.4214e-05\n",
      "Epoch 40/100\n",
      "\u001B[1m45/45\u001B[0m \u001B[32m━━━━━━━━━━━━━━━━━━━━\u001B[0m\u001B[37m\u001B[0m \u001B[1m0s\u001B[0m 3ms/step - loss: 1.4343e-05\n",
      "Epoch 41/100\n",
      "\u001B[1m45/45\u001B[0m \u001B[32m━━━━━━━━━━━━━━━━━━━━\u001B[0m\u001B[37m\u001B[0m \u001B[1m0s\u001B[0m 3ms/step - loss: 1.1923e-05\n",
      "Epoch 42/100\n",
      "\u001B[1m45/45\u001B[0m \u001B[32m━━━━━━━━━━━━━━━━━━━━\u001B[0m\u001B[37m\u001B[0m \u001B[1m0s\u001B[0m 3ms/step - loss: 1.1039e-05\n",
      "Epoch 43/100\n",
      "\u001B[1m45/45\u001B[0m \u001B[32m━━━━━━━━━━━━━━━━━━━━\u001B[0m\u001B[37m\u001B[0m \u001B[1m0s\u001B[0m 4ms/step - loss: 1.2250e-05\n",
      "Epoch 44/100\n",
      "\u001B[1m45/45\u001B[0m \u001B[32m━━━━━━━━━━━━━━━━━━━━\u001B[0m\u001B[37m\u001B[0m \u001B[1m0s\u001B[0m 4ms/step - loss: 9.5788e-06\n",
      "Epoch 45/100\n",
      "\u001B[1m45/45\u001B[0m \u001B[32m━━━━━━━━━━━━━━━━━━━━\u001B[0m\u001B[37m\u001B[0m \u001B[1m0s\u001B[0m 3ms/step - loss: 1.0888e-05\n",
      "Epoch 46/100\n",
      "\u001B[1m45/45\u001B[0m \u001B[32m━━━━━━━━━━━━━━━━━━━━\u001B[0m\u001B[37m\u001B[0m \u001B[1m0s\u001B[0m 3ms/step - loss: 1.2182e-05\n",
      "Epoch 47/100\n",
      "\u001B[1m45/45\u001B[0m \u001B[32m━━━━━━━━━━━━━━━━━━━━\u001B[0m\u001B[37m\u001B[0m \u001B[1m0s\u001B[0m 3ms/step - loss: 1.0256e-05\n",
      "Epoch 48/100\n",
      "\u001B[1m45/45\u001B[0m \u001B[32m━━━━━━━━━━━━━━━━━━━━\u001B[0m\u001B[37m\u001B[0m \u001B[1m0s\u001B[0m 3ms/step - loss: 1.3283e-05\n",
      "Epoch 49/100\n",
      "\u001B[1m45/45\u001B[0m \u001B[32m━━━━━━━━━━━━━━━━━━━━\u001B[0m\u001B[37m\u001B[0m \u001B[1m0s\u001B[0m 3ms/step - loss: 9.7741e-06\n",
      "Epoch 50/100\n",
      "\u001B[1m45/45\u001B[0m \u001B[32m━━━━━━━━━━━━━━━━━━━━\u001B[0m\u001B[37m\u001B[0m \u001B[1m0s\u001B[0m 3ms/step - loss: 1.0210e-05\n",
      "Epoch 51/100\n",
      "\u001B[1m45/45\u001B[0m \u001B[32m━━━━━━━━━━━━━━━━━━━━\u001B[0m\u001B[37m\u001B[0m \u001B[1m0s\u001B[0m 3ms/step - loss: 1.1500e-05\n",
      "Epoch 52/100\n",
      "\u001B[1m45/45\u001B[0m \u001B[32m━━━━━━━━━━━━━━━━━━━━\u001B[0m\u001B[37m\u001B[0m \u001B[1m0s\u001B[0m 3ms/step - loss: 1.2604e-05\n",
      "Epoch 53/100\n",
      "\u001B[1m45/45\u001B[0m \u001B[32m━━━━━━━━━━━━━━━━━━━━\u001B[0m\u001B[37m\u001B[0m \u001B[1m0s\u001B[0m 3ms/step - loss: 1.1257e-05\n",
      "Epoch 54/100\n",
      "\u001B[1m45/45\u001B[0m \u001B[32m━━━━━━━━━━━━━━━━━━━━\u001B[0m\u001B[37m\u001B[0m \u001B[1m0s\u001B[0m 3ms/step - loss: 1.2276e-05\n",
      "Epoch 55/100\n",
      "\u001B[1m45/45\u001B[0m \u001B[32m━━━━━━━━━━━━━━━━━━━━\u001B[0m\u001B[37m\u001B[0m \u001B[1m0s\u001B[0m 3ms/step - loss: 1.0150e-05\n",
      "Epoch 56/100\n",
      "\u001B[1m45/45\u001B[0m \u001B[32m━━━━━━━━━━━━━━━━━━━━\u001B[0m\u001B[37m\u001B[0m \u001B[1m0s\u001B[0m 3ms/step - loss: 9.4858e-06\n",
      "Epoch 57/100\n",
      "\u001B[1m45/45\u001B[0m \u001B[32m━━━━━━━━━━━━━━━━━━━━\u001B[0m\u001B[37m\u001B[0m \u001B[1m0s\u001B[0m 3ms/step - loss: 1.0899e-05\n",
      "Epoch 58/100\n",
      "\u001B[1m45/45\u001B[0m \u001B[32m━━━━━━━━━━━━━━━━━━━━\u001B[0m\u001B[37m\u001B[0m \u001B[1m0s\u001B[0m 3ms/step - loss: 1.0288e-05\n",
      "Epoch 59/100\n",
      "\u001B[1m45/45\u001B[0m \u001B[32m━━━━━━━━━━━━━━━━━━━━\u001B[0m\u001B[37m\u001B[0m \u001B[1m0s\u001B[0m 3ms/step - loss: 1.2362e-05\n",
      "Epoch 60/100\n",
      "\u001B[1m45/45\u001B[0m \u001B[32m━━━━━━━━━━━━━━━━━━━━\u001B[0m\u001B[37m\u001B[0m \u001B[1m0s\u001B[0m 3ms/step - loss: 1.8903e-05\n",
      "Epoch 61/100\n",
      "\u001B[1m45/45\u001B[0m \u001B[32m━━━━━━━━━━━━━━━━━━━━\u001B[0m\u001B[37m\u001B[0m \u001B[1m0s\u001B[0m 3ms/step - loss: 1.2006e-05\n",
      "Epoch 62/100\n",
      "\u001B[1m45/45\u001B[0m \u001B[32m━━━━━━━━━━━━━━━━━━━━\u001B[0m\u001B[37m\u001B[0m \u001B[1m0s\u001B[0m 3ms/step - loss: 1.0920e-05\n",
      "Epoch 63/100\n",
      "\u001B[1m45/45\u001B[0m \u001B[32m━━━━━━━━━━━━━━━━━━━━\u001B[0m\u001B[37m\u001B[0m \u001B[1m0s\u001B[0m 3ms/step - loss: 1.2455e-05\n",
      "Epoch 64/100\n",
      "\u001B[1m45/45\u001B[0m \u001B[32m━━━━━━━━━━━━━━━━━━━━\u001B[0m\u001B[37m\u001B[0m \u001B[1m0s\u001B[0m 3ms/step - loss: 1.0652e-05\n",
      "Epoch 65/100\n",
      "\u001B[1m45/45\u001B[0m \u001B[32m━━━━━━━━━━━━━━━━━━━━\u001B[0m\u001B[37m\u001B[0m \u001B[1m0s\u001B[0m 3ms/step - loss: 1.0239e-05\n",
      "Epoch 66/100\n",
      "\u001B[1m45/45\u001B[0m \u001B[32m━━━━━━━━━━━━━━━━━━━━\u001B[0m\u001B[37m\u001B[0m \u001B[1m0s\u001B[0m 3ms/step - loss: 1.0580e-05\n",
      "Epoch 67/100\n",
      "\u001B[1m45/45\u001B[0m \u001B[32m━━━━━━━━━━━━━━━━━━━━\u001B[0m\u001B[37m\u001B[0m \u001B[1m0s\u001B[0m 3ms/step - loss: 8.7972e-06\n",
      "Epoch 68/100\n",
      "\u001B[1m45/45\u001B[0m \u001B[32m━━━━━━━━━━━━━━━━━━━━\u001B[0m\u001B[37m\u001B[0m \u001B[1m0s\u001B[0m 3ms/step - loss: 9.5911e-06\n",
      "Epoch 69/100\n",
      "\u001B[1m45/45\u001B[0m \u001B[32m━━━━━━━━━━━━━━━━━━━━\u001B[0m\u001B[37m\u001B[0m \u001B[1m0s\u001B[0m 3ms/step - loss: 1.1468e-05\n",
      "Epoch 70/100\n",
      "\u001B[1m45/45\u001B[0m \u001B[32m━━━━━━━━━━━━━━━━━━━━\u001B[0m\u001B[37m\u001B[0m \u001B[1m0s\u001B[0m 3ms/step - loss: 9.8455e-06\n",
      "Epoch 71/100\n",
      "\u001B[1m45/45\u001B[0m \u001B[32m━━━━━━━━━━━━━━━━━━━━\u001B[0m\u001B[37m\u001B[0m \u001B[1m0s\u001B[0m 3ms/step - loss: 9.7657e-06\n",
      "Epoch 72/100\n",
      "\u001B[1m45/45\u001B[0m \u001B[32m━━━━━━━━━━━━━━━━━━━━\u001B[0m\u001B[37m\u001B[0m \u001B[1m0s\u001B[0m 4ms/step - loss: 1.2911e-05\n",
      "Epoch 73/100\n",
      "\u001B[1m45/45\u001B[0m \u001B[32m━━━━━━━━━━━━━━━━━━━━\u001B[0m\u001B[37m\u001B[0m \u001B[1m0s\u001B[0m 3ms/step - loss: 1.0193e-05\n",
      "Epoch 74/100\n",
      "\u001B[1m45/45\u001B[0m \u001B[32m━━━━━━━━━━━━━━━━━━━━\u001B[0m\u001B[37m\u001B[0m \u001B[1m0s\u001B[0m 3ms/step - loss: 9.3485e-06\n",
      "Epoch 75/100\n",
      "\u001B[1m45/45\u001B[0m \u001B[32m━━━━━━━━━━━━━━━━━━━━\u001B[0m\u001B[37m\u001B[0m \u001B[1m0s\u001B[0m 3ms/step - loss: 1.3006e-05\n",
      "Epoch 76/100\n",
      "\u001B[1m45/45\u001B[0m \u001B[32m━━━━━━━━━━━━━━━━━━━━\u001B[0m\u001B[37m\u001B[0m \u001B[1m0s\u001B[0m 3ms/step - loss: 1.2255e-05\n",
      "Epoch 77/100\n",
      "\u001B[1m45/45\u001B[0m \u001B[32m━━━━━━━━━━━━━━━━━━━━\u001B[0m\u001B[37m\u001B[0m \u001B[1m0s\u001B[0m 3ms/step - loss: 9.1542e-06\n",
      "Epoch 78/100\n",
      "\u001B[1m45/45\u001B[0m \u001B[32m━━━━━━━━━━━━━━━━━━━━\u001B[0m\u001B[37m\u001B[0m \u001B[1m0s\u001B[0m 3ms/step - loss: 9.4441e-06\n",
      "Epoch 79/100\n",
      "\u001B[1m45/45\u001B[0m \u001B[32m━━━━━━━━━━━━━━━━━━━━\u001B[0m\u001B[37m\u001B[0m \u001B[1m0s\u001B[0m 3ms/step - loss: 1.0624e-05\n",
      "Epoch 80/100\n",
      "\u001B[1m45/45\u001B[0m \u001B[32m━━━━━━━━━━━━━━━━━━━━\u001B[0m\u001B[37m\u001B[0m \u001B[1m0s\u001B[0m 4ms/step - loss: 7.8622e-06\n",
      "Epoch 81/100\n",
      "\u001B[1m45/45\u001B[0m \u001B[32m━━━━━━━━━━━━━━━━━━━━\u001B[0m\u001B[37m\u001B[0m \u001B[1m0s\u001B[0m 4ms/step - loss: 1.1175e-05\n",
      "Epoch 82/100\n",
      "\u001B[1m45/45\u001B[0m \u001B[32m━━━━━━━━━━━━━━━━━━━━\u001B[0m\u001B[37m\u001B[0m \u001B[1m0s\u001B[0m 3ms/step - loss: 8.2632e-06\n",
      "Epoch 83/100\n",
      "\u001B[1m45/45\u001B[0m \u001B[32m━━━━━━━━━━━━━━━━━━━━\u001B[0m\u001B[37m\u001B[0m \u001B[1m0s\u001B[0m 3ms/step - loss: 7.0666e-06\n",
      "Epoch 84/100\n",
      "\u001B[1m45/45\u001B[0m \u001B[32m━━━━━━━━━━━━━━━━━━━━\u001B[0m\u001B[37m\u001B[0m \u001B[1m0s\u001B[0m 3ms/step - loss: 9.6320e-06\n",
      "Epoch 85/100\n",
      "\u001B[1m45/45\u001B[0m \u001B[32m━━━━━━━━━━━━━━━━━━━━\u001B[0m\u001B[37m\u001B[0m \u001B[1m0s\u001B[0m 3ms/step - loss: 8.4417e-06\n",
      "Epoch 86/100\n",
      "\u001B[1m45/45\u001B[0m \u001B[32m━━━━━━━━━━━━━━━━━━━━\u001B[0m\u001B[37m\u001B[0m \u001B[1m0s\u001B[0m 3ms/step - loss: 1.3326e-05\n",
      "Epoch 87/100\n",
      "\u001B[1m45/45\u001B[0m \u001B[32m━━━━━━━━━━━━━━━━━━━━\u001B[0m\u001B[37m\u001B[0m \u001B[1m0s\u001B[0m 3ms/step - loss: 1.2686e-05\n",
      "Epoch 88/100\n",
      "\u001B[1m45/45\u001B[0m \u001B[32m━━━━━━━━━━━━━━━━━━━━\u001B[0m\u001B[37m\u001B[0m \u001B[1m0s\u001B[0m 3ms/step - loss: 9.4720e-06\n",
      "Epoch 89/100\n",
      "\u001B[1m45/45\u001B[0m \u001B[32m━━━━━━━━━━━━━━━━━━━━\u001B[0m\u001B[37m\u001B[0m \u001B[1m0s\u001B[0m 3ms/step - loss: 1.1259e-05\n",
      "Epoch 90/100\n",
      "\u001B[1m45/45\u001B[0m \u001B[32m━━━━━━━━━━━━━━━━━━━━\u001B[0m\u001B[37m\u001B[0m \u001B[1m0s\u001B[0m 3ms/step - loss: 9.4553e-06\n",
      "Epoch 91/100\n",
      "\u001B[1m45/45\u001B[0m \u001B[32m━━━━━━━━━━━━━━━━━━━━\u001B[0m\u001B[37m\u001B[0m \u001B[1m0s\u001B[0m 3ms/step - loss: 9.2478e-06\n",
      "Epoch 92/100\n",
      "\u001B[1m45/45\u001B[0m \u001B[32m━━━━━━━━━━━━━━━━━━━━\u001B[0m\u001B[37m\u001B[0m \u001B[1m0s\u001B[0m 3ms/step - loss: 8.9667e-06\n",
      "Epoch 93/100\n",
      "\u001B[1m45/45\u001B[0m \u001B[32m━━━━━━━━━━━━━━━━━━━━\u001B[0m\u001B[37m\u001B[0m \u001B[1m0s\u001B[0m 3ms/step - loss: 8.6344e-06\n",
      "Epoch 94/100\n",
      "\u001B[1m45/45\u001B[0m \u001B[32m━━━━━━━━━━━━━━━━━━━━\u001B[0m\u001B[37m\u001B[0m \u001B[1m0s\u001B[0m 3ms/step - loss: 8.4448e-06\n",
      "Epoch 95/100\n",
      "\u001B[1m45/45\u001B[0m \u001B[32m━━━━━━━━━━━━━━━━━━━━\u001B[0m\u001B[37m\u001B[0m \u001B[1m0s\u001B[0m 3ms/step - loss: 1.1144e-05\n",
      "Epoch 96/100\n",
      "\u001B[1m45/45\u001B[0m \u001B[32m━━━━━━━━━━━━━━━━━━━━\u001B[0m\u001B[37m\u001B[0m \u001B[1m0s\u001B[0m 3ms/step - loss: 1.0167e-05\n",
      "Epoch 97/100\n",
      "\u001B[1m45/45\u001B[0m \u001B[32m━━━━━━━━━━━━━━━━━━━━\u001B[0m\u001B[37m\u001B[0m \u001B[1m0s\u001B[0m 3ms/step - loss: 9.4262e-06\n",
      "Epoch 98/100\n",
      "\u001B[1m45/45\u001B[0m \u001B[32m━━━━━━━━━━━━━━━━━━━━\u001B[0m\u001B[37m\u001B[0m \u001B[1m0s\u001B[0m 4ms/step - loss: 9.6526e-06\n",
      "Epoch 99/100\n",
      "\u001B[1m45/45\u001B[0m \u001B[32m━━━━━━━━━━━━━━━━━━━━\u001B[0m\u001B[37m\u001B[0m \u001B[1m0s\u001B[0m 3ms/step - loss: 8.9378e-06\n",
      "Epoch 100/100\n",
      "\u001B[1m45/45\u001B[0m \u001B[32m━━━━━━━━━━━━━━━━━━━━\u001B[0m\u001B[37m\u001B[0m \u001B[1m0s\u001B[0m 4ms/step - loss: 1.0055e-05\n"
     ]
    },
    {
     "data": {
      "text/plain": [
       "<keras.src.callbacks.history.History at 0x7f3a616a0f50>"
      ]
     },
     "execution_count": 25,
     "metadata": {},
     "output_type": "execute_result"
    }
   ],
   "execution_count": 25
  },
  {
   "metadata": {
    "ExecuteTime": {
     "end_time": "2025-09-29T11:45:38.386615Z",
     "start_time": "2025-09-29T11:45:38.373227Z"
    }
   },
   "cell_type": "code",
   "source": "model.summary()",
   "id": "71bb87c8bd9e60c7",
   "outputs": [
    {
     "data": {
      "text/plain": [
       "\u001B[1mModel: \"sequential_1\"\u001B[0m\n"
      ],
      "text/html": [
       "<pre style=\"white-space:pre;overflow-x:auto;line-height:normal;font-family:Menlo,'DejaVu Sans Mono',consolas,'Courier New',monospace\"><span style=\"font-weight: bold\">Model: \"sequential_1\"</span>\n",
       "</pre>\n"
      ]
     },
     "metadata": {},
     "output_type": "display_data",
     "jetTransient": {
      "display_id": null
     }
    },
    {
     "data": {
      "text/plain": [
       "┏━━━━━━━━━━━━━━━━━━━━━━━━━━━━━━━━━┳━━━━━━━━━━━━━━━━━━━━━━━━┳━━━━━━━━━━━━━━━┓\n",
       "┃\u001B[1m \u001B[0m\u001B[1mLayer (type)                   \u001B[0m\u001B[1m \u001B[0m┃\u001B[1m \u001B[0m\u001B[1mOutput Shape          \u001B[0m\u001B[1m \u001B[0m┃\u001B[1m \u001B[0m\u001B[1m      Param #\u001B[0m\u001B[1m \u001B[0m┃\n",
       "┡━━━━━━━━━━━━━━━━━━━━━━━━━━━━━━━━━╇━━━━━━━━━━━━━━━━━━━━━━━━╇━━━━━━━━━━━━━━━┩\n",
       "│ lstm (\u001B[38;5;33mLSTM\u001B[0m)                     │ (\u001B[38;5;45mNone\u001B[0m, \u001B[38;5;34m256\u001B[0m)            │       \u001B[38;5;34m273,408\u001B[0m │\n",
       "├─────────────────────────────────┼────────────────────────┼───────────────┤\n",
       "│ dropout_4 (\u001B[38;5;33mDropout\u001B[0m)             │ (\u001B[38;5;45mNone\u001B[0m, \u001B[38;5;34m256\u001B[0m)            │             \u001B[38;5;34m0\u001B[0m │\n",
       "├─────────────────────────────────┼────────────────────────┼───────────────┤\n",
       "│ dense_1 (\u001B[38;5;33mDense\u001B[0m)                 │ (\u001B[38;5;45mNone\u001B[0m, \u001B[38;5;34m1\u001B[0m)              │           \u001B[38;5;34m257\u001B[0m │\n",
       "└─────────────────────────────────┴────────────────────────┴───────────────┘\n"
      ],
      "text/html": [
       "<pre style=\"white-space:pre;overflow-x:auto;line-height:normal;font-family:Menlo,'DejaVu Sans Mono',consolas,'Courier New',monospace\">┏━━━━━━━━━━━━━━━━━━━━━━━━━━━━━━━━━┳━━━━━━━━━━━━━━━━━━━━━━━━┳━━━━━━━━━━━━━━━┓\n",
       "┃<span style=\"font-weight: bold\"> Layer (type)                    </span>┃<span style=\"font-weight: bold\"> Output Shape           </span>┃<span style=\"font-weight: bold\">       Param # </span>┃\n",
       "┡━━━━━━━━━━━━━━━━━━━━━━━━━━━━━━━━━╇━━━━━━━━━━━━━━━━━━━━━━━━╇━━━━━━━━━━━━━━━┩\n",
       "│ lstm (<span style=\"color: #0087ff; text-decoration-color: #0087ff\">LSTM</span>)                     │ (<span style=\"color: #00d7ff; text-decoration-color: #00d7ff\">None</span>, <span style=\"color: #00af00; text-decoration-color: #00af00\">256</span>)            │       <span style=\"color: #00af00; text-decoration-color: #00af00\">273,408</span> │\n",
       "├─────────────────────────────────┼────────────────────────┼───────────────┤\n",
       "│ dropout_4 (<span style=\"color: #0087ff; text-decoration-color: #0087ff\">Dropout</span>)             │ (<span style=\"color: #00d7ff; text-decoration-color: #00d7ff\">None</span>, <span style=\"color: #00af00; text-decoration-color: #00af00\">256</span>)            │             <span style=\"color: #00af00; text-decoration-color: #00af00\">0</span> │\n",
       "├─────────────────────────────────┼────────────────────────┼───────────────┤\n",
       "│ dense_1 (<span style=\"color: #0087ff; text-decoration-color: #0087ff\">Dense</span>)                 │ (<span style=\"color: #00d7ff; text-decoration-color: #00d7ff\">None</span>, <span style=\"color: #00af00; text-decoration-color: #00af00\">1</span>)              │           <span style=\"color: #00af00; text-decoration-color: #00af00\">257</span> │\n",
       "└─────────────────────────────────┴────────────────────────┴───────────────┘\n",
       "</pre>\n"
      ]
     },
     "metadata": {},
     "output_type": "display_data",
     "jetTransient": {
      "display_id": null
     }
    },
    {
     "data": {
      "text/plain": [
       "\u001B[1m Total params: \u001B[0m\u001B[38;5;34m820,997\u001B[0m (3.13 MB)\n"
      ],
      "text/html": [
       "<pre style=\"white-space:pre;overflow-x:auto;line-height:normal;font-family:Menlo,'DejaVu Sans Mono',consolas,'Courier New',monospace\"><span style=\"font-weight: bold\"> Total params: </span><span style=\"color: #00af00; text-decoration-color: #00af00\">820,997</span> (3.13 MB)\n",
       "</pre>\n"
      ]
     },
     "metadata": {},
     "output_type": "display_data",
     "jetTransient": {
      "display_id": null
     }
    },
    {
     "data": {
      "text/plain": [
       "\u001B[1m Trainable params: \u001B[0m\u001B[38;5;34m273,665\u001B[0m (1.04 MB)\n"
      ],
      "text/html": [
       "<pre style=\"white-space:pre;overflow-x:auto;line-height:normal;font-family:Menlo,'DejaVu Sans Mono',consolas,'Courier New',monospace\"><span style=\"font-weight: bold\"> Trainable params: </span><span style=\"color: #00af00; text-decoration-color: #00af00\">273,665</span> (1.04 MB)\n",
       "</pre>\n"
      ]
     },
     "metadata": {},
     "output_type": "display_data",
     "jetTransient": {
      "display_id": null
     }
    },
    {
     "data": {
      "text/plain": [
       "\u001B[1m Non-trainable params: \u001B[0m\u001B[38;5;34m0\u001B[0m (0.00 B)\n"
      ],
      "text/html": [
       "<pre style=\"white-space:pre;overflow-x:auto;line-height:normal;font-family:Menlo,'DejaVu Sans Mono',consolas,'Courier New',monospace\"><span style=\"font-weight: bold\"> Non-trainable params: </span><span style=\"color: #00af00; text-decoration-color: #00af00\">0</span> (0.00 B)\n",
       "</pre>\n"
      ]
     },
     "metadata": {},
     "output_type": "display_data",
     "jetTransient": {
      "display_id": null
     }
    },
    {
     "data": {
      "text/plain": [
       "\u001B[1m Optimizer params: \u001B[0m\u001B[38;5;34m547,332\u001B[0m (2.09 MB)\n"
      ],
      "text/html": [
       "<pre style=\"white-space:pre;overflow-x:auto;line-height:normal;font-family:Menlo,'DejaVu Sans Mono',consolas,'Courier New',monospace\"><span style=\"font-weight: bold\"> Optimizer params: </span><span style=\"color: #00af00; text-decoration-color: #00af00\">547,332</span> (2.09 MB)\n",
       "</pre>\n"
      ]
     },
     "metadata": {},
     "output_type": "display_data",
     "jetTransient": {
      "display_id": null
     }
    }
   ],
   "execution_count": 26
  },
  {
   "metadata": {},
   "cell_type": "markdown",
   "source": "### prediction and visualization",
   "id": "1405864a1426e81d"
  },
  {
   "metadata": {
    "ExecuteTime": {
     "end_time": "2025-09-29T11:45:38.934235Z",
     "start_time": "2025-09-29T11:45:38.436166Z"
    }
   },
   "cell_type": "code",
   "source": [
    "trainPredict = model.predict(trainX)\n",
    "testPredict = model.predict(testX)\n",
    "\n",
    "# invert predictions\n",
    "trainPredict = scaler.inverse_transform(trainPredict)\n",
    "trainY_ = scaler.inverse_transform([trainY])\n",
    "testPredict = scaler.inverse_transform(testPredict)\n",
    "testY_ = scaler.inverse_transform([testY])\n",
    "\n",
    "# calculate root mean squared error\n",
    "train_score = math.sqrt(mean_squared_error(trainY_[0], trainPredict[:, 0]))\n",
    "print(\"Train Score: %.2f RMSE\" % (train_score))\n",
    "test_score = math.sqrt(mean_squared_error(testY_[0], testPredict[:, 0]))\n",
    "print(\"Test Score: %.2f RMSE\" % (test_score))"
   ],
   "id": "d75e7f25a33e2741",
   "outputs": [
    {
     "name": "stdout",
     "output_type": "stream",
     "text": [
      "\u001B[1m71/71\u001B[0m \u001B[32m━━━━━━━━━━━━━━━━━━━━\u001B[0m\u001B[37m\u001B[0m \u001B[1m0s\u001B[0m 3ms/step\n",
      "\u001B[1m71/71\u001B[0m \u001B[32m━━━━━━━━━━━━━━━━━━━━\u001B[0m\u001B[37m\u001B[0m \u001B[1m0s\u001B[0m 1ms/step  \n",
      "Train Score: 188.53 RMSE\n",
      "Test Score: 3276.91 RMSE\n"
     ]
    }
   ],
   "execution_count": 27
  },
  {
   "metadata": {
    "ExecuteTime": {
     "end_time": "2025-09-29T11:53:13.010425Z",
     "start_time": "2025-09-29T11:53:12.897740Z"
    }
   },
   "cell_type": "code",
   "source": [
    "# Visualising\n",
    "# shifting train\n",
    "trainPredictPlot = np.empty_like(data_scaled)\n",
    "trainPredictPlot[:, :] = np.nan\n",
    "trainPredictPlot[time_step:len(trainPredict) + time_step, :] = trainPredict\n",
    "# shifting test predictions for plotting\n",
    "testPredictPlot = np.empty_like(data_scaled)\n",
    "testPredictPlot[:, :] = np.nan\n",
    "testPredictPlot[len(trainPredict) + (time_step * 2) + 1:len(data_scaled) - 1, :] = testPredict\n",
    "plt.plot(scaler.inverse_transform(data_scaled), color = 'red', label = 'Real Bitcoin Price')\n",
    "plt.plot(testPredictPlot, color = 'blue', label = 'Predicted Bitcoin Price')\n",
    "plt.title('Bitcoin Price Prediction')\n",
    "plt.xlabel('Time')\n",
    "plt.ylabel('Bitcoin Price')\n",
    "plt.legend()\n",
    "plt.show()"
   ],
   "id": "b74db706897d4f9d",
   "outputs": [
    {
     "data": {
      "text/plain": [
       "<Figure size 640x480 with 1 Axes>"
      ],
      "image/png": "[encoded data removed]"
     },
     "metadata": {},
     "output_type": "display_data",
     "jetTransient": {
      "display_id": null
     }
    }
   ],
   "execution_count": 29
  }
 ],
 "metadata": {
  "kernelspec": {
   "display_name": "Python 3",
   "language": "python",
   "name": "python3"
  },
  "language_info": {
   "codemirror_mode": {
    "name": "ipython",
    "version": 2
   },
   "file_extension": ".py",
   "mimetype": "text/x-python",
   "name": "python",
   "nbconvert_exporter": "python",
   "pygments_lexer": "ipython2",
   "version": "2.7.6"
  }
 },
 "nbformat": 4,
 "nbformat_minor": 5
}
