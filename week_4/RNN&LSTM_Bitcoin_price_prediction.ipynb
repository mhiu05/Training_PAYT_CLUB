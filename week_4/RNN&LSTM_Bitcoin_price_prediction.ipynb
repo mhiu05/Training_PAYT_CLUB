{
 "cells": [
  {
   "cell_type": "code",
   "id": "initial_id",
   "metadata": {
    "collapsed": true,
    "ExecuteTime": {
     "end_time": "2025-09-27T07:07:05.532111Z",
     "start_time": "2025-09-27T07:07:02.869506Z"
    }
   },
   "source": [
    "import numpy as np\n",
    "import pandas as pd\n",
    "import matplotlib.pyplot as plt\n",
    "import math\n",
    "\n",
    "from sklearn.metrics import mean_squared_error\n",
    "from sklearn.preprocessing import MinMaxScaler\n",
    "from keras.models import Sequential\n",
    "from keras.layers import Dense\n",
    "from keras.layers import SimpleRNN\n",
    "from keras.layers import LSTM\n",
    "from keras.layers import Dropout\n",
    "\n",
    "import warnings\n",
    "warnings.filterwarnings(\"ignore\")"
   ],
   "outputs": [
    {
     "name": "stderr",
     "output_type": "stream",
     "text": [
      "2025-09-27 14:07:04.209165: I external/local_xla/xla/tsl/cuda/cudart_stub.cc:31] Could not find cuda drivers on your machine, GPU will not be used.\n",
      "2025-09-27 14:07:04.251615: I tensorflow/core/platform/cpu_feature_guard.cc:210] This TensorFlow binary is optimized to use available CPU instructions in performance-critical operations.\n",
      "To enable the following instructions: AVX2 FMA, in other operations, rebuild TensorFlow with the appropriate compiler flags.\n",
      "2025-09-27 14:07:05.384128: I external/local_xla/xla/tsl/cuda/cudart_stub.cc:31] Could not find cuda drivers on your machine, GPU will not be used.\n"
     ]
    }
   ],
   "execution_count": 1
  },
  {
   "metadata": {},
   "cell_type": "markdown",
   "source": "# Data processing",
   "id": "74d80d995105485a"
  },
  {
   "metadata": {},
   "cell_type": "markdown",
   "source": "### Loading data",
   "id": "77229e934d3ce56b"
  },
  {
   "metadata": {
    "ExecuteTime": {
     "end_time": "2025-09-27T07:07:08.685846Z",
     "start_time": "2025-09-27T07:07:05.541557Z"
    }
   },
   "cell_type": "code",
   "source": "raw_data = pd.read_csv(\"data_bitcoin.csv\")",
   "id": "6c5839fe87c014ed",
   "outputs": [],
   "execution_count": 2
  },
  {
   "metadata": {
    "ExecuteTime": {
     "end_time": "2025-09-27T07:07:08.697789Z",
     "start_time": "2025-09-27T07:07:08.691356Z"
    }
   },
   "cell_type": "code",
   "source": "raw_data.info()",
   "id": "b9a45c708cf24adb",
   "outputs": [
    {
     "name": "stdout",
     "output_type": "stream",
     "text": [
      "<class 'pandas.core.frame.DataFrame'>\n",
      "RangeIndex: 7221277 entries, 0 to 7221276\n",
      "Data columns (total 6 columns):\n",
      " #   Column     Dtype  \n",
      "---  ------     -----  \n",
      " 0   Timestamp  float64\n",
      " 1   Open       float64\n",
      " 2   High       float64\n",
      " 3   Low        float64\n",
      " 4   Close      float64\n",
      " 5   Volume     float64\n",
      "dtypes: float64(6)\n",
      "memory usage: 330.6 MB\n"
     ]
    }
   ],
   "execution_count": 3
  },
  {
   "metadata": {
    "ExecuteTime": {
     "end_time": "2025-09-27T07:07:12.877437Z",
     "start_time": "2025-09-27T07:07:08.743523Z"
    }
   },
   "cell_type": "code",
   "source": [
    "# Chuyển timestamp (dạng số) thành thời gian thực (dạng ngày)\n",
    "raw_data['date'] = pd.to_datetime(raw_data['Timestamp'],unit='s').dt.date\n",
    "raw_data"
   ],
   "id": "bb513a784392752",
   "outputs": [
    {
     "data": {
      "text/plain": [
       "            Timestamp       Open       High        Low      Close    Volume  \\\n",
       "0        1.325412e+09       4.58       4.58       4.58       4.58  0.000000   \n",
       "1        1.325412e+09       4.58       4.58       4.58       4.58  0.000000   \n",
       "2        1.325412e+09       4.58       4.58       4.58       4.58  0.000000   \n",
       "3        1.325412e+09       4.58       4.58       4.58       4.58  0.000000   \n",
       "4        1.325412e+09       4.58       4.58       4.58       4.58  0.000000   \n",
       "...               ...        ...        ...        ...        ...       ...   \n",
       "7221272  1.758758e+09  113319.00  113328.00  113319.00  113326.00  0.005044   \n",
       "7221273  1.758758e+09  113326.00  113326.00  113317.00  113326.00  0.047516   \n",
       "7221274  1.758758e+09  113326.00  113367.00  113326.00  113360.00  0.209290   \n",
       "7221275  1.758758e+09  113367.00  113386.00  113354.00  113354.00  0.416070   \n",
       "7221276  1.758758e+09  113347.00  113347.00  113323.00  113323.00  0.570245   \n",
       "\n",
       "               date  \n",
       "0        2012-01-01  \n",
       "1        2012-01-01  \n",
       "2        2012-01-01  \n",
       "3        2012-01-01  \n",
       "4        2012-01-01  \n",
       "...             ...  \n",
       "7221272  2025-09-24  \n",
       "7221273  2025-09-24  \n",
       "7221274  2025-09-24  \n",
       "7221275  2025-09-24  \n",
       "7221276  2025-09-24  \n",
       "\n",
       "[7221277 rows x 7 columns]"
      ],
      "text/html": [
       "<div>\n",
       "<style scoped>\n",
       "    .dataframe tbody tr th:only-of-type {\n",
       "        vertical-align: middle;\n",
       "    }\n",
       "\n",
       "    .dataframe tbody tr th {\n",
       "        vertical-align: top;\n",
       "    }\n",
       "\n",
       "    .dataframe thead th {\n",
       "        text-align: right;\n",
       "    }\n",
       "</style>\n",
       "<table border=\"1\" class=\"dataframe\">\n",
       "  <thead>\n",
       "    <tr style=\"text-align: right;\">\n",
       "      <th></th>\n",
       "      <th>Timestamp</th>\n",
       "      <th>Open</th>\n",
       "      <th>High</th>\n",
       "      <th>Low</th>\n",
       "      <th>Close</th>\n",
       "      <th>Volume</th>\n",
       "      <th>date</th>\n",
       "    </tr>\n",
       "  </thead>\n",
       "  <tbody>\n",
       "    <tr>\n",
       "      <th>0</th>\n",
       "      <td>1.325412e+09</td>\n",
       "      <td>4.58</td>\n",
       "      <td>4.58</td>\n",
       "      <td>4.58</td>\n",
       "      <td>4.58</td>\n",
       "      <td>0.000000</td>\n",
       "      <td>2012-01-01</td>\n",
       "    </tr>\n",
       "    <tr>\n",
       "      <th>1</th>\n",
       "      <td>1.325412e+09</td>\n",
       "      <td>4.58</td>\n",
       "      <td>4.58</td>\n",
       "      <td>4.58</td>\n",
       "      <td>4.58</td>\n",
       "      <td>0.000000</td>\n",
       "      <td>2012-01-01</td>\n",
       "    </tr>\n",
       "    <tr>\n",
       "      <th>2</th>\n",
       "      <td>1.325412e+09</td>\n",
       "      <td>4.58</td>\n",
       "      <td>4.58</td>\n",
       "      <td>4.58</td>\n",
       "      <td>4.58</td>\n",
       "      <td>0.000000</td>\n",
       "      <td>2012-01-01</td>\n",
       "    </tr>\n",
       "    <tr>\n",
       "      <th>3</th>\n",
       "      <td>1.325412e+09</td>\n",
       "      <td>4.58</td>\n",
       "      <td>4.58</td>\n",
       "      <td>4.58</td>\n",
       "      <td>4.58</td>\n",
       "      <td>0.000000</td>\n",
       "      <td>2012-01-01</td>\n",
       "    </tr>\n",
       "    <tr>\n",
       "      <th>4</th>\n",
       "      <td>1.325412e+09</td>\n",
       "      <td>4.58</td>\n",
       "      <td>4.58</td>\n",
       "      <td>4.58</td>\n",
       "      <td>4.58</td>\n",
       "      <td>0.000000</td>\n",
       "      <td>2012-01-01</td>\n",
       "    </tr>\n",
       "    <tr>\n",
       "      <th>...</th>\n",
       "      <td>...</td>\n",
       "      <td>...</td>\n",
       "      <td>...</td>\n",
       "      <td>...</td>\n",
       "      <td>...</td>\n",
       "      <td>...</td>\n",
       "      <td>...</td>\n",
       "    </tr>\n",
       "    <tr>\n",
       "      <th>7221272</th>\n",
       "      <td>1.758758e+09</td>\n",
       "      <td>113319.00</td>\n",
       "      <td>113328.00</td>\n",
       "      <td>113319.00</td>\n",
       "      <td>113326.00</td>\n",
       "      <td>0.005044</td>\n",
       "      <td>2025-09-24</td>\n",
       "    </tr>\n",
       "    <tr>\n",
       "      <th>7221273</th>\n",
       "      <td>1.758758e+09</td>\n",
       "      <td>113326.00</td>\n",
       "      <td>113326.00</td>\n",
       "      <td>113317.00</td>\n",
       "      <td>113326.00</td>\n",
       "      <td>0.047516</td>\n",
       "      <td>2025-09-24</td>\n",
       "    </tr>\n",
       "    <tr>\n",
       "      <th>7221274</th>\n",
       "      <td>1.758758e+09</td>\n",
       "      <td>113326.00</td>\n",
       "      <td>113367.00</td>\n",
       "      <td>113326.00</td>\n",
       "      <td>113360.00</td>\n",
       "      <td>0.209290</td>\n",
       "      <td>2025-09-24</td>\n",
       "    </tr>\n",
       "    <tr>\n",
       "      <th>7221275</th>\n",
       "      <td>1.758758e+09</td>\n",
       "      <td>113367.00</td>\n",
       "      <td>113386.00</td>\n",
       "      <td>113354.00</td>\n",
       "      <td>113354.00</td>\n",
       "      <td>0.416070</td>\n",
       "      <td>2025-09-24</td>\n",
       "    </tr>\n",
       "    <tr>\n",
       "      <th>7221276</th>\n",
       "      <td>1.758758e+09</td>\n",
       "      <td>113347.00</td>\n",
       "      <td>113347.00</td>\n",
       "      <td>113323.00</td>\n",
       "      <td>113323.00</td>\n",
       "      <td>0.570245</td>\n",
       "      <td>2025-09-24</td>\n",
       "    </tr>\n",
       "  </tbody>\n",
       "</table>\n",
       "<p>7221277 rows × 7 columns</p>\n",
       "</div>"
      ]
     },
     "execution_count": 4,
     "metadata": {},
     "output_type": "execute_result"
    }
   ],
   "execution_count": 4
  },
  {
   "metadata": {
    "ExecuteTime": {
     "end_time": "2025-09-27T07:07:13.607548Z",
     "start_time": "2025-09-27T07:07:12.886603Z"
    }
   },
   "cell_type": "code",
   "source": [
    "# Lấy trung bình theo ngày\n",
    "grouped_data = raw_data.groupby('date', as_index = False).mean()\n",
    "grouped_data"
   ],
   "id": "19207585c161a114",
   "outputs": [
    {
     "data": {
      "text/plain": [
       "            date     Timestamp           Open           High            Low  \\\n",
       "0     2012-01-01  1.325437e+09       4.645697       4.645697       4.645697   \n",
       "1     2012-01-02  1.325506e+09       4.975000       4.975000       4.975000   \n",
       "2     2012-01-03  1.325592e+09       5.085500       5.085500       5.085500   \n",
       "3     2012-01-04  1.325678e+09       5.170250       5.170396       5.170250   \n",
       "4     2012-01-05  1.325765e+09       5.954292       5.954361       5.954292   \n",
       "...          ...           ...            ...            ...            ...   \n",
       "5011  2025-09-20  1.758370e+09  115831.676389  115836.591667  115827.770833   \n",
       "5012  2025-09-21  1.758456e+09  115617.845833  115622.842361  115613.699306   \n",
       "5013  2025-09-22  1.758542e+09  113210.881250  113233.609028  113185.258333   \n",
       "5014  2025-09-23  1.758629e+09  112568.515972  112586.955556  112550.328472   \n",
       "5015  2025-09-24  1.758715e+09  112967.190542  112984.327538  112950.670376   \n",
       "\n",
       "              Close    Volume  \n",
       "0          4.645697  0.011919  \n",
       "1          4.975000  0.007014  \n",
       "2          5.085500  0.074365  \n",
       "3          5.170396  0.074468  \n",
       "4          5.954361  0.048839  \n",
       "...             ...       ...  \n",
       "5011  115831.937500  0.772215  \n",
       "5012  115618.345139  0.548054  \n",
       "5013  113209.250000  1.355390  \n",
       "5014  112567.609722  1.019471  \n",
       "5015  112967.392211  0.917961  \n",
       "\n",
       "[5016 rows x 7 columns]"
      ],
      "text/html": [
       "<div>\n",
       "<style scoped>\n",
       "    .dataframe tbody tr th:only-of-type {\n",
       "        vertical-align: middle;\n",
       "    }\n",
       "\n",
       "    .dataframe tbody tr th {\n",
       "        vertical-align: top;\n",
       "    }\n",
       "\n",
       "    .dataframe thead th {\n",
       "        text-align: right;\n",
       "    }\n",
       "</style>\n",
       "<table border=\"1\" class=\"dataframe\">\n",
       "  <thead>\n",
       "    <tr style=\"text-align: right;\">\n",
       "      <th></th>\n",
       "      <th>date</th>\n",
       "      <th>Timestamp</th>\n",
       "      <th>Open</th>\n",
       "      <th>High</th>\n",
       "      <th>Low</th>\n",
       "      <th>Close</th>\n",
       "      <th>Volume</th>\n",
       "    </tr>\n",
       "  </thead>\n",
       "  <tbody>\n",
       "    <tr>\n",
       "      <th>0</th>\n",
       "      <td>2012-01-01</td>\n",
       "      <td>1.325437e+09</td>\n",
       "      <td>4.645697</td>\n",
       "      <td>4.645697</td>\n",
       "      <td>4.645697</td>\n",
       "      <td>4.645697</td>\n",
       "      <td>0.011919</td>\n",
       "    </tr>\n",
       "    <tr>\n",
       "      <th>1</th>\n",
       "      <td>2012-01-02</td>\n",
       "      <td>1.325506e+09</td>\n",
       "      <td>4.975000</td>\n",
       "      <td>4.975000</td>\n",
       "      <td>4.975000</td>\n",
       "      <td>4.975000</td>\n",
       "      <td>0.007014</td>\n",
       "    </tr>\n",
       "    <tr>\n",
       "      <th>2</th>\n",
       "      <td>2012-01-03</td>\n",
       "      <td>1.325592e+09</td>\n",
       "      <td>5.085500</td>\n",
       "      <td>5.085500</td>\n",
       "      <td>5.085500</td>\n",
       "      <td>5.085500</td>\n",
       "      <td>0.074365</td>\n",
       "    </tr>\n",
       "    <tr>\n",
       "      <th>3</th>\n",
       "      <td>2012-01-04</td>\n",
       "      <td>1.325678e+09</td>\n",
       "      <td>5.170250</td>\n",
       "      <td>5.170396</td>\n",
       "      <td>5.170250</td>\n",
       "      <td>5.170396</td>\n",
       "      <td>0.074468</td>\n",
       "    </tr>\n",
       "    <tr>\n",
       "      <th>4</th>\n",
       "      <td>2012-01-05</td>\n",
       "      <td>1.325765e+09</td>\n",
       "      <td>5.954292</td>\n",
       "      <td>5.954361</td>\n",
       "      <td>5.954292</td>\n",
       "      <td>5.954361</td>\n",
       "      <td>0.048839</td>\n",
       "    </tr>\n",
       "    <tr>\n",
       "      <th>...</th>\n",
       "      <td>...</td>\n",
       "      <td>...</td>\n",
       "      <td>...</td>\n",
       "      <td>...</td>\n",
       "      <td>...</td>\n",
       "      <td>...</td>\n",
       "      <td>...</td>\n",
       "    </tr>\n",
       "    <tr>\n",
       "      <th>5011</th>\n",
       "      <td>2025-09-20</td>\n",
       "      <td>1.758370e+09</td>\n",
       "      <td>115831.676389</td>\n",
       "      <td>115836.591667</td>\n",
       "      <td>115827.770833</td>\n",
       "      <td>115831.937500</td>\n",
       "      <td>0.772215</td>\n",
       "    </tr>\n",
       "    <tr>\n",
       "      <th>5012</th>\n",
       "      <td>2025-09-21</td>\n",
       "      <td>1.758456e+09</td>\n",
       "      <td>115617.845833</td>\n",
       "      <td>115622.842361</td>\n",
       "      <td>115613.699306</td>\n",
       "      <td>115618.345139</td>\n",
       "      <td>0.548054</td>\n",
       "    </tr>\n",
       "    <tr>\n",
       "      <th>5013</th>\n",
       "      <td>2025-09-22</td>\n",
       "      <td>1.758542e+09</td>\n",
       "      <td>113210.881250</td>\n",
       "      <td>113233.609028</td>\n",
       "      <td>113185.258333</td>\n",
       "      <td>113209.250000</td>\n",
       "      <td>1.355390</td>\n",
       "    </tr>\n",
       "    <tr>\n",
       "      <th>5014</th>\n",
       "      <td>2025-09-23</td>\n",
       "      <td>1.758629e+09</td>\n",
       "      <td>112568.515972</td>\n",
       "      <td>112586.955556</td>\n",
       "      <td>112550.328472</td>\n",
       "      <td>112567.609722</td>\n",
       "      <td>1.019471</td>\n",
       "    </tr>\n",
       "    <tr>\n",
       "      <th>5015</th>\n",
       "      <td>2025-09-24</td>\n",
       "      <td>1.758715e+09</td>\n",
       "      <td>112967.190542</td>\n",
       "      <td>112984.327538</td>\n",
       "      <td>112950.670376</td>\n",
       "      <td>112967.392211</td>\n",
       "      <td>0.917961</td>\n",
       "    </tr>\n",
       "  </tbody>\n",
       "</table>\n",
       "<p>5016 rows × 7 columns</p>\n",
       "</div>"
      ]
     },
     "execution_count": 5,
     "metadata": {},
     "output_type": "execute_result"
    }
   ],
   "execution_count": 5
  },
  {
   "metadata": {},
   "cell_type": "markdown",
   "source": "### Train and test split",
   "id": "1903cc862742e212"
  },
  {
   "metadata": {
    "ExecuteTime": {
     "end_time": "2025-09-27T07:07:13.620061Z",
     "start_time": "2025-09-27T07:07:13.615963Z"
    }
   },
   "cell_type": "code",
   "source": [
    "# 95% train, 5% test\n",
    "train_size = int(len(grouped_data) * 0.95)\n",
    "test_size = len(grouped_data) - train_size\n",
    "df_train = grouped_data.iloc[0:train_size, :]\n",
    "df_test = grouped_data.iloc[train_size:len(grouped_data), :]\n",
    "print(\"Train size: {}, Test size: {}\". format(len(df_train), len(df_test)))"
   ],
   "id": "65ed1a0d5546148f",
   "outputs": [
    {
     "name": "stdout",
     "output_type": "stream",
     "text": [
      "Train size: 4765, Test size: 251\n"
     ]
    }
   ],
   "execution_count": 6
  },
  {
   "metadata": {},
   "cell_type": "markdown",
   "source": "### Visualizing data",
   "id": "1314beb05ceabb06"
  },
  {
   "metadata": {
    "ExecuteTime": {
     "end_time": "2025-09-27T07:07:13.820589Z",
     "start_time": "2025-09-27T07:07:13.666764Z"
    }
   },
   "cell_type": "code",
   "source": [
    "data_plot = grouped_data.loc[:, [\"Close\"]].values\n",
    "plt.plot(data_plot)\n",
    "plt.xlabel(\"Time\")\n",
    "plt.ylabel(\"Values of Close\")\n",
    "plt.title(\"Bitcoin Close Prices\")\n",
    "plt.show()\n"
   ],
   "id": "8e60c48ed89e177b",
   "outputs": [
    {
     "data": {
      "text/plain": [
       "<Figure size 640x480 with 1 Axes>"
      ],
      "image/png": "[encoded data removed]"
     },
     "metadata": {},
     "output_type": "display_data",
     "jetTransient": {
      "display_id": null
     }
    }
   ],
   "execution_count": 7
  },
  {
   "metadata": {
    "ExecuteTime": {
     "end_time": "2025-09-27T07:07:13.832169Z",
     "start_time": "2025-09-27T07:07:13.828044Z"
    }
   },
   "cell_type": "code",
   "source": [
    "# we will predict Close values\n",
    "dataset = df_train.loc[:, [\"Close\"]].values\n",
    "\n",
    "#reshape\n",
    "dataset = dataset.reshape(-1, 1)"
   ],
   "id": "a201e0d8a7ca98d2",
   "outputs": [],
   "execution_count": 8
  },
  {
   "metadata": {},
   "cell_type": "markdown",
   "source": "### Scaling data",
   "id": "78ecc93a80b21e42"
  },
  {
   "metadata": {
    "ExecuteTime": {
     "end_time": "2025-09-27T07:07:13.882376Z",
     "start_time": "2025-09-27T07:07:13.876825Z"
    }
   },
   "cell_type": "code",
   "source": [
    "# MinMaxScaler: new_v = (v_0 - min_v) / (max_v - min_v)\n",
    "scaler = MinMaxScaler(feature_range = (0, 1))\n",
    "data_scaled = scaler.fit_transform(dataset)\n",
    "data_scaled"
   ],
   "id": "b13adeb28034a44b",
   "outputs": [
    {
     "data": {
      "text/plain": [
       "array([[3.09373140e-06],\n",
       "       [6.17875735e-06],\n",
       "       [7.21396090e-06],\n",
       "       ...,\n",
       "       [8.98106226e-01],\n",
       "       [9.18715169e-01],\n",
       "       [9.32302417e-01]], shape=(4765, 1))"
      ]
     },
     "execution_count": 9,
     "metadata": {},
     "output_type": "execute_result"
    }
   ],
   "execution_count": 9
  },
  {
   "metadata": {
    "ExecuteTime": {
     "end_time": "2025-09-27T07:07:14.037083Z",
     "start_time": "2025-09-27T07:07:13.941217Z"
    }
   },
   "cell_type": "code",
   "source": [
    "plt.plot(data_scaled)\n",
    "plt.xlabel(\"Time\")\n",
    "plt.ylabel(\"Values of Close\")\n",
    "plt.title(\"Bitcoin Close Price (Scaled)\")\n",
    "plt.show()"
   ],
   "id": "a2a1c8e4c23f0a88",
   "outputs": [
    {
     "data": {
      "text/plain": [
       "<Figure size 640x480 with 1 Axes>"
      ],
      "image/png": "[encoded data removed]"
     },
     "metadata": {},
     "output_type": "display_data",
     "jetTransient": {
      "display_id": null
     }
    }
   ],
   "execution_count": 10
  },
  {
   "metadata": {
    "ExecuteTime": {
     "end_time": "2025-09-27T07:07:14.053799Z",
     "start_time": "2025-09-27T07:07:14.045434Z"
    }
   },
   "cell_type": "code",
   "source": [
    "# Tạo sequences data\n",
    "X_train = []\n",
    "y_train = []\n",
    "time_step = 10\n",
    "for i in range(time_step, data_scaled.shape[0]):\n",
    "    X_train.append(data_scaled[i-time_step:i, 0])\n",
    "    y_train.append(data_scaled[i, 0])\n",
    "X_train, y_train = np.array(X_train), np.array(y_train)\n",
    "\n",
    "print(\"X_train shape: \", X_train.shape)\n",
    "print(\"y_train shape: \", y_train.shape)"
   ],
   "id": "dae765ef0fae1dda",
   "outputs": [
    {
     "name": "stdout",
     "output_type": "stream",
     "text": [
      "X_train shape:  (4755, 10)\n",
      "y_train shape:  (4755,)\n"
     ]
    }
   ],
   "execution_count": 11
  },
  {
   "metadata": {
    "ExecuteTime": {
     "end_time": "2025-09-27T07:07:14.105044Z",
     "start_time": "2025-09-27T07:07:14.101772Z"
    }
   },
   "cell_type": "code",
   "source": [
    "# Reshaping X_train to 3D  (samples, time_steps, features)\n",
    "X_train = np.reshape(X_train, (X_train.shape[0], X_train.shape[1], 1))\n",
    "print(\"X_train shape: \",X_train.shape)\n",
    "print(\"y_train shape: \",y_train.shape)"
   ],
   "id": "2a4cd49eddd8984f",
   "outputs": [
    {
     "name": "stdout",
     "output_type": "stream",
     "text": [
      "X_train shape:  (4755, 10, 1)\n",
      "y_train shape:  (4755,)\n"
     ]
    }
   ],
   "execution_count": 12
  },
  {
   "metadata": {},
   "cell_type": "markdown",
   "source": "# Recurrent Neural Network (RNN)",
   "id": "4c75c8955516a383"
  },
  {
   "metadata": {
    "ExecuteTime": {
     "end_time": "2025-09-27T07:10:35.891326Z",
     "start_time": "2025-09-27T07:07:14.153990Z"
    }
   },
   "cell_type": "code",
   "source": [
    "# RNN 4 hidden layers\n",
    "regressor = Sequential()\n",
    "function = \"relu\"\n",
    "\n",
    "# Layer 1\n",
    "regressor.add(SimpleRNN(units = 50, activation=function, return_sequences = True, input_shape = (X_train.shape[1], 1)))\n",
    "regressor.add(Dropout(0.2))\n",
    "\n",
    "# Layer 2\n",
    "regressor.add(SimpleRNN(units = 50, activation=function, return_sequences = True))\n",
    "regressor.add(Dropout(0.2))\n",
    "\n",
    "# Layer 3\n",
    "regressor.add(SimpleRNN(units = 50, activation=function, return_sequences = True))\n",
    "regressor.add(Dropout(0.2))\n",
    "\n",
    "# Layer 4\n",
    "regressor.add(SimpleRNN(units = 50))\n",
    "regressor.add(Dropout(0.2))\n",
    "\n",
    "# Output layer\n",
    "regressor.add(Dense(units = 1))\n",
    "\n",
    "# Compiling the RNN\n",
    "regressor.compile(optimizer = 'adam', loss = 'mean_squared_error')\n",
    "\n",
    "regressor.fit(X_train, y_train, epochs = 100, batch_size = 32)\n",
    "# epoch= 100"
   ],
   "id": "d32dc05d10163bb8",
   "outputs": [
    {
     "name": "stdout",
     "output_type": "stream",
     "text": [
      "Epoch 1/100\n"
     ]
    },
    {
     "name": "stderr",
     "output_type": "stream",
     "text": [
      "2025-09-27 14:07:14.159409: E external/local_xla/xla/stream_executor/cuda/cuda_platform.cc:51] failed call to cuInit: INTERNAL: CUDA error: Failed call to cuInit: UNKNOWN ERROR (303)\n"
     ]
    },
    {
     "name": "stdout",
     "output_type": "stream",
     "text": [
      "\u001B[1m149/149\u001B[0m \u001B[32m━━━━━━━━━━━━━━━━━━━━\u001B[0m\u001B[37m\u001B[0m \u001B[1m4s\u001B[0m 6ms/step - loss: 0.0069\n",
      "Epoch 2/100\n",
      "\u001B[1m149/149\u001B[0m \u001B[32m━━━━━━━━━━━━━━━━━━━━\u001B[0m\u001B[37m\u001B[0m \u001B[1m2s\u001B[0m 15ms/step - loss: 0.0023\n",
      "Epoch 3/100\n",
      "\u001B[1m149/149\u001B[0m \u001B[32m━━━━━━━━━━━━━━━━━━━━\u001B[0m\u001B[37m\u001B[0m \u001B[1m2s\u001B[0m 13ms/step - loss: 0.0016\n",
      "Epoch 4/100\n",
      "\u001B[1m149/149\u001B[0m \u001B[32m━━━━━━━━━━━━━━━━━━━━\u001B[0m\u001B[37m\u001B[0m \u001B[1m3s\u001B[0m 23ms/step - loss: 0.0015\n",
      "Epoch 5/100\n",
      "\u001B[1m149/149\u001B[0m \u001B[32m━━━━━━━━━━━━━━━━━━━━\u001B[0m\u001B[37m\u001B[0m \u001B[1m2s\u001B[0m 11ms/step - loss: 0.0014\n",
      "Epoch 6/100\n",
      "\u001B[1m149/149\u001B[0m \u001B[32m━━━━━━━━━━━━━━━━━━━━\u001B[0m\u001B[37m\u001B[0m \u001B[1m3s\u001B[0m 22ms/step - loss: 0.0013\n",
      "Epoch 7/100\n",
      "\u001B[1m149/149\u001B[0m \u001B[32m━━━━━━━━━━━━━━━━━━━━\u001B[0m\u001B[37m\u001B[0m \u001B[1m3s\u001B[0m 17ms/step - loss: 0.0011\n",
      "Epoch 8/100\n",
      "\u001B[1m149/149\u001B[0m \u001B[32m━━━━━━━━━━━━━━━━━━━━\u001B[0m\u001B[37m\u001B[0m \u001B[1m2s\u001B[0m 14ms/step - loss: 0.0011\n",
      "Epoch 9/100\n",
      "\u001B[1m149/149\u001B[0m \u001B[32m━━━━━━━━━━━━━━━━━━━━\u001B[0m\u001B[37m\u001B[0m \u001B[1m2s\u001B[0m 16ms/step - loss: 0.0011\n",
      "Epoch 10/100\n",
      "\u001B[1m149/149\u001B[0m \u001B[32m━━━━━━━━━━━━━━━━━━━━\u001B[0m\u001B[37m\u001B[0m \u001B[1m2s\u001B[0m 14ms/step - loss: 0.0010    \n",
      "Epoch 11/100\n",
      "\u001B[1m149/149\u001B[0m \u001B[32m━━━━━━━━━━━━━━━━━━━━\u001B[0m\u001B[37m\u001B[0m \u001B[1m3s\u001B[0m 17ms/step - loss: 9.9743e-04\n",
      "Epoch 12/100\n",
      "\u001B[1m149/149\u001B[0m \u001B[32m━━━━━━━━━━━━━━━━━━━━\u001B[0m\u001B[37m\u001B[0m \u001B[1m3s\u001B[0m 20ms/step - loss: 0.0011\n",
      "Epoch 13/100\n",
      "\u001B[1m149/149\u001B[0m \u001B[32m━━━━━━━━━━━━━━━━━━━━\u001B[0m\u001B[37m\u001B[0m \u001B[1m3s\u001B[0m 23ms/step - loss: 9.2579e-04\n",
      "Epoch 14/100\n",
      "\u001B[1m149/149\u001B[0m \u001B[32m━━━━━━━━━━━━━━━━━━━━\u001B[0m\u001B[37m\u001B[0m \u001B[1m3s\u001B[0m 20ms/step - loss: 0.0010    \n",
      "Epoch 15/100\n",
      "\u001B[1m149/149\u001B[0m \u001B[32m━━━━━━━━━━━━━━━━━━━━\u001B[0m\u001B[37m\u001B[0m \u001B[1m3s\u001B[0m 19ms/step - loss: 9.0014e-04\n",
      "Epoch 16/100\n",
      "\u001B[1m149/149\u001B[0m \u001B[32m━━━━━━━━━━━━━━━━━━━━\u001B[0m\u001B[37m\u001B[0m \u001B[1m3s\u001B[0m 21ms/step - loss: 8.9696e-04\n",
      "Epoch 17/100\n",
      "\u001B[1m149/149\u001B[0m \u001B[32m━━━━━━━━━━━━━━━━━━━━\u001B[0m\u001B[37m\u001B[0m \u001B[1m3s\u001B[0m 20ms/step - loss: 8.3339e-04\n",
      "Epoch 18/100\n",
      "\u001B[1m149/149\u001B[0m \u001B[32m━━━━━━━━━━━━━━━━━━━━\u001B[0m\u001B[37m\u001B[0m \u001B[1m3s\u001B[0m 17ms/step - loss: 7.8727e-04\n",
      "Epoch 19/100\n",
      "\u001B[1m149/149\u001B[0m \u001B[32m━━━━━━━━━━━━━━━━━━━━\u001B[0m\u001B[37m\u001B[0m \u001B[1m1s\u001B[0m 6ms/step - loss: 8.7651e-04\n",
      "Epoch 20/100\n",
      "\u001B[1m149/149\u001B[0m \u001B[32m━━━━━━━━━━━━━━━━━━━━\u001B[0m\u001B[37m\u001B[0m \u001B[1m1s\u001B[0m 6ms/step - loss: 8.9695e-04\n",
      "Epoch 21/100\n",
      "\u001B[1m149/149\u001B[0m \u001B[32m━━━━━━━━━━━━━━━━━━━━\u001B[0m\u001B[37m\u001B[0m \u001B[1m2s\u001B[0m 15ms/step - loss: 7.1851e-04\n",
      "Epoch 22/100\n",
      "\u001B[1m149/149\u001B[0m \u001B[32m━━━━━━━━━━━━━━━━━━━━\u001B[0m\u001B[37m\u001B[0m \u001B[1m2s\u001B[0m 12ms/step - loss: 7.6314e-04\n",
      "Epoch 23/100\n",
      "\u001B[1m149/149\u001B[0m \u001B[32m━━━━━━━━━━━━━━━━━━━━\u001B[0m\u001B[37m\u001B[0m \u001B[1m2s\u001B[0m 16ms/step - loss: 7.3659e-04\n",
      "Epoch 24/100\n",
      "\u001B[1m149/149\u001B[0m \u001B[32m━━━━━━━━━━━━━━━━━━━━\u001B[0m\u001B[37m\u001B[0m \u001B[1m3s\u001B[0m 21ms/step - loss: 7.9722e-04\n",
      "Epoch 25/100\n",
      "\u001B[1m149/149\u001B[0m \u001B[32m━━━━━━━━━━━━━━━━━━━━\u001B[0m\u001B[37m\u001B[0m \u001B[1m3s\u001B[0m 19ms/step - loss: 7.8910e-04\n",
      "Epoch 26/100\n",
      "\u001B[1m149/149\u001B[0m \u001B[32m━━━━━━━━━━━━━━━━━━━━\u001B[0m\u001B[37m\u001B[0m \u001B[1m3s\u001B[0m 17ms/step - loss: 7.6317e-04\n",
      "Epoch 27/100\n",
      "\u001B[1m149/149\u001B[0m \u001B[32m━━━━━━━━━━━━━━━━━━━━\u001B[0m\u001B[37m\u001B[0m \u001B[1m1s\u001B[0m 6ms/step - loss: 7.0152e-04\n",
      "Epoch 28/100\n",
      "\u001B[1m149/149\u001B[0m \u001B[32m━━━━━━━━━━━━━━━━━━━━\u001B[0m\u001B[37m\u001B[0m \u001B[1m1s\u001B[0m 8ms/step - loss: 6.2680e-04\n",
      "Epoch 29/100\n",
      "\u001B[1m149/149\u001B[0m \u001B[32m━━━━━━━━━━━━━━━━━━━━\u001B[0m\u001B[37m\u001B[0m \u001B[1m3s\u001B[0m 18ms/step - loss: 6.8678e-04\n",
      "Epoch 30/100\n",
      "\u001B[1m149/149\u001B[0m \u001B[32m━━━━━━━━━━━━━━━━━━━━\u001B[0m\u001B[37m\u001B[0m \u001B[1m2s\u001B[0m 10ms/step - loss: 6.0978e-04\n",
      "Epoch 31/100\n",
      "\u001B[1m149/149\u001B[0m \u001B[32m━━━━━━━━━━━━━━━━━━━━\u001B[0m\u001B[37m\u001B[0m \u001B[1m2s\u001B[0m 12ms/step - loss: 6.5701e-04\n",
      "Epoch 32/100\n",
      "\u001B[1m149/149\u001B[0m \u001B[32m━━━━━━━━━━━━━━━━━━━━\u001B[0m\u001B[37m\u001B[0m \u001B[1m3s\u001B[0m 21ms/step - loss: 6.9715e-04\n",
      "Epoch 33/100\n",
      "\u001B[1m149/149\u001B[0m \u001B[32m━━━━━━━━━━━━━━━━━━━━\u001B[0m\u001B[37m\u001B[0m \u001B[1m3s\u001B[0m 21ms/step - loss: 6.2945e-04\n",
      "Epoch 34/100\n",
      "\u001B[1m149/149\u001B[0m \u001B[32m━━━━━━━━━━━━━━━━━━━━\u001B[0m\u001B[37m\u001B[0m \u001B[1m3s\u001B[0m 22ms/step - loss: 6.4025e-04\n",
      "Epoch 35/100\n",
      "\u001B[1m149/149\u001B[0m \u001B[32m━━━━━━━━━━━━━━━━━━━━\u001B[0m\u001B[37m\u001B[0m \u001B[1m3s\u001B[0m 21ms/step - loss: 6.8406e-04\n",
      "Epoch 36/100\n",
      "\u001B[1m149/149\u001B[0m \u001B[32m━━━━━━━━━━━━━━━━━━━━\u001B[0m\u001B[37m\u001B[0m \u001B[1m3s\u001B[0m 19ms/step - loss: 6.3887e-04\n",
      "Epoch 37/100\n",
      "\u001B[1m149/149\u001B[0m \u001B[32m━━━━━━━━━━━━━━━━━━━━\u001B[0m\u001B[37m\u001B[0m \u001B[1m3s\u001B[0m 21ms/step - loss: 6.3881e-04\n",
      "Epoch 38/100\n",
      "\u001B[1m149/149\u001B[0m \u001B[32m━━━━━━━━━━━━━━━━━━━━\u001B[0m\u001B[37m\u001B[0m \u001B[1m3s\u001B[0m 20ms/step - loss: 5.7039e-04\n",
      "Epoch 39/100\n",
      "\u001B[1m149/149\u001B[0m \u001B[32m━━━━━━━━━━━━━━━━━━━━\u001B[0m\u001B[37m\u001B[0m \u001B[1m3s\u001B[0m 22ms/step - loss: 6.1807e-04\n",
      "Epoch 40/100\n",
      "\u001B[1m149/149\u001B[0m \u001B[32m━━━━━━━━━━━━━━━━━━━━\u001B[0m\u001B[37m\u001B[0m \u001B[1m3s\u001B[0m 22ms/step - loss: 6.4841e-04\n",
      "Epoch 41/100\n",
      "\u001B[1m149/149\u001B[0m \u001B[32m━━━━━━━━━━━━━━━━━━━━\u001B[0m\u001B[37m\u001B[0m \u001B[1m1s\u001B[0m 9ms/step - loss: 6.4824e-04\n",
      "Epoch 42/100\n",
      "\u001B[1m149/149\u001B[0m \u001B[32m━━━━━━━━━━━━━━━━━━━━\u001B[0m\u001B[37m\u001B[0m \u001B[1m2s\u001B[0m 16ms/step - loss: 6.3365e-04\n",
      "Epoch 43/100\n",
      "\u001B[1m149/149\u001B[0m \u001B[32m━━━━━━━━━━━━━━━━━━━━\u001B[0m\u001B[37m\u001B[0m \u001B[1m3s\u001B[0m 19ms/step - loss: 5.9858e-04\n",
      "Epoch 44/100\n",
      "\u001B[1m149/149\u001B[0m \u001B[32m━━━━━━━━━━━━━━━━━━━━\u001B[0m\u001B[37m\u001B[0m \u001B[1m3s\u001B[0m 20ms/step - loss: 6.0485e-04\n",
      "Epoch 45/100\n",
      "\u001B[1m149/149\u001B[0m \u001B[32m━━━━━━━━━━━━━━━━━━━━\u001B[0m\u001B[37m\u001B[0m \u001B[1m3s\u001B[0m 21ms/step - loss: 5.0632e-04\n",
      "Epoch 46/100\n",
      "\u001B[1m149/149\u001B[0m \u001B[32m━━━━━━━━━━━━━━━━━━━━\u001B[0m\u001B[37m\u001B[0m \u001B[1m3s\u001B[0m 20ms/step - loss: 6.3930e-04\n",
      "Epoch 47/100\n",
      "\u001B[1m149/149\u001B[0m \u001B[32m━━━━━━━━━━━━━━━━━━━━\u001B[0m\u001B[37m\u001B[0m \u001B[1m2s\u001B[0m 16ms/step - loss: 5.6411e-04\n",
      "Epoch 48/100\n",
      "\u001B[1m149/149\u001B[0m \u001B[32m━━━━━━━━━━━━━━━━━━━━\u001B[0m\u001B[37m\u001B[0m \u001B[1m3s\u001B[0m 17ms/step - loss: 6.5142e-04\n",
      "Epoch 49/100\n",
      "\u001B[1m149/149\u001B[0m \u001B[32m━━━━━━━━━━━━━━━━━━━━\u001B[0m\u001B[37m\u001B[0m \u001B[1m3s\u001B[0m 16ms/step - loss: 5.8251e-04\n",
      "Epoch 50/100\n",
      "\u001B[1m149/149\u001B[0m \u001B[32m━━━━━━━━━━━━━━━━━━━━\u001B[0m\u001B[37m\u001B[0m \u001B[1m1s\u001B[0m 6ms/step - loss: 5.5611e-04\n",
      "Epoch 51/100\n",
      "\u001B[1m149/149\u001B[0m \u001B[32m━━━━━━━━━━━━━━━━━━━━\u001B[0m\u001B[37m\u001B[0m \u001B[1m1s\u001B[0m 7ms/step - loss: 5.6388e-04\n",
      "Epoch 52/100\n",
      "\u001B[1m149/149\u001B[0m \u001B[32m━━━━━━━━━━━━━━━━━━━━\u001B[0m\u001B[37m\u001B[0m \u001B[1m1s\u001B[0m 6ms/step - loss: 5.6751e-04\n",
      "Epoch 53/100\n",
      "\u001B[1m149/149\u001B[0m \u001B[32m━━━━━━━━━━━━━━━━━━━━\u001B[0m\u001B[37m\u001B[0m \u001B[1m1s\u001B[0m 6ms/step - loss: 5.8009e-04\n",
      "Epoch 54/100\n",
      "\u001B[1m149/149\u001B[0m \u001B[32m━━━━━━━━━━━━━━━━━━━━\u001B[0m\u001B[37m\u001B[0m \u001B[1m1s\u001B[0m 6ms/step - loss: 5.9660e-04\n",
      "Epoch 55/100\n",
      "\u001B[1m149/149\u001B[0m \u001B[32m━━━━━━━━━━━━━━━━━━━━\u001B[0m\u001B[37m\u001B[0m \u001B[1m1s\u001B[0m 8ms/step - loss: 6.4498e-04\n",
      "Epoch 56/100\n",
      "\u001B[1m149/149\u001B[0m \u001B[32m━━━━━━━━━━━━━━━━━━━━\u001B[0m\u001B[37m\u001B[0m \u001B[1m1s\u001B[0m 7ms/step - loss: 6.1889e-04\n",
      "Epoch 57/100\n",
      "\u001B[1m149/149\u001B[0m \u001B[32m━━━━━━━━━━━━━━━━━━━━\u001B[0m\u001B[37m\u001B[0m \u001B[1m1s\u001B[0m 5ms/step - loss: 4.7393e-04\n",
      "Epoch 58/100\n",
      "\u001B[1m149/149\u001B[0m \u001B[32m━━━━━━━━━━━━━━━━━━━━\u001B[0m\u001B[37m\u001B[0m \u001B[1m1s\u001B[0m 6ms/step - loss: 5.6242e-04\n",
      "Epoch 59/100\n",
      "\u001B[1m149/149\u001B[0m \u001B[32m━━━━━━━━━━━━━━━━━━━━\u001B[0m\u001B[37m\u001B[0m \u001B[1m1s\u001B[0m 6ms/step - loss: 5.2449e-04\n",
      "Epoch 60/100\n",
      "\u001B[1m149/149\u001B[0m \u001B[32m━━━━━━━━━━━━━━━━━━━━\u001B[0m\u001B[37m\u001B[0m \u001B[1m1s\u001B[0m 7ms/step - loss: 5.2677e-04\n",
      "Epoch 61/100\n",
      "\u001B[1m149/149\u001B[0m \u001B[32m━━━━━━━━━━━━━━━━━━━━\u001B[0m\u001B[37m\u001B[0m \u001B[1m1s\u001B[0m 7ms/step - loss: 5.6612e-04\n",
      "Epoch 62/100\n",
      "\u001B[1m149/149\u001B[0m \u001B[32m━━━━━━━━━━━━━━━━━━━━\u001B[0m\u001B[37m\u001B[0m \u001B[1m1s\u001B[0m 8ms/step - loss: 5.2997e-04\n",
      "Epoch 63/100\n",
      "\u001B[1m149/149\u001B[0m \u001B[32m━━━━━━━━━━━━━━━━━━━━\u001B[0m\u001B[37m\u001B[0m \u001B[1m1s\u001B[0m 7ms/step - loss: 5.1861e-04\n",
      "Epoch 64/100\n",
      "\u001B[1m149/149\u001B[0m \u001B[32m━━━━━━━━━━━━━━━━━━━━\u001B[0m\u001B[37m\u001B[0m \u001B[1m2s\u001B[0m 10ms/step - loss: 5.6421e-04\n",
      "Epoch 65/100\n",
      "\u001B[1m149/149\u001B[0m \u001B[32m━━━━━━━━━━━━━━━━━━━━\u001B[0m\u001B[37m\u001B[0m \u001B[1m1s\u001B[0m 8ms/step - loss: 5.8516e-04\n",
      "Epoch 66/100\n",
      "\u001B[1m149/149\u001B[0m \u001B[32m━━━━━━━━━━━━━━━━━━━━\u001B[0m\u001B[37m\u001B[0m \u001B[1m1s\u001B[0m 9ms/step - loss: 5.5902e-04\n",
      "Epoch 67/100\n",
      "\u001B[1m149/149\u001B[0m \u001B[32m━━━━━━━━━━━━━━━━━━━━\u001B[0m\u001B[37m\u001B[0m \u001B[1m1s\u001B[0m 7ms/step - loss: 5.7652e-04\n",
      "Epoch 68/100\n",
      "\u001B[1m149/149\u001B[0m \u001B[32m━━━━━━━━━━━━━━━━━━━━\u001B[0m\u001B[37m\u001B[0m \u001B[1m1s\u001B[0m 6ms/step - loss: 5.8868e-04\n",
      "Epoch 69/100\n",
      "\u001B[1m149/149\u001B[0m \u001B[32m━━━━━━━━━━━━━━━━━━━━\u001B[0m\u001B[37m\u001B[0m \u001B[1m1s\u001B[0m 6ms/step - loss: 6.0744e-04\n",
      "Epoch 70/100\n",
      "\u001B[1m149/149\u001B[0m \u001B[32m━━━━━━━━━━━━━━━━━━━━\u001B[0m\u001B[37m\u001B[0m \u001B[1m1s\u001B[0m 9ms/step - loss: 5.6165e-04\n",
      "Epoch 71/100\n",
      "\u001B[1m149/149\u001B[0m \u001B[32m━━━━━━━━━━━━━━━━━━━━\u001B[0m\u001B[37m\u001B[0m \u001B[1m1s\u001B[0m 7ms/step - loss: 5.0461e-04\n",
      "Epoch 72/100\n",
      "\u001B[1m149/149\u001B[0m \u001B[32m━━━━━━━━━━━━━━━━━━━━\u001B[0m\u001B[37m\u001B[0m \u001B[1m1s\u001B[0m 7ms/step - loss: 5.2377e-04\n",
      "Epoch 73/100\n",
      "\u001B[1m149/149\u001B[0m \u001B[32m━━━━━━━━━━━━━━━━━━━━\u001B[0m\u001B[37m\u001B[0m \u001B[1m1s\u001B[0m 7ms/step - loss: 5.5636e-04\n",
      "Epoch 74/100\n",
      "\u001B[1m149/149\u001B[0m \u001B[32m━━━━━━━━━━━━━━━━━━━━\u001B[0m\u001B[37m\u001B[0m \u001B[1m1s\u001B[0m 6ms/step - loss: 4.7244e-04\n",
      "Epoch 75/100\n",
      "\u001B[1m149/149\u001B[0m \u001B[32m━━━━━━━━━━━━━━━━━━━━\u001B[0m\u001B[37m\u001B[0m \u001B[1m1s\u001B[0m 7ms/step - loss: 5.2507e-04\n",
      "Epoch 76/100\n",
      "\u001B[1m149/149\u001B[0m \u001B[32m━━━━━━━━━━━━━━━━━━━━\u001B[0m\u001B[37m\u001B[0m \u001B[1m2s\u001B[0m 11ms/step - loss: 4.9902e-04\n",
      "Epoch 77/100\n",
      "\u001B[1m149/149\u001B[0m \u001B[32m━━━━━━━━━━━━━━━━━━━━\u001B[0m\u001B[37m\u001B[0m \u001B[1m2s\u001B[0m 11ms/step - loss: 5.7289e-04\n",
      "Epoch 78/100\n",
      "\u001B[1m149/149\u001B[0m \u001B[32m━━━━━━━━━━━━━━━━━━━━\u001B[0m\u001B[37m\u001B[0m \u001B[1m2s\u001B[0m 11ms/step - loss: 6.0689e-04\n",
      "Epoch 79/100\n",
      "\u001B[1m149/149\u001B[0m \u001B[32m━━━━━━━━━━━━━━━━━━━━\u001B[0m\u001B[37m\u001B[0m \u001B[1m1s\u001B[0m 7ms/step - loss: 5.3364e-04\n",
      "Epoch 80/100\n",
      "\u001B[1m149/149\u001B[0m \u001B[32m━━━━━━━━━━━━━━━━━━━━\u001B[0m\u001B[37m\u001B[0m \u001B[1m1s\u001B[0m 7ms/step - loss: 4.8885e-04\n",
      "Epoch 81/100\n",
      "\u001B[1m149/149\u001B[0m \u001B[32m━━━━━━━━━━━━━━━━━━━━\u001B[0m\u001B[37m\u001B[0m \u001B[1m2s\u001B[0m 12ms/step - loss: 5.2081e-04\n",
      "Epoch 82/100\n",
      "\u001B[1m149/149\u001B[0m \u001B[32m━━━━━━━━━━━━━━━━━━━━\u001B[0m\u001B[37m\u001B[0m \u001B[1m2s\u001B[0m 11ms/step - loss: 5.3410e-04\n",
      "Epoch 83/100\n",
      "\u001B[1m149/149\u001B[0m \u001B[32m━━━━━━━━━━━━━━━━━━━━\u001B[0m\u001B[37m\u001B[0m \u001B[1m1s\u001B[0m 9ms/step - loss: 5.0190e-04\n",
      "Epoch 84/100\n",
      "\u001B[1m149/149\u001B[0m \u001B[32m━━━━━━━━━━━━━━━━━━━━\u001B[0m\u001B[37m\u001B[0m \u001B[1m1s\u001B[0m 7ms/step - loss: 4.6174e-04\n",
      "Epoch 85/100\n",
      "\u001B[1m149/149\u001B[0m \u001B[32m━━━━━━━━━━━━━━━━━━━━\u001B[0m\u001B[37m\u001B[0m \u001B[1m1s\u001B[0m 7ms/step - loss: 5.0730e-04\n",
      "Epoch 86/100\n",
      "\u001B[1m149/149\u001B[0m \u001B[32m━━━━━━━━━━━━━━━━━━━━\u001B[0m\u001B[37m\u001B[0m \u001B[1m1s\u001B[0m 7ms/step - loss: 6.2279e-04\n",
      "Epoch 87/100\n",
      "\u001B[1m149/149\u001B[0m \u001B[32m━━━━━━━━━━━━━━━━━━━━\u001B[0m\u001B[37m\u001B[0m \u001B[1m1s\u001B[0m 6ms/step - loss: 5.4767e-04\n",
      "Epoch 88/100\n",
      "\u001B[1m149/149\u001B[0m \u001B[32m━━━━━━━━━━━━━━━━━━━━\u001B[0m\u001B[37m\u001B[0m \u001B[1m1s\u001B[0m 8ms/step - loss: 5.4151e-04\n",
      "Epoch 89/100\n",
      "\u001B[1m149/149\u001B[0m \u001B[32m━━━━━━━━━━━━━━━━━━━━\u001B[0m\u001B[37m\u001B[0m \u001B[1m3s\u001B[0m 21ms/step - loss: 5.6217e-04\n",
      "Epoch 90/100\n",
      "\u001B[1m149/149\u001B[0m \u001B[32m━━━━━━━━━━━━━━━━━━━━\u001B[0m\u001B[37m\u001B[0m \u001B[1m2s\u001B[0m 16ms/step - loss: 5.3153e-04\n",
      "Epoch 91/100\n",
      "\u001B[1m149/149\u001B[0m \u001B[32m━━━━━━━━━━━━━━━━━━━━\u001B[0m\u001B[37m\u001B[0m \u001B[1m3s\u001B[0m 17ms/step - loss: 5.0610e-04\n",
      "Epoch 92/100\n",
      "\u001B[1m149/149\u001B[0m \u001B[32m━━━━━━━━━━━━━━━━━━━━\u001B[0m\u001B[37m\u001B[0m \u001B[1m2s\u001B[0m 12ms/step - loss: 4.9067e-04\n",
      "Epoch 93/100\n",
      "\u001B[1m149/149\u001B[0m \u001B[32m━━━━━━━━━━━━━━━━━━━━\u001B[0m\u001B[37m\u001B[0m \u001B[1m3s\u001B[0m 20ms/step - loss: 5.1383e-04\n",
      "Epoch 94/100\n",
      "\u001B[1m149/149\u001B[0m \u001B[32m━━━━━━━━━━━━━━━━━━━━\u001B[0m\u001B[37m\u001B[0m \u001B[1m2s\u001B[0m 12ms/step - loss: 4.7994e-04\n",
      "Epoch 95/100\n",
      "\u001B[1m149/149\u001B[0m \u001B[32m━━━━━━━━━━━━━━━━━━━━\u001B[0m\u001B[37m\u001B[0m \u001B[1m2s\u001B[0m 13ms/step - loss: 5.0084e-04\n",
      "Epoch 96/100\n",
      "\u001B[1m149/149\u001B[0m \u001B[32m━━━━━━━━━━━━━━━━━━━━\u001B[0m\u001B[37m\u001B[0m \u001B[1m3s\u001B[0m 18ms/step - loss: 5.0005e-04\n",
      "Epoch 97/100\n",
      "\u001B[1m149/149\u001B[0m \u001B[32m━━━━━━━━━━━━━━━━━━━━\u001B[0m\u001B[37m\u001B[0m \u001B[1m2s\u001B[0m 14ms/step - loss: 5.1210e-04\n",
      "Epoch 98/100\n",
      "\u001B[1m149/149\u001B[0m \u001B[32m━━━━━━━━━━━━━━━━━━━━\u001B[0m\u001B[37m\u001B[0m \u001B[1m3s\u001B[0m 21ms/step - loss: 4.8617e-04\n",
      "Epoch 99/100\n",
      "\u001B[1m149/149\u001B[0m \u001B[32m━━━━━━━━━━━━━━━━━━━━\u001B[0m\u001B[37m\u001B[0m \u001B[1m2s\u001B[0m 16ms/step - loss: 4.4115e-04\n",
      "Epoch 100/100\n",
      "\u001B[1m149/149\u001B[0m \u001B[32m━━━━━━━━━━━━━━━━━━━━\u001B[0m\u001B[37m\u001B[0m \u001B[1m3s\u001B[0m 20ms/step - loss: 5.1489e-04\n"
     ]
    },
    {
     "data": {
      "text/plain": [
       "<keras.src.callbacks.history.History at 0x7f9d93436db0>"
      ]
     },
     "execution_count": 13,
     "metadata": {},
     "output_type": "execute_result"
    }
   ],
   "execution_count": 13
  },
  {
   "metadata": {},
   "cell_type": "markdown",
   "source": "# predict and visualising RNN model",
   "id": "fbcbaee4684e9613"
  },
  {
   "metadata": {
    "ExecuteTime": {
     "end_time": "2025-09-27T07:10:35.966405Z",
     "start_time": "2025-09-27T07:10:35.951253Z"
    }
   },
   "cell_type": "code",
   "source": [
    "real_bitcoin_price = df_test.loc[:, [\"Close\"]].values\n",
    "real_bitcoin_price.shape"
   ],
   "id": "9d2647c2e5bdd8ba",
   "outputs": [
    {
     "data": {
      "text/plain": [
       "(251, 1)"
      ]
     },
     "execution_count": 14,
     "metadata": {},
     "output_type": "execute_result"
    }
   ],
   "execution_count": 14
  },
  {
   "metadata": {
    "ExecuteTime": {
     "end_time": "2025-09-27T07:10:36.085130Z",
     "start_time": "2025-09-27T07:10:36.069997Z"
    }
   },
   "cell_type": "code",
   "source": [
    "# Để dự đoán điểm đầu tiên trong test set cần timestep điểm ngay trước nó (Nằm trong train set)\n",
    "df_total = pd.concat((df_train['Close'], df_test['Close']), axis = 0)\n",
    "inputs = df_total[len(df_total) - len(df_test) - time_step:].values.reshape(-1,1)\n",
    "inputs = scaler.transform(inputs)  # min max scaler"
   ],
   "id": "e7895235fbe227f1",
   "outputs": [],
   "execution_count": 15
  },
  {
   "metadata": {
    "ExecuteTime": {
     "end_time": "2025-09-27T07:10:36.995361Z",
     "start_time": "2025-09-27T07:10:36.105221Z"
    }
   },
   "cell_type": "code",
   "source": [
    "X_test = []\n",
    "for i in range(time_step, inputs.shape[0]):\n",
    "    X_test.append(inputs[i-time_step:i, 0])\n",
    "X_test = np.array(X_test)\n",
    "X_test = np.reshape(X_test, (X_test.shape[0], X_test.shape[1], 1))\n",
    "\n",
    "predicted_bitcoin_price = regressor.predict(X_test)\n",
    "predicted_bitcoin_price = scaler.inverse_transform(predicted_bitcoin_price)\n",
    "\n",
    "# Visualising\n",
    "plt.plot(real_bitcoin_price, color = 'red', label = 'Real Bitcoin Price')\n",
    "plt.plot(predicted_bitcoin_price, color = 'blue', label = 'Predicted Bitcoin Price')\n",
    "plt.title('Bitcoin Price Prediction')\n",
    "plt.xlabel('Time')\n",
    "plt.ylabel('Bitcoin Price')\n",
    "plt.legend()\n",
    "plt.show()"
   ],
   "id": "3f714e21c65ec9f",
   "outputs": [
    {
     "name": "stdout",
     "output_type": "stream",
     "text": [
      "\u001B[1m8/8\u001B[0m \u001B[32m━━━━━━━━━━━━━━━━━━━━\u001B[0m\u001B[37m\u001B[0m \u001B[1m1s\u001B[0m 40ms/step\n"
     ]
    },
    {
     "data": {
      "text/plain": [
       "<Figure size 640x480 with 1 Axes>"
      ],
      "image/png": "[encoded data removed]"
     },
     "metadata": {},
     "output_type": "display_data",
     "jetTransient": {
      "display_id": null
     }
    }
   ],
   "execution_count": 16
  },
  {
   "metadata": {},
   "cell_type": "markdown",
   "source": "# LSTM",
   "id": "58c5ade500a64fe6"
  },
  {
   "metadata": {},
   "cell_type": "markdown",
   "source": "### Train and test split",
   "id": "6e7c6b3f5d7bcdd7"
  },
  {
   "metadata": {
    "ExecuteTime": {
     "end_time": "2025-09-27T07:10:37.004069Z",
     "start_time": "2025-09-27T07:10:37.001001Z"
    }
   },
   "cell_type": "code",
   "source": [
    "train_size = int(len(grouped_data) * 0.90)\n",
    "test_size = len(grouped_data) - train_size\n",
    "df_train = grouped_data.iloc[0:train_size, :]\n",
    "df_test = grouped_data.iloc[train_size:len(grouped_data), :]\n",
    "print(\"DF_Train size: {}, DF_Test size: {}\". format(len(df_train), len(df_test)))"
   ],
   "id": "5a803139252c18fe",
   "outputs": [
    {
     "name": "stdout",
     "output_type": "stream",
     "text": [
      "DF_Train size: 4514, DF_Test size: 502\n"
     ]
    }
   ],
   "execution_count": 17
  },
  {
   "metadata": {
    "ExecuteTime": {
     "end_time": "2025-09-27T07:10:37.053542Z",
     "start_time": "2025-09-27T07:10:37.048617Z"
    }
   },
   "cell_type": "code",
   "source": [
    "dataset = df_train.loc[:, [\"Close\"]].values\n",
    "dataset.shape"
   ],
   "id": "d1f1e2cb97779deb",
   "outputs": [
    {
     "data": {
      "text/plain": [
       "(4514, 1)"
      ]
     },
     "execution_count": 18,
     "metadata": {},
     "output_type": "execute_result"
    }
   ],
   "execution_count": 18
  },
  {
   "metadata": {
    "ExecuteTime": {
     "end_time": "2025-09-27T07:10:37.117536Z",
     "start_time": "2025-09-27T07:10:37.105647Z"
    }
   },
   "cell_type": "code",
   "source": [
    "#reshape\n",
    "dataset = dataset.reshape(-1, 1)\n",
    "dataset.shape"
   ],
   "id": "3e4c7d2045edd8d4",
   "outputs": [
    {
     "data": {
      "text/plain": [
       "(4514, 1)"
      ]
     },
     "execution_count": 19,
     "metadata": {},
     "output_type": "execute_result"
    }
   ],
   "execution_count": 19
  },
  {
   "metadata": {},
   "cell_type": "markdown",
   "source": "### Scaling data",
   "id": "d79a8a7aa1d868aa"
  },
  {
   "metadata": {
    "ExecuteTime": {
     "end_time": "2025-09-27T07:10:37.183225Z",
     "start_time": "2025-09-27T07:10:37.172629Z"
    }
   },
   "cell_type": "code",
   "source": [
    "scaler = MinMaxScaler(feature_range = (0, 1))\n",
    "data_scaled = scaler.fit_transform(dataset)"
   ],
   "id": "d70ced57ab7ada21",
   "outputs": [],
   "execution_count": 20
  },
  {
   "metadata": {
    "ExecuteTime": {
     "end_time": "2025-09-27T07:10:37.259572Z",
     "start_time": "2025-09-27T07:10:37.240318Z"
    }
   },
   "cell_type": "code",
   "source": [
    "# We divide the DATA_SCALED by Training %50, Test %50\n",
    "train_size = int(len(data_scaled) * 0.50)\n",
    "test_size = len(data_scaled) - train_size\n",
    "data_scaled_train = data_scaled[0:train_size, :]\n",
    "data_scaled_test = data_scaled[train_size:len(data_scaled), :]\n",
    "\n",
    "print(\"data_scaled_train size: {}\\ndata_scaled_test size: {}\". format(len(data_scaled_train), len(data_scaled_test)))\n",
    "print(\"data_scaled_train shape: {}\\ndata_scaled_test shape: {}\". format(data_scaled_train.shape, data_scaled_test.shape))"
   ],
   "id": "cb901817559a1735",
   "outputs": [
    {
     "name": "stdout",
     "output_type": "stream",
     "text": [
      "data_scaled_train size: 2257\n",
      "data_scaled_test size: 2257\n",
      "data_scaled_train shape: (2257, 1)\n",
      "data_scaled_test shape: (2257, 1)\n"
     ]
    }
   ],
   "execution_count": 21
  },
  {
   "metadata": {
    "ExecuteTime": {
     "end_time": "2025-09-27T07:10:37.383559Z",
     "start_time": "2025-09-27T07:10:37.358284Z"
    }
   },
   "cell_type": "code",
   "source": [
    "# Tạo sequences data (train dataset)\n",
    "time_step = 10\n",
    "dataX = []\n",
    "dataY = []\n",
    "for i in range(len(data_scaled_train) - time_step - 1):\n",
    "    a = data_scaled_train[i:(i + time_step), 0]\n",
    "    dataX.append(a)\n",
    "    dataY.append(data_scaled_train[i + time_step, 0])\n",
    "trainX = np.array(dataX)\n",
    "trainY = np.array(dataY)\n",
    "\n",
    "print(\"trainX shape: {}\\ntrainY shape: {}\". format(trainX.shape, trainY.shape))"
   ],
   "id": "5f233881b6e2746f",
   "outputs": [
    {
     "name": "stdout",
     "output_type": "stream",
     "text": [
      "trainX shape: (2246, 10)\n",
      "trainY shape: (2246,)\n"
     ]
    }
   ],
   "execution_count": 22
  },
  {
   "metadata": {
    "ExecuteTime": {
     "end_time": "2025-09-27T07:10:37.462394Z",
     "start_time": "2025-09-27T07:10:37.436663Z"
    }
   },
   "cell_type": "code",
   "source": [
    "# Tạo sequences data (test dataset)\n",
    "dataX = []\n",
    "dataY = []\n",
    "for i in range(len(data_scaled_test) - time_step -1):\n",
    "    a = data_scaled_test[i:(i + time_step), 0]\n",
    "    dataX.append(a)\n",
    "    dataY.append(data_scaled_test[i + time_step, 0])\n",
    "testX = np.array(dataX)\n",
    "testY = np.array(dataY)\n",
    "\n",
    "print(\"testX shape: {}\\ntestY shape: {}\". format(testX.shape, testY.shape))"
   ],
   "id": "fd7017b8280315d2",
   "outputs": [
    {
     "name": "stdout",
     "output_type": "stream",
     "text": [
      "testX shape: (2246, 10)\n",
      "testY shape: (2246,)\n"
     ]
    }
   ],
   "execution_count": 23
  },
  {
   "metadata": {
    "ExecuteTime": {
     "end_time": "2025-09-27T07:10:37.525580Z",
     "start_time": "2025-09-27T07:10:37.512703Z"
    }
   },
   "cell_type": "code",
   "source": [
    "# Reshaping to 3D\n",
    "trainX = np.reshape(trainX, (trainX.shape[0], 1, trainX.shape[1]))\n",
    "testX = np.reshape(testX, (testX.shape[0], 1, testX.shape[1]))\n",
    "\n",
    "print(\"X_train shape: \",trainX.shape)\n",
    "print(\"X_test shape: \",testX.shape)"
   ],
   "id": "4cdeb2a02c9785e1",
   "outputs": [
    {
     "name": "stdout",
     "output_type": "stream",
     "text": [
      "X_train shape:  (2246, 1, 10)\n",
      "X_test shape:  (2246, 1, 10)\n"
     ]
    }
   ],
   "execution_count": 24
  },
  {
   "metadata": {},
   "cell_type": "markdown",
   "source": "### Model",
   "id": "25b89c148a672e7a"
  },
  {
   "metadata": {
    "ExecuteTime": {
     "end_time": "2025-09-27T07:11:04.134845Z",
     "start_time": "2025-09-27T07:10:37.581790Z"
    }
   },
   "cell_type": "code",
   "source": [
    "# model\n",
    "model = Sequential()\n",
    "model.add(LSTM(256, input_shape = (1, time_step))) # 256 LSTM neuron(block)\n",
    "model.add(Dropout(0.2))\n",
    "model.add(Dense(1))\n",
    "model.compile(loss= \"mean_squared_error\", optimizer = \"adam\")\n",
    "model.fit(trainX, trainY, epochs=100, batch_size=50)"
   ],
   "id": "487732ea49438567",
   "outputs": [
    {
     "name": "stdout",
     "output_type": "stream",
     "text": [
      "Epoch 1/100\n",
      "\u001B[1m45/45\u001B[0m \u001B[32m━━━━━━━━━━━━━━━━━━━━\u001B[0m\u001B[37m\u001B[0m \u001B[1m1s\u001B[0m 4ms/step - loss: 3.3899e-04\n",
      "Epoch 2/100\n",
      "\u001B[1m45/45\u001B[0m \u001B[32m━━━━━━━━━━━━━━━━━━━━\u001B[0m\u001B[37m\u001B[0m \u001B[1m0s\u001B[0m 3ms/step - loss: 3.4005e-05\n",
      "Epoch 3/100\n",
      "\u001B[1m45/45\u001B[0m \u001B[32m━━━━━━━━━━━━━━━━━━━━\u001B[0m\u001B[37m\u001B[0m \u001B[1m0s\u001B[0m 3ms/step - loss: 3.0417e-05\n",
      "Epoch 4/100\n",
      "\u001B[1m45/45\u001B[0m \u001B[32m━━━━━━━━━━━━━━━━━━━━\u001B[0m\u001B[37m\u001B[0m \u001B[1m0s\u001B[0m 3ms/step - loss: 3.3497e-05\n",
      "Epoch 5/100\n",
      "\u001B[1m45/45\u001B[0m \u001B[32m━━━━━━━━━━━━━━━━━━━━\u001B[0m\u001B[37m\u001B[0m \u001B[1m0s\u001B[0m 3ms/step - loss: 2.8653e-05\n",
      "Epoch 6/100\n",
      "\u001B[1m45/45\u001B[0m \u001B[32m━━━━━━━━━━━━━━━━━━━━\u001B[0m\u001B[37m\u001B[0m \u001B[1m0s\u001B[0m 3ms/step - loss: 2.7935e-05\n",
      "Epoch 7/100\n",
      "\u001B[1m45/45\u001B[0m \u001B[32m━━━━━━━━━━━━━━━━━━━━\u001B[0m\u001B[37m\u001B[0m \u001B[1m0s\u001B[0m 3ms/step - loss: 2.5392e-05\n",
      "Epoch 8/100\n",
      "\u001B[1m45/45\u001B[0m \u001B[32m━━━━━━━━━━━━━━━━━━━━\u001B[0m\u001B[37m\u001B[0m \u001B[1m0s\u001B[0m 4ms/step - loss: 2.7148e-05\n",
      "Epoch 9/100\n",
      "\u001B[1m45/45\u001B[0m \u001B[32m━━━━━━━━━━━━━━━━━━━━\u001B[0m\u001B[37m\u001B[0m \u001B[1m0s\u001B[0m 6ms/step - loss: 2.1615e-05\n",
      "Epoch 10/100\n",
      "\u001B[1m45/45\u001B[0m \u001B[32m━━━━━━━━━━━━━━━━━━━━\u001B[0m\u001B[37m\u001B[0m \u001B[1m0s\u001B[0m 6ms/step - loss: 2.0524e-05\n",
      "Epoch 11/100\n",
      "\u001B[1m45/45\u001B[0m \u001B[32m━━━━━━━━━━━━━━━━━━━━\u001B[0m\u001B[37m\u001B[0m \u001B[1m0s\u001B[0m 7ms/step - loss: 2.2380e-05\n",
      "Epoch 12/100\n",
      "\u001B[1m45/45\u001B[0m \u001B[32m━━━━━━━━━━━━━━━━━━━━\u001B[0m\u001B[37m\u001B[0m \u001B[1m1s\u001B[0m 12ms/step - loss: 1.9816e-05\n",
      "Epoch 13/100\n",
      "\u001B[1m45/45\u001B[0m \u001B[32m━━━━━━━━━━━━━━━━━━━━\u001B[0m\u001B[37m\u001B[0m \u001B[1m0s\u001B[0m 3ms/step - loss: 1.6977e-05\n",
      "Epoch 14/100\n",
      "\u001B[1m45/45\u001B[0m \u001B[32m━━━━━━━━━━━━━━━━━━━━\u001B[0m\u001B[37m\u001B[0m \u001B[1m0s\u001B[0m 3ms/step - loss: 1.5823e-05\n",
      "Epoch 15/100\n",
      "\u001B[1m45/45\u001B[0m \u001B[32m━━━━━━━━━━━━━━━━━━━━\u001B[0m\u001B[37m\u001B[0m \u001B[1m0s\u001B[0m 4ms/step - loss: 1.8146e-05\n",
      "Epoch 16/100\n",
      "\u001B[1m45/45\u001B[0m \u001B[32m━━━━━━━━━━━━━━━━━━━━\u001B[0m\u001B[37m\u001B[0m \u001B[1m0s\u001B[0m 3ms/step - loss: 1.6198e-05\n",
      "Epoch 17/100\n",
      "\u001B[1m45/45\u001B[0m \u001B[32m━━━━━━━━━━━━━━━━━━━━\u001B[0m\u001B[37m\u001B[0m \u001B[1m0s\u001B[0m 3ms/step - loss: 1.4971e-05\n",
      "Epoch 18/100\n",
      "\u001B[1m45/45\u001B[0m \u001B[32m━━━━━━━━━━━━━━━━━━━━\u001B[0m\u001B[37m\u001B[0m \u001B[1m0s\u001B[0m 4ms/step - loss: 1.5015e-05\n",
      "Epoch 19/100\n",
      "\u001B[1m45/45\u001B[0m \u001B[32m━━━━━━━━━━━━━━━━━━━━\u001B[0m\u001B[37m\u001B[0m \u001B[1m0s\u001B[0m 4ms/step - loss: 1.5056e-05\n",
      "Epoch 20/100\n",
      "\u001B[1m45/45\u001B[0m \u001B[32m━━━━━━━━━━━━━━━━━━━━\u001B[0m\u001B[37m\u001B[0m \u001B[1m0s\u001B[0m 4ms/step - loss: 1.3276e-05\n",
      "Epoch 21/100\n",
      "\u001B[1m45/45\u001B[0m \u001B[32m━━━━━━━━━━━━━━━━━━━━\u001B[0m\u001B[37m\u001B[0m \u001B[1m0s\u001B[0m 4ms/step - loss: 1.3629e-05\n",
      "Epoch 22/100\n",
      "\u001B[1m45/45\u001B[0m \u001B[32m━━━━━━━━━━━━━━━━━━━━\u001B[0m\u001B[37m\u001B[0m \u001B[1m0s\u001B[0m 3ms/step - loss: 1.4064e-05\n",
      "Epoch 23/100\n",
      "\u001B[1m45/45\u001B[0m \u001B[32m━━━━━━━━━━━━━━━━━━━━\u001B[0m\u001B[37m\u001B[0m \u001B[1m0s\u001B[0m 3ms/step - loss: 1.2980e-05\n",
      "Epoch 24/100\n",
      "\u001B[1m45/45\u001B[0m \u001B[32m━━━━━━━━━━━━━━━━━━━━\u001B[0m\u001B[37m\u001B[0m \u001B[1m0s\u001B[0m 3ms/step - loss: 1.7012e-05\n",
      "Epoch 25/100\n",
      "\u001B[1m45/45\u001B[0m \u001B[32m━━━━━━━━━━━━━━━━━━━━\u001B[0m\u001B[37m\u001B[0m \u001B[1m0s\u001B[0m 3ms/step - loss: 1.2185e-05\n",
      "Epoch 26/100\n",
      "\u001B[1m45/45\u001B[0m \u001B[32m━━━━━━━━━━━━━━━━━━━━\u001B[0m\u001B[37m\u001B[0m \u001B[1m0s\u001B[0m 3ms/step - loss: 1.1022e-05\n",
      "Epoch 27/100\n",
      "\u001B[1m45/45\u001B[0m \u001B[32m━━━━━━━━━━━━━━━━━━━━\u001B[0m\u001B[37m\u001B[0m \u001B[1m0s\u001B[0m 4ms/step - loss: 1.3498e-05\n",
      "Epoch 28/100\n",
      "\u001B[1m45/45\u001B[0m \u001B[32m━━━━━━━━━━━━━━━━━━━━\u001B[0m\u001B[37m\u001B[0m \u001B[1m0s\u001B[0m 4ms/step - loss: 1.2469e-05\n",
      "Epoch 29/100\n",
      "\u001B[1m45/45\u001B[0m \u001B[32m━━━━━━━━━━━━━━━━━━━━\u001B[0m\u001B[37m\u001B[0m \u001B[1m0s\u001B[0m 9ms/step - loss: 1.0538e-05\n",
      "Epoch 30/100\n",
      "\u001B[1m45/45\u001B[0m \u001B[32m━━━━━━━━━━━━━━━━━━━━\u001B[0m\u001B[37m\u001B[0m \u001B[1m0s\u001B[0m 4ms/step - loss: 1.6453e-05\n",
      "Epoch 31/100\n",
      "\u001B[1m45/45\u001B[0m \u001B[32m━━━━━━━━━━━━━━━━━━━━\u001B[0m\u001B[37m\u001B[0m \u001B[1m0s\u001B[0m 8ms/step - loss: 1.1920e-05\n",
      "Epoch 32/100\n",
      "\u001B[1m45/45\u001B[0m \u001B[32m━━━━━━━━━━━━━━━━━━━━\u001B[0m\u001B[37m\u001B[0m \u001B[1m1s\u001B[0m 11ms/step - loss: 1.1557e-05\n",
      "Epoch 33/100\n",
      "\u001B[1m45/45\u001B[0m \u001B[32m━━━━━━━━━━━━━━━━━━━━\u001B[0m\u001B[37m\u001B[0m \u001B[1m0s\u001B[0m 3ms/step - loss: 1.3431e-05\n",
      "Epoch 34/100\n",
      "\u001B[1m45/45\u001B[0m \u001B[32m━━━━━━━━━━━━━━━━━━━━\u001B[0m\u001B[37m\u001B[0m \u001B[1m0s\u001B[0m 8ms/step - loss: 1.1505e-05\n",
      "Epoch 35/100\n",
      "\u001B[1m45/45\u001B[0m \u001B[32m━━━━━━━━━━━━━━━━━━━━\u001B[0m\u001B[37m\u001B[0m \u001B[1m0s\u001B[0m 4ms/step - loss: 1.1730e-05\n",
      "Epoch 36/100\n",
      "\u001B[1m45/45\u001B[0m \u001B[32m━━━━━━━━━━━━━━━━━━━━\u001B[0m\u001B[37m\u001B[0m \u001B[1m0s\u001B[0m 4ms/step - loss: 1.0328e-05\n",
      "Epoch 37/100\n",
      "\u001B[1m45/45\u001B[0m \u001B[32m━━━━━━━━━━━━━━━━━━━━\u001B[0m\u001B[37m\u001B[0m \u001B[1m0s\u001B[0m 4ms/step - loss: 1.0122e-05\n",
      "Epoch 38/100\n",
      "\u001B[1m45/45\u001B[0m \u001B[32m━━━━━━━━━━━━━━━━━━━━\u001B[0m\u001B[37m\u001B[0m \u001B[1m0s\u001B[0m 6ms/step - loss: 1.0550e-05\n",
      "Epoch 39/100\n",
      "\u001B[1m45/45\u001B[0m \u001B[32m━━━━━━━━━━━━━━━━━━━━\u001B[0m\u001B[37m\u001B[0m \u001B[1m0s\u001B[0m 4ms/step - loss: 9.0869e-06\n",
      "Epoch 40/100\n",
      "\u001B[1m45/45\u001B[0m \u001B[32m━━━━━━━━━━━━━━━━━━━━\u001B[0m\u001B[37m\u001B[0m \u001B[1m0s\u001B[0m 4ms/step - loss: 1.2058e-05\n",
      "Epoch 41/100\n",
      "\u001B[1m45/45\u001B[0m \u001B[32m━━━━━━━━━━━━━━━━━━━━\u001B[0m\u001B[37m\u001B[0m \u001B[1m1s\u001B[0m 12ms/step - loss: 9.9385e-06\n",
      "Epoch 42/100\n",
      "\u001B[1m45/45\u001B[0m \u001B[32m━━━━━━━━━━━━━━━━━━━━\u001B[0m\u001B[37m\u001B[0m \u001B[1m0s\u001B[0m 5ms/step - loss: 1.7381e-05\n",
      "Epoch 43/100\n",
      "\u001B[1m45/45\u001B[0m \u001B[32m━━━━━━━━━━━━━━━━━━━━\u001B[0m\u001B[37m\u001B[0m \u001B[1m0s\u001B[0m 6ms/step - loss: 1.0413e-05\n",
      "Epoch 44/100\n",
      "\u001B[1m45/45\u001B[0m \u001B[32m━━━━━━━━━━━━━━━━━━━━\u001B[0m\u001B[37m\u001B[0m \u001B[1m0s\u001B[0m 4ms/step - loss: 1.0604e-05\n",
      "Epoch 45/100\n",
      "\u001B[1m45/45\u001B[0m \u001B[32m━━━━━━━━━━━━━━━━━━━━\u001B[0m\u001B[37m\u001B[0m \u001B[1m0s\u001B[0m 7ms/step - loss: 1.1915e-05\n",
      "Epoch 46/100\n",
      "\u001B[1m45/45\u001B[0m \u001B[32m━━━━━━━━━━━━━━━━━━━━\u001B[0m\u001B[37m\u001B[0m \u001B[1m0s\u001B[0m 8ms/step - loss: 1.0111e-05\n",
      "Epoch 47/100\n",
      "\u001B[1m45/45\u001B[0m \u001B[32m━━━━━━━━━━━━━━━━━━━━\u001B[0m\u001B[37m\u001B[0m \u001B[1m0s\u001B[0m 8ms/step - loss: 1.0422e-05\n",
      "Epoch 48/100\n",
      "\u001B[1m45/45\u001B[0m \u001B[32m━━━━━━━━━━━━━━━━━━━━\u001B[0m\u001B[37m\u001B[0m \u001B[1m0s\u001B[0m 8ms/step - loss: 1.1318e-05\n",
      "Epoch 49/100\n",
      "\u001B[1m45/45\u001B[0m \u001B[32m━━━━━━━━━━━━━━━━━━━━\u001B[0m\u001B[37m\u001B[0m \u001B[1m0s\u001B[0m 4ms/step - loss: 1.1166e-05\n",
      "Epoch 50/100\n",
      "\u001B[1m45/45\u001B[0m \u001B[32m━━━━━━━━━━━━━━━━━━━━\u001B[0m\u001B[37m\u001B[0m \u001B[1m0s\u001B[0m 3ms/step - loss: 9.9724e-06\n",
      "Epoch 51/100\n",
      "\u001B[1m45/45\u001B[0m \u001B[32m━━━━━━━━━━━━━━━━━━━━\u001B[0m\u001B[37m\u001B[0m \u001B[1m0s\u001B[0m 4ms/step - loss: 1.0095e-05\n",
      "Epoch 52/100\n",
      "\u001B[1m45/45\u001B[0m \u001B[32m━━━━━━━━━━━━━━━━━━━━\u001B[0m\u001B[37m\u001B[0m \u001B[1m0s\u001B[0m 4ms/step - loss: 1.0016e-05\n",
      "Epoch 53/100\n",
      "\u001B[1m45/45\u001B[0m \u001B[32m━━━━━━━━━━━━━━━━━━━━\u001B[0m\u001B[37m\u001B[0m \u001B[1m0s\u001B[0m 4ms/step - loss: 9.6348e-06\n",
      "Epoch 54/100\n",
      "\u001B[1m45/45\u001B[0m \u001B[32m━━━━━━━━━━━━━━━━━━━━\u001B[0m\u001B[37m\u001B[0m \u001B[1m0s\u001B[0m 4ms/step - loss: 9.2985e-06\n",
      "Epoch 55/100\n",
      "\u001B[1m45/45\u001B[0m \u001B[32m━━━━━━━━━━━━━━━━━━━━\u001B[0m\u001B[37m\u001B[0m \u001B[1m0s\u001B[0m 4ms/step - loss: 1.3395e-05\n",
      "Epoch 56/100\n",
      "\u001B[1m45/45\u001B[0m \u001B[32m━━━━━━━━━━━━━━━━━━━━\u001B[0m\u001B[37m\u001B[0m \u001B[1m0s\u001B[0m 6ms/step - loss: 1.2674e-05\n",
      "Epoch 57/100\n",
      "\u001B[1m45/45\u001B[0m \u001B[32m━━━━━━━━━━━━━━━━━━━━\u001B[0m\u001B[37m\u001B[0m \u001B[1m1s\u001B[0m 11ms/step - loss: 1.0130e-05\n",
      "Epoch 58/100\n",
      "\u001B[1m45/45\u001B[0m \u001B[32m━━━━━━━━━━━━━━━━━━━━\u001B[0m\u001B[37m\u001B[0m \u001B[1m0s\u001B[0m 4ms/step - loss: 1.2969e-05\n",
      "Epoch 59/100\n",
      "\u001B[1m45/45\u001B[0m \u001B[32m━━━━━━━━━━━━━━━━━━━━\u001B[0m\u001B[37m\u001B[0m \u001B[1m0s\u001B[0m 4ms/step - loss: 1.1744e-05\n",
      "Epoch 60/100\n",
      "\u001B[1m45/45\u001B[0m \u001B[32m━━━━━━━━━━━━━━━━━━━━\u001B[0m\u001B[37m\u001B[0m \u001B[1m0s\u001B[0m 4ms/step - loss: 1.4131e-05\n",
      "Epoch 61/100\n",
      "\u001B[1m45/45\u001B[0m \u001B[32m━━━━━━━━━━━━━━━━━━━━\u001B[0m\u001B[37m\u001B[0m \u001B[1m0s\u001B[0m 4ms/step - loss: 8.9591e-06\n",
      "Epoch 62/100\n",
      "\u001B[1m45/45\u001B[0m \u001B[32m━━━━━━━━━━━━━━━━━━━━\u001B[0m\u001B[37m\u001B[0m \u001B[1m0s\u001B[0m 3ms/step - loss: 1.0978e-05\n",
      "Epoch 63/100\n",
      "\u001B[1m45/45\u001B[0m \u001B[32m━━━━━━━━━━━━━━━━━━━━\u001B[0m\u001B[37m\u001B[0m \u001B[1m0s\u001B[0m 4ms/step - loss: 1.1493e-05\n",
      "Epoch 64/100\n",
      "\u001B[1m45/45\u001B[0m \u001B[32m━━━━━━━━━━━━━━━━━━━━\u001B[0m\u001B[37m\u001B[0m \u001B[1m0s\u001B[0m 5ms/step - loss: 9.9352e-06\n",
      "Epoch 65/100\n",
      "\u001B[1m45/45\u001B[0m \u001B[32m━━━━━━━━━━━━━━━━━━━━\u001B[0m\u001B[37m\u001B[0m \u001B[1m0s\u001B[0m 8ms/step - loss: 1.0368e-05\n",
      "Epoch 66/100\n",
      "\u001B[1m45/45\u001B[0m \u001B[32m━━━━━━━━━━━━━━━━━━━━\u001B[0m\u001B[37m\u001B[0m \u001B[1m1s\u001B[0m 12ms/step - loss: 1.2498e-05\n",
      "Epoch 67/100\n",
      "\u001B[1m45/45\u001B[0m \u001B[32m━━━━━━━━━━━━━━━━━━━━\u001B[0m\u001B[37m\u001B[0m \u001B[1m0s\u001B[0m 5ms/step - loss: 1.3153e-05\n",
      "Epoch 68/100\n",
      "\u001B[1m45/45\u001B[0m \u001B[32m━━━━━━━━━━━━━━━━━━━━\u001B[0m\u001B[37m\u001B[0m \u001B[1m0s\u001B[0m 5ms/step - loss: 1.0224e-05\n",
      "Epoch 69/100\n",
      "\u001B[1m45/45\u001B[0m \u001B[32m━━━━━━━━━━━━━━━━━━━━\u001B[0m\u001B[37m\u001B[0m \u001B[1m0s\u001B[0m 5ms/step - loss: 1.2337e-05\n",
      "Epoch 70/100\n",
      "\u001B[1m45/45\u001B[0m \u001B[32m━━━━━━━━━━━━━━━━━━━━\u001B[0m\u001B[37m\u001B[0m \u001B[1m0s\u001B[0m 5ms/step - loss: 1.1042e-05\n",
      "Epoch 71/100\n",
      "\u001B[1m45/45\u001B[0m \u001B[32m━━━━━━━━━━━━━━━━━━━━\u001B[0m\u001B[37m\u001B[0m \u001B[1m0s\u001B[0m 5ms/step - loss: 9.7889e-06\n",
      "Epoch 72/100\n",
      "\u001B[1m45/45\u001B[0m \u001B[32m━━━━━━━━━━━━━━━━━━━━\u001B[0m\u001B[37m\u001B[0m \u001B[1m0s\u001B[0m 5ms/step - loss: 1.0965e-05\n",
      "Epoch 73/100\n",
      "\u001B[1m45/45\u001B[0m \u001B[32m━━━━━━━━━━━━━━━━━━━━\u001B[0m\u001B[37m\u001B[0m \u001B[1m0s\u001B[0m 5ms/step - loss: 1.0037e-05\n",
      "Epoch 74/100\n",
      "\u001B[1m45/45\u001B[0m \u001B[32m━━━━━━━━━━━━━━━━━━━━\u001B[0m\u001B[37m\u001B[0m \u001B[1m0s\u001B[0m 5ms/step - loss: 8.7814e-06\n",
      "Epoch 75/100\n",
      "\u001B[1m45/45\u001B[0m \u001B[32m━━━━━━━━━━━━━━━━━━━━\u001B[0m\u001B[37m\u001B[0m \u001B[1m0s\u001B[0m 5ms/step - loss: 1.1664e-05\n",
      "Epoch 76/100\n",
      "\u001B[1m45/45\u001B[0m \u001B[32m━━━━━━━━━━━━━━━━━━━━\u001B[0m\u001B[37m\u001B[0m \u001B[1m0s\u001B[0m 4ms/step - loss: 1.1283e-05\n",
      "Epoch 77/100\n",
      "\u001B[1m45/45\u001B[0m \u001B[32m━━━━━━━━━━━━━━━━━━━━\u001B[0m\u001B[37m\u001B[0m \u001B[1m0s\u001B[0m 4ms/step - loss: 7.8563e-06\n",
      "Epoch 78/100\n",
      "\u001B[1m45/45\u001B[0m \u001B[32m━━━━━━━━━━━━━━━━━━━━\u001B[0m\u001B[37m\u001B[0m \u001B[1m0s\u001B[0m 4ms/step - loss: 1.0498e-05\n",
      "Epoch 79/100\n",
      "\u001B[1m45/45\u001B[0m \u001B[32m━━━━━━━━━━━━━━━━━━━━\u001B[0m\u001B[37m\u001B[0m \u001B[1m0s\u001B[0m 4ms/step - loss: 9.9151e-06\n",
      "Epoch 80/100\n",
      "\u001B[1m45/45\u001B[0m \u001B[32m━━━━━━━━━━━━━━━━━━━━\u001B[0m\u001B[37m\u001B[0m \u001B[1m0s\u001B[0m 4ms/step - loss: 9.2159e-06\n",
      "Epoch 81/100\n",
      "\u001B[1m45/45\u001B[0m \u001B[32m━━━━━━━━━━━━━━━━━━━━\u001B[0m\u001B[37m\u001B[0m \u001B[1m0s\u001B[0m 3ms/step - loss: 9.1362e-06\n",
      "Epoch 82/100\n",
      "\u001B[1m45/45\u001B[0m \u001B[32m━━━━━━━━━━━━━━━━━━━━\u001B[0m\u001B[37m\u001B[0m \u001B[1m0s\u001B[0m 4ms/step - loss: 1.0942e-05\n",
      "Epoch 83/100\n",
      "\u001B[1m45/45\u001B[0m \u001B[32m━━━━━━━━━━━━━━━━━━━━\u001B[0m\u001B[37m\u001B[0m \u001B[1m0s\u001B[0m 6ms/step - loss: 9.8150e-06\n",
      "Epoch 84/100\n",
      "\u001B[1m45/45\u001B[0m \u001B[32m━━━━━━━━━━━━━━━━━━━━\u001B[0m\u001B[37m\u001B[0m \u001B[1m0s\u001B[0m 4ms/step - loss: 9.6242e-06\n",
      "Epoch 85/100\n",
      "\u001B[1m45/45\u001B[0m \u001B[32m━━━━━━━━━━━━━━━━━━━━\u001B[0m\u001B[37m\u001B[0m \u001B[1m0s\u001B[0m 8ms/step - loss: 1.0083e-05\n",
      "Epoch 86/100\n",
      "\u001B[1m45/45\u001B[0m \u001B[32m━━━━━━━━━━━━━━━━━━━━\u001B[0m\u001B[37m\u001B[0m \u001B[1m1s\u001B[0m 10ms/step - loss: 1.1609e-05\n",
      "Epoch 87/100\n",
      "\u001B[1m45/45\u001B[0m \u001B[32m━━━━━━━━━━━━━━━━━━━━\u001B[0m\u001B[37m\u001B[0m \u001B[1m0s\u001B[0m 5ms/step - loss: 9.4535e-06\n",
      "Epoch 88/100\n",
      "\u001B[1m45/45\u001B[0m \u001B[32m━━━━━━━━━━━━━━━━━━━━\u001B[0m\u001B[37m\u001B[0m \u001B[1m0s\u001B[0m 5ms/step - loss: 1.0915e-05\n",
      "Epoch 89/100\n",
      "\u001B[1m45/45\u001B[0m \u001B[32m━━━━━━━━━━━━━━━━━━━━\u001B[0m\u001B[37m\u001B[0m \u001B[1m0s\u001B[0m 5ms/step - loss: 9.7412e-06\n",
      "Epoch 90/100\n",
      "\u001B[1m45/45\u001B[0m \u001B[32m━━━━━━━━━━━━━━━━━━━━\u001B[0m\u001B[37m\u001B[0m \u001B[1m0s\u001B[0m 5ms/step - loss: 9.6912e-06\n",
      "Epoch 91/100\n",
      "\u001B[1m45/45\u001B[0m \u001B[32m━━━━━━━━━━━━━━━━━━━━\u001B[0m\u001B[37m\u001B[0m \u001B[1m0s\u001B[0m 4ms/step - loss: 1.1072e-05\n",
      "Epoch 92/100\n",
      "\u001B[1m45/45\u001B[0m \u001B[32m━━━━━━━━━━━━━━━━━━━━\u001B[0m\u001B[37m\u001B[0m \u001B[1m0s\u001B[0m 3ms/step - loss: 9.6231e-06\n",
      "Epoch 93/100\n",
      "\u001B[1m45/45\u001B[0m \u001B[32m━━━━━━━━━━━━━━━━━━━━\u001B[0m\u001B[37m\u001B[0m \u001B[1m0s\u001B[0m 6ms/step - loss: 9.3432e-06\n",
      "Epoch 94/100\n",
      "\u001B[1m45/45\u001B[0m \u001B[32m━━━━━━━━━━━━━━━━━━━━\u001B[0m\u001B[37m\u001B[0m \u001B[1m1s\u001B[0m 12ms/step - loss: 1.0530e-05\n",
      "Epoch 95/100\n",
      "\u001B[1m45/45\u001B[0m \u001B[32m━━━━━━━━━━━━━━━━━━━━\u001B[0m\u001B[37m\u001B[0m \u001B[1m0s\u001B[0m 6ms/step - loss: 1.2937e-05\n",
      "Epoch 96/100\n",
      "\u001B[1m45/45\u001B[0m \u001B[32m━━━━━━━━━━━━━━━━━━━━\u001B[0m\u001B[37m\u001B[0m \u001B[1m0s\u001B[0m 4ms/step - loss: 9.9485e-06\n",
      "Epoch 97/100\n",
      "\u001B[1m45/45\u001B[0m \u001B[32m━━━━━━━━━━━━━━━━━━━━\u001B[0m\u001B[37m\u001B[0m \u001B[1m0s\u001B[0m 4ms/step - loss: 1.0992e-05\n",
      "Epoch 98/100\n",
      "\u001B[1m45/45\u001B[0m \u001B[32m━━━━━━━━━━━━━━━━━━━━\u001B[0m\u001B[37m\u001B[0m \u001B[1m0s\u001B[0m 5ms/step - loss: 1.2685e-05\n",
      "Epoch 99/100\n",
      "\u001B[1m45/45\u001B[0m \u001B[32m━━━━━━━━━━━━━━━━━━━━\u001B[0m\u001B[37m\u001B[0m \u001B[1m0s\u001B[0m 4ms/step - loss: 8.8085e-06\n",
      "Epoch 100/100\n",
      "\u001B[1m45/45\u001B[0m \u001B[32m━━━━━━━━━━━━━━━━━━━━\u001B[0m\u001B[37m\u001B[0m \u001B[1m0s\u001B[0m 5ms/step - loss: 1.0784e-05\n"
     ]
    },
    {
     "data": {
      "text/plain": [
       "<keras.src.callbacks.history.History at 0x7f9d345b1c70>"
      ]
     },
     "execution_count": 25,
     "metadata": {},
     "output_type": "execute_result"
    }
   ],
   "execution_count": 25
  },
  {
   "metadata": {
    "ExecuteTime": {
     "end_time": "2025-09-27T07:11:04.182146Z",
     "start_time": "2025-09-27T07:11:04.162698Z"
    }
   },
   "cell_type": "code",
   "source": "model.summary()",
   "id": "71bb87c8bd9e60c7",
   "outputs": [
    {
     "data": {
      "text/plain": [
       "\u001B[1mModel: \"sequential_1\"\u001B[0m\n"
      ],
      "text/html": [
       "<pre style=\"white-space:pre;overflow-x:auto;line-height:normal;font-family:Menlo,'DejaVu Sans Mono',consolas,'Courier New',monospace\"><span style=\"font-weight: bold\">Model: \"sequential_1\"</span>\n",
       "</pre>\n"
      ]
     },
     "metadata": {},
     "output_type": "display_data",
     "jetTransient": {
      "display_id": null
     }
    },
    {
     "data": {
      "text/plain": [
       "┏━━━━━━━━━━━━━━━━━━━━━━━━━━━━━━━━━┳━━━━━━━━━━━━━━━━━━━━━━━━┳━━━━━━━━━━━━━━━┓\n",
       "┃\u001B[1m \u001B[0m\u001B[1mLayer (type)                   \u001B[0m\u001B[1m \u001B[0m┃\u001B[1m \u001B[0m\u001B[1mOutput Shape          \u001B[0m\u001B[1m \u001B[0m┃\u001B[1m \u001B[0m\u001B[1m      Param #\u001B[0m\u001B[1m \u001B[0m┃\n",
       "┡━━━━━━━━━━━━━━━━━━━━━━━━━━━━━━━━━╇━━━━━━━━━━━━━━━━━━━━━━━━╇━━━━━━━━━━━━━━━┩\n",
       "│ lstm (\u001B[38;5;33mLSTM\u001B[0m)                     │ (\u001B[38;5;45mNone\u001B[0m, \u001B[38;5;34m256\u001B[0m)            │       \u001B[38;5;34m273,408\u001B[0m │\n",
       "├─────────────────────────────────┼────────────────────────┼───────────────┤\n",
       "│ dropout_4 (\u001B[38;5;33mDropout\u001B[0m)             │ (\u001B[38;5;45mNone\u001B[0m, \u001B[38;5;34m256\u001B[0m)            │             \u001B[38;5;34m0\u001B[0m │\n",
       "├─────────────────────────────────┼────────────────────────┼───────────────┤\n",
       "│ dense_1 (\u001B[38;5;33mDense\u001B[0m)                 │ (\u001B[38;5;45mNone\u001B[0m, \u001B[38;5;34m1\u001B[0m)              │           \u001B[38;5;34m257\u001B[0m │\n",
       "└─────────────────────────────────┴────────────────────────┴───────────────┘\n"
      ],
      "text/html": [
       "<pre style=\"white-space:pre;overflow-x:auto;line-height:normal;font-family:Menlo,'DejaVu Sans Mono',consolas,'Courier New',monospace\">┏━━━━━━━━━━━━━━━━━━━━━━━━━━━━━━━━━┳━━━━━━━━━━━━━━━━━━━━━━━━┳━━━━━━━━━━━━━━━┓\n",
       "┃<span style=\"font-weight: bold\"> Layer (type)                    </span>┃<span style=\"font-weight: bold\"> Output Shape           </span>┃<span style=\"font-weight: bold\">       Param # </span>┃\n",
       "┡━━━━━━━━━━━━━━━━━━━━━━━━━━━━━━━━━╇━━━━━━━━━━━━━━━━━━━━━━━━╇━━━━━━━━━━━━━━━┩\n",
       "│ lstm (<span style=\"color: #0087ff; text-decoration-color: #0087ff\">LSTM</span>)                     │ (<span style=\"color: #00d7ff; text-decoration-color: #00d7ff\">None</span>, <span style=\"color: #00af00; text-decoration-color: #00af00\">256</span>)            │       <span style=\"color: #00af00; text-decoration-color: #00af00\">273,408</span> │\n",
       "├─────────────────────────────────┼────────────────────────┼───────────────┤\n",
       "│ dropout_4 (<span style=\"color: #0087ff; text-decoration-color: #0087ff\">Dropout</span>)             │ (<span style=\"color: #00d7ff; text-decoration-color: #00d7ff\">None</span>, <span style=\"color: #00af00; text-decoration-color: #00af00\">256</span>)            │             <span style=\"color: #00af00; text-decoration-color: #00af00\">0</span> │\n",
       "├─────────────────────────────────┼────────────────────────┼───────────────┤\n",
       "│ dense_1 (<span style=\"color: #0087ff; text-decoration-color: #0087ff\">Dense</span>)                 │ (<span style=\"color: #00d7ff; text-decoration-color: #00d7ff\">None</span>, <span style=\"color: #00af00; text-decoration-color: #00af00\">1</span>)              │           <span style=\"color: #00af00; text-decoration-color: #00af00\">257</span> │\n",
       "└─────────────────────────────────┴────────────────────────┴───────────────┘\n",
       "</pre>\n"
      ]
     },
     "metadata": {},
     "output_type": "display_data",
     "jetTransient": {
      "display_id": null
     }
    },
    {
     "data": {
      "text/plain": [
       "\u001B[1m Total params: \u001B[0m\u001B[38;5;34m820,997\u001B[0m (3.13 MB)\n"
      ],
      "text/html": [
       "<pre style=\"white-space:pre;overflow-x:auto;line-height:normal;font-family:Menlo,'DejaVu Sans Mono',consolas,'Courier New',monospace\"><span style=\"font-weight: bold\"> Total params: </span><span style=\"color: #00af00; text-decoration-color: #00af00\">820,997</span> (3.13 MB)\n",
       "</pre>\n"
      ]
     },
     "metadata": {},
     "output_type": "display_data",
     "jetTransient": {
      "display_id": null
     }
    },
    {
     "data": {
      "text/plain": [
       "\u001B[1m Trainable params: \u001B[0m\u001B[38;5;34m273,665\u001B[0m (1.04 MB)\n"
      ],
      "text/html": [
       "<pre style=\"white-space:pre;overflow-x:auto;line-height:normal;font-family:Menlo,'DejaVu Sans Mono',consolas,'Courier New',monospace\"><span style=\"font-weight: bold\"> Trainable params: </span><span style=\"color: #00af00; text-decoration-color: #00af00\">273,665</span> (1.04 MB)\n",
       "</pre>\n"
      ]
     },
     "metadata": {},
     "output_type": "display_data",
     "jetTransient": {
      "display_id": null
     }
    },
    {
     "data": {
      "text/plain": [
       "\u001B[1m Non-trainable params: \u001B[0m\u001B[38;5;34m0\u001B[0m (0.00 B)\n"
      ],
      "text/html": [
       "<pre style=\"white-space:pre;overflow-x:auto;line-height:normal;font-family:Menlo,'DejaVu Sans Mono',consolas,'Courier New',monospace\"><span style=\"font-weight: bold\"> Non-trainable params: </span><span style=\"color: #00af00; text-decoration-color: #00af00\">0</span> (0.00 B)\n",
       "</pre>\n"
      ]
     },
     "metadata": {},
     "output_type": "display_data",
     "jetTransient": {
      "display_id": null
     }
    },
    {
     "data": {
      "text/plain": [
       "\u001B[1m Optimizer params: \u001B[0m\u001B[38;5;34m547,332\u001B[0m (2.09 MB)\n"
      ],
      "text/html": [
       "<pre style=\"white-space:pre;overflow-x:auto;line-height:normal;font-family:Menlo,'DejaVu Sans Mono',consolas,'Courier New',monospace\"><span style=\"font-weight: bold\"> Optimizer params: </span><span style=\"color: #00af00; text-decoration-color: #00af00\">547,332</span> (2.09 MB)\n",
       "</pre>\n"
      ]
     },
     "metadata": {},
     "output_type": "display_data",
     "jetTransient": {
      "display_id": null
     }
    }
   ],
   "execution_count": 26
  },
  {
   "metadata": {},
   "cell_type": "markdown",
   "source": "### prediction and visualization",
   "id": "1405864a1426e81d"
  },
  {
   "metadata": {
    "ExecuteTime": {
     "end_time": "2025-09-27T07:11:05.021633Z",
     "start_time": "2025-09-27T07:11:04.392531Z"
    }
   },
   "cell_type": "code",
   "source": [
    "trainPredict = model.predict(trainX)\n",
    "testPredict = model.predict(testX)\n",
    "\n",
    "# invert predictions\n",
    "trainPredict = scaler.inverse_transform(trainPredict)\n",
    "trainY_ = scaler.inverse_transform([trainY])\n",
    "testPredict = scaler.inverse_transform(testPredict)\n",
    "testY_ = scaler.inverse_transform([testY])\n",
    "\n",
    "# calculate root mean squared error\n",
    "trainscore = math.sqrt(mean_squared_error(trainY_[0], trainPredict[:, 0]))\n",
    "print(\"Train Score: %.2f RMSE\" % (trainscore))\n",
    "testscore = math.sqrt(mean_squared_error(testY_[0], testPredict[:, 0]))\n",
    "print(\"Test Score: %.2f RMSE\" % (testscore))"
   ],
   "id": "d75e7f25a33e2741",
   "outputs": [
    {
     "name": "stdout",
     "output_type": "stream",
     "text": [
      "\u001B[1m71/71\u001B[0m \u001B[32m━━━━━━━━━━━━━━━━━━━━\u001B[0m\u001B[37m\u001B[0m \u001B[1m0s\u001B[0m 3ms/step\n",
      "\u001B[1m71/71\u001B[0m \u001B[32m━━━━━━━━━━━━━━━━━━━━\u001B[0m\u001B[37m\u001B[0m \u001B[1m0s\u001B[0m 1ms/step\n",
      "Train Score: 202.03 RMSE\n",
      "Test Score: 4026.77 RMSE\n"
     ]
    }
   ],
   "execution_count": 27
  },
  {
   "metadata": {
    "ExecuteTime": {
     "end_time": "2025-09-27T07:11:05.393019Z",
     "start_time": "2025-09-27T07:11:05.026188Z"
    }
   },
   "cell_type": "code",
   "source": [
    "# Visualising\n",
    "plt.plot(scaler.inverse_transform(data_scaled), color = 'red', label = 'Real Bitcoin Price')\n",
    "plt.plot(testPredictPlot, color = 'blue', label = 'Predicted Bitcoin Price')\n",
    "plt.title('Bitcoin Price Prediction')\n",
    "plt.xlabel('Time')\n",
    "plt.ylabel('Bitcoin Price')\n",
    "plt.legend()\n",
    "plt.show()"
   ],
   "id": "b74db706897d4f9d",
   "outputs": [
    {
     "ename": "NameError",
     "evalue": "name 'testPredictPlot' is not defined",
     "output_type": "error",
     "traceback": [
      "\u001B[31m---------------------------------------------------------------------------\u001B[39m",
      "\u001B[31mNameError\u001B[39m                                 Traceback (most recent call last)",
      "\u001B[36mCell\u001B[39m\u001B[36m \u001B[39m\u001B[32mIn[28]\u001B[39m\u001B[32m, line 3\u001B[39m\n\u001B[32m      1\u001B[39m \u001B[38;5;66;03m# Visualising the results\u001B[39;00m\n\u001B[32m      2\u001B[39m plt.plot(scaler.inverse_transform(data_scaled), color = \u001B[33m'\u001B[39m\u001B[33mred\u001B[39m\u001B[33m'\u001B[39m, label = \u001B[33m'\u001B[39m\u001B[33mReal Bitcoin Price\u001B[39m\u001B[33m'\u001B[39m)\n\u001B[32m----> \u001B[39m\u001B[32m3\u001B[39m plt.plot(\u001B[43mtestPredictPlot\u001B[49m, color = \u001B[33m'\u001B[39m\u001B[33mblue\u001B[39m\u001B[33m'\u001B[39m, label = \u001B[33m'\u001B[39m\u001B[33mPredicted Bitcoin Price\u001B[39m\u001B[33m'\u001B[39m)\n\u001B[32m      4\u001B[39m plt.title(\u001B[33m'\u001B[39m\u001B[33mBitcoin Price Prediction\u001B[39m\u001B[33m'\u001B[39m)\n\u001B[32m      5\u001B[39m plt.xlabel(\u001B[33m'\u001B[39m\u001B[33mTime\u001B[39m\u001B[33m'\u001B[39m)\n",
      "\u001B[31mNameError\u001B[39m: name 'testPredictPlot' is not defined"
     ]
    },
    {
     "data": {
      "text/plain": [
       "<Figure size 640x480 with 1 Axes>"
      ],
      "image/png": "[encoded data removed]"
     },
     "metadata": {},
     "output_type": "display_data",
     "jetTransient": {
      "display_id": null
     }
    }
   ],
   "execution_count": 28
  }
 ],
 "metadata": {
  "kernelspec": {
   "display_name": "Python 3",
   "language": "python",
   "name": "python3"
  },
  "language_info": {
   "codemirror_mode": {
    "name": "ipython",
    "version": 2
   },
   "file_extension": ".py",
   "mimetype": "text/x-python",
   "name": "python",
   "nbconvert_exporter": "python",
   "pygments_lexer": "ipython2",
   "version": "2.7.6"
  }
 },
 "nbformat": 4,
 "nbformat_minor": 5
}
